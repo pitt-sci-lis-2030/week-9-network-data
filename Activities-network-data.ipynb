{
 "cells": [
  {
   "cell_type": "markdown",
   "metadata": {},
   "source": [
    "# Network Data Activities -- APIs!!"
   ]
  },
  {
   "cell_type": "markdown",
   "metadata": {},
   "source": [
    "Remember, web calls are made using the requests package:\n",
    "\n",
    "https://www.w3schools.com/python/ref_requests_get.asp\n",
    "\n",
    "This is are, in fact, just webcalls.  We can use it to access *any website*."
   ]
  },
  {
   "cell_type": "code",
   "execution_count": 1,
   "metadata": {},
   "outputs": [
    {
     "name": "stdout",
     "output_type": "stream",
     "text": [
      "404\n"
     ]
    }
   ],
   "source": [
    "import requests\n",
    "\n",
    "response = requests.get(\"http://sci.pitt.edu/this-api-doesnt-exist\")\n",
    "\n",
    "print(response.status_code)"
   ]
  },
  {
   "cell_type": "code",
   "execution_count": 2,
   "metadata": {
    "collapsed": true,
    "jupyter": {
     "outputs_hidden": true
    },
    "tags": []
   },
   "outputs": [
    {
     "name": "stdout",
     "output_type": "stream",
     "text": [
      "b'<!DOCTYPE html>\\n<html lang=\"en\" dir=\"ltr\" prefix=\"og: http://ogp.me/ns# content: http://purl.org/rss/1.0/modules/content/ dc: http://purl.org/dc/terms/ foaf: http://xmlns.com/foaf/0.1/ rdfs: http://www.w3.org/2000/01/rdf-schema# sioc: http://rdfs.org/sioc/ns# sioct: http://rdfs.org/sioc/types# skos: http://www.w3.org/2004/02/skos/core# xsd: http://www.w3.org/2001/XMLSchema#\">\\n<head>\\n  <meta charset=\"utf-8\">\\n  <meta name=\"viewport\" content=\"width=device-width, initial-scale=1.0\">\\n  <meta http-equiv=\"X-UA-Compatible\" content=\"IE=edge\" />\\n  <meta http-equiv=\"X-UA-Compatible\" content=\"IE=edge\" />\\n<meta http-equiv=\"Content-Type\" content=\"text/html; charset=utf-8\" />\\n<meta name=\"msapplication-TileColor\" content=\"#2b5797\"/>\\r\\n<meta name=\"msapplication-config\" content=\"/sites/default/files/favicons/browserconfig.xml\"/>\\r\\n<meta name=\"theme-color\" content=\"#1c2957\"/>\\r\\n<meta name=\"description\" content=\"The University of Pittsburgh is among the nation&#039;s most distinguished comprehensive universities, with a wide variety of high-quality programs in both the arts and sciences and professional fields.\" />\\n<meta name=\"keywords\" content=\"University, Pittsburgh, Pitt, College, Learning, Research, Students, Undergraduate, Graduate\" />\\n<meta name=\"generator\" content=\"Drupal 7 (http://drupal.org)\" />\\n<link rel=\"canonical\" href=\"https://www.sci.pitt.edu/\" />\\n<link rel=\"shortlink\" href=\"https://www.sci.pitt.edu/\" />\\n<meta property=\"og:type\" content=\"website\" />\\n<meta property=\"og:url\" content=\"https://www.sci.pitt.edu/\" />\\n<meta property=\"og:title\" content=\"School of Computing and Information\" />\\n<meta name=\"twitter:url\" content=\"https://www.sci.pitt.edu/\" />\\n<meta name=\"twitter:title\" content=\"School of Computing and Information\" />\\n  <title>Page not Found | School of Computing and Information | University of Pittsburgh | University of Pittsburgh</title>\\n  <link type=\"text/css\" rel=\"stylesheet\" href=\"/sites/default/files/css/css_lQaZfjVpwP_oGNqdtWCSpJT1EMqXdMiU84ekLLxQnc4.css\" media=\"all\" />\\n<link type=\"text/css\" rel=\"stylesheet\" href=\"/sites/default/files/css/css_vSJGqDlgDxzL_lHslyYK0JbaIwEdUqP87W4bGT0LHA4.css\" media=\"all\" />\\n<link type=\"text/css\" rel=\"stylesheet\" href=\"/sites/default/files/css/css_yNI9Cch8AM_BaaKzWgijp6JnIBjZAG8gIIMVYfeiDf0.css\" media=\"all\" />\\n<link type=\"text/css\" rel=\"stylesheet\" href=\"https://cdn.jsdelivr.net/npm/bootstrap@3.3.7/dist/css/bootstrap.min.css\" media=\"all\" />\\n<link type=\"text/css\" rel=\"stylesheet\" href=\"https://cdn.jsdelivr.net/npm/@unicorn-fail/drupal-bootstrap-styles@0.0.2/dist/3.3.1/7.x-3.x/drupal-bootstrap.min.css\" media=\"all\" />\\n<link type=\"text/css\" rel=\"stylesheet\" href=\"/sites/default/files/css/css_Xkz4sYA9Er83gZCUYYqKFOEi1tW2YZv4K8HLvaaVWh4.css\" media=\"all\" />\\n  <!-- HTML5 element support for IE6-8 -->\\n  <!--[if lt IE 9]>\\n    <script src=\"//html5shiv.googlecode.com/svn/trunk/html5.js\"></script>\\n  <![endif]-->\\n\\n  <script src=\"//code.jquery.com/jquery-1.9.1.js\"></script>\\n<script>window.jQuery || document.write(\"<script src=\\'/sites/all/modules/jquery_update/replace/jquery/1.9/jquery.js\\'>\\\\x3C/script>\")</script>\\n<script src=\"/sites/default/files/js/js_uJR3Qfgc-bGacxkh36HU9Xm2Q98e_V5UWlFISwie5ro.js\"></script>\\n<script src=\"https://cdn.jsdelivr.net/npm/bootstrap@3.3.7/dist/js/bootstrap.min.js\"></script>\\n<script src=\"/sites/default/files/js/js_6N0jURX2kG0IS4OfOJj0pvsZlTuD4P4CL1G1mrdaZVU.js\"></script>\\n<script src=\"//pitt.edu/webtrends/webtrends.load.js\"></script>\\n<script src=\"/sites/default/files/js/js_u7YAYh6KODNB4W6KMc8DHXEWfbO09JXIAUMrxxAKePA.js\"></script>\\n<script>(function(i,s,o,g,r,a,m){i[\"GoogleAnalyticsObject\"]=r;i[r]=i[r]||function(){(i[r].q=i[r].q||[]).push(arguments)},i[r].l=1*new Date();a=s.createElement(o),m=s.getElementsByTagName(o)[0];a.async=1;a.src=g;m.parentNode.insertBefore(a,m)})(window,document,\"script\",\"https://www.google-analytics.com/analytics.js\",\"ga\");ga(\"create\", \"UA-177390198-1\", {\"cookieDomain\":\"auto\"});ga(\"set\", \"anonymizeIp\", true);ga(\"set\", \"page\", \"/404.html?page=\" + document.location.pathname + document.location.search + \"&from=\" + document.referrer);ga(\"send\", \"pageview\");</script>\\n<script src=\"/sites/default/files/js/js_NM8DWyIVCRn_mG-mF1yZl4a5W3u0W3OjbBBEjFN6HLE.js\"></script>\\n<script>jQuery.extend(Drupal.settings, {\"basePath\":\"\\\\/\",\"pathPrefix\":\"\",\"ajaxPageState\":{\"theme\":\"pitt_theme_spirit\",\"theme_token\":\"7wYmnjSG2Fsbu_qTX1IQDFhK_zertj5_QZMn0BkutVE\",\"js\":{\"sites\\\\/all\\\\/themes\\\\/bootstrap\\\\/js\\\\/bootstrap.js\":1,\"\\\\/\\\\/code.jquery.com\\\\/jquery-1.9.1.js\":1,\"0\":1,\"misc\\\\/jquery-extend-3.4.0.js\":1,\"misc\\\\/jquery-html-prefilter-3.5.0-backport.js\":1,\"misc\\\\/jquery.once.js\":1,\"misc\\\\/drupal.js\":1,\"https:\\\\/\\\\/cdn.jsdelivr.net\\\\/npm\\\\/bootstrap@3.3.7\\\\/dist\\\\/js\\\\/bootstrap.min.js\":1,\"sites\\\\/all\\\\/modules\\\\/ckeditor_accordion\\\\/js\\\\/ckeditor-accordion.js\":1,\"sites\\\\/all\\\\/modules\\\\/google_cse\\\\/google_cse.js\":1,\"\\\\/\\\\/pitt.edu\\\\/webtrends\\\\/webtrends.load.js\":1,\"sites\\\\/all\\\\/libraries\\\\/jquery-actual\\\\/jquery.actual.min.js\":1,\"sites\\\\/all\\\\/modules\\\\/edu_pitt_sci_acalog\\\\/js\\\\/edu_pitt_sci_acalog.js\":1,\"sites\\\\/all\\\\/modules\\\\/fancybox\\\\/fancybox.js\":1,\"sites\\\\/all\\\\/libraries\\\\/fancybox\\\\/source\\\\/jquery.fancybox.pack.js\":1,\"sites\\\\/all\\\\/libraries\\\\/fancybox\\\\/lib\\\\/jquery.mousewheel.pack.js\":1,\"sites\\\\/all\\\\/modules\\\\/jcaption\\\\/jcaption.js\":1,\"sites\\\\/all\\\\/modules\\\\/google_analytics\\\\/googleanalytics.js\":1,\"1\":1,\"sites\\\\/all\\\\/themes\\\\/pitt_theme_spirit\\\\/bootstrap\\\\/js\\\\/affix.js\":1,\"sites\\\\/all\\\\/themes\\\\/pitt_theme_spirit\\\\/bootstrap\\\\/js\\\\/alert.js\":1,\"sites\\\\/all\\\\/themes\\\\/pitt_theme_spirit\\\\/bootstrap\\\\/js\\\\/button.js\":1,\"sites\\\\/all\\\\/themes\\\\/pitt_theme_spirit\\\\/bootstrap\\\\/js\\\\/carousel.js\":1,\"sites\\\\/all\\\\/themes\\\\/pitt_theme_spirit\\\\/bootstrap\\\\/js\\\\/collapse.js\":1,\"sites\\\\/all\\\\/themes\\\\/pitt_theme_spirit\\\\/bootstrap\\\\/js\\\\/dropdown.js\":1,\"sites\\\\/all\\\\/themes\\\\/pitt_theme_spirit\\\\/bootstrap\\\\/js\\\\/modal.js\":1,\"sites\\\\/all\\\\/themes\\\\/pitt_theme_spirit\\\\/bootstrap\\\\/js\\\\/tooltip.js\":1,\"sites\\\\/all\\\\/themes\\\\/pitt_theme_spirit\\\\/bootstrap\\\\/js\\\\/popover.js\":1,\"sites\\\\/all\\\\/themes\\\\/pitt_theme_spirit\\\\/bootstrap\\\\/js\\\\/scrollspy.js\":1,\"sites\\\\/all\\\\/themes\\\\/pitt_theme_spirit\\\\/bootstrap\\\\/js\\\\/tab.js\":1,\"sites\\\\/all\\\\/themes\\\\/pitt_theme_spirit\\\\/bootstrap\\\\/js\\\\/transition.js\":1,\"sites\\\\/all\\\\/themes\\\\/pitt_theme_spirit\\\\/js\\\\/script.js\":1,\"sites\\\\/all\\\\/themes\\\\/pitt_theme_spirit\\\\/js\\\\/search.js\":1,\"sites\\\\/all\\\\/themes\\\\/pitt_theme_spirit\\\\/js\\\\/nav.js\":1},\"css\":{\"modules\\\\/system\\\\/system.base.css\":1,\"sites\\\\/all\\\\/modules\\\\/entity\\\\/ldap\\\\/ldap_user\\\\/ldap_user.css\":1,\"sites\\\\/all\\\\/modules\\\\/calendar\\\\/css\\\\/calendar_multiday.css\":1,\"sites\\\\/all\\\\/modules\\\\/ckeditor_accordion\\\\/css\\\\/ckeditor-accordion.css\":1,\"sites\\\\/all\\\\/modules\\\\/date\\\\/date_api\\\\/date.css\":1,\"sites\\\\/all\\\\/modules\\\\/date\\\\/date_popup\\\\/themes\\\\/datepicker.1.7.css\":1,\"modules\\\\/field\\\\/theme\\\\/field.css\":1,\"sites\\\\/all\\\\/modules\\\\/google_cse\\\\/google_cse.css\":1,\"modules\\\\/node\\\\/node.css\":1,\"sites\\\\/all\\\\/modules\\\\/siteimprove\\\\/css\\\\/siteimprove.css\":1,\"sites\\\\/all\\\\/modules\\\\/entity\\\\/views\\\\/css\\\\/views.css\":1,\"sites\\\\/all\\\\/modules\\\\/ckeditor\\\\/css\\\\/ckeditor.css\":1,\"sites\\\\/all\\\\/modules\\\\/ctools\\\\/css\\\\/ctools.css\":1,\"sites\\\\/all\\\\/libraries\\\\/fancybox\\\\/source\\\\/jquery.fancybox.css\":1,\"sites\\\\/all\\\\/modules\\\\/entity\\\\/ldap\\\\/ldap_servers\\\\/ldap_servers.admin.css\":1,\"https:\\\\/\\\\/cdn.jsdelivr.net\\\\/npm\\\\/bootstrap@3.3.7\\\\/dist\\\\/css\\\\/bootstrap.min.css\":1,\"https:\\\\/\\\\/cdn.jsdelivr.net\\\\/npm\\\\/@unicorn-fail\\\\/drupal-bootstrap-styles@0.0.2\\\\/dist\\\\/3.3.1\\\\/7.x-3.x\\\\/drupal-bootstrap.min.css\":1,\"sites\\\\/all\\\\/themes\\\\/pitt_theme_spirit\\\\/fonts\\\\/css\\\\/fontawsome.min.css\":1,\"sites\\\\/all\\\\/themes\\\\/pitt_theme_spirit\\\\/fonts\\\\/css\\\\/all.css\":1,\"sites\\\\/all\\\\/themes\\\\/pitt_theme_spirit\\\\/fonts\\\\/css\\\\/light.min.css\":1,\"sites\\\\/all\\\\/themes\\\\/pitt_theme_spirit\\\\/fonts\\\\/css\\\\/brands.min.css\":1,\"sites\\\\/all\\\\/themes\\\\/pitt_theme_spirit\\\\/fonts\\\\/cooper.css\":1,\"sites\\\\/all\\\\/themes\\\\/pitt_theme_spirit\\\\/less\\\\/style.less\":1}},\"fancybox\":{\"selectors\":[\"a.fancybox\"]},\"googleCSE\":{\"cx\":\"d0d541f149397d615\",\"language\":\"\",\"resultsWidth\":600,\"domain\":\"www.google.com\",\"showWaterMark\":1},\"jcaption\":{\"jcaption_selectors\":[\".region-content article img\"],\"jcaption_alt_title\":\"title\",\"jcaption_requireText\":1,\"jcaption_copyStyle\":0,\"jcaption_removeStyle\":0,\"jcaption_removeClass\":0,\"jcaption_removeAlign\":1,\"jcaption_copyAlignmentToClass\":0,\"jcaption_copyFloatToClass\":1,\"jcaption_copyClassToClass\":0,\"jcaption_autoWidth\":1,\"jcaption_keepLink\":0,\"jcaption_styleMarkup\":\"\",\"jcaption_animate\":0,\"jcaption_showDuration\":\"200\",\"jcaption_hideDuration\":\"200\"},\"better_exposed_filters\":{\"views\":{\"title_block\":{\"displays\":{\"header_title_block\":{\"filters\":[]},\"footer_title_block\":{\"filters\":[]},\"block_3\":{\"filters\":[]}}},\"social_media_icons\":{\"displays\":{\"footer_social_block\":{\"filters\":[]}}}}},\"ckeditor_accordion\":{\"collapseAll\":1},\"googleanalytics\":{\"trackOutbound\":1,\"trackMailto\":1,\"trackDownload\":1,\"trackDownloadExtensions\":\"7z|aac|arc|arj|asf|asx|avi|bin|csv|doc(x|m)?|dot(x|m)?|exe|flv|gif|gz|gzip|hqx|jar|jpe?g|js|mp(2|3|4|e?g)|mov(ie)?|msi|msp|pdf|phps|png|ppt(x|m)?|pot(x|m)?|pps(x|m)?|ppam|sld(x|m)?|thmx|qtm?|ra(m|r)?|sea|sit|tar|tgz|torrent|txt|wav|wma|wmv|wpd|xls(x|m|b)?|xlt(x|m)|xlam|xml|z|zip\"},\"urlIsAjaxTrusted\":{\"\\\\/this-api-doesnt-exist\":true},\"bootstrap\":{\"anchorsFix\":\"0\",\"anchorsSmoothScrolling\":\"0\",\"formHasError\":1,\"popoverEnabled\":1,\"popoverOptions\":{\"animation\":1,\"html\":0,\"placement\":\"right\",\"selector\":\"\",\"trigger\":\"click\",\"triggerAutoclose\":1,\"title\":\"\",\"content\":\"\",\"delay\":0,\"container\":\"body\"},\"tooltipEnabled\":1,\"tooltipOptions\":{\"animation\":1,\"html\":0,\"placement\":\"auto left\",\"selector\":\"\",\"trigger\":\"hover focus\",\"delay\":0,\"container\":\"body\"}}});</script>\\n\\n</head>\\n\\n<body class=\"html not-front not-logged-in no-sidebars page-node page-node- page-node-3 node-type-page pitt_dark\" >\\n  <div id=\"skip-link\" role=\"navigation\">\\n    <a href=\"#main-content\" class=\"element-invisible element-focusable\">Skip to main content</a>\\n  </div>\\n    \\n\\n<div id=\"pittbar\" role=\"banner\">\\n  <div class=\"container\">\\n          <div class=\"secondary-links\">\\n\\t\\t<div id=\"secondary-nav-prefix\">Information for:</div>\\n\\t\\t<nav role=\"navigation\">\\n\\t\\t  <ul class=\"menu nav navbar-nav secondary\"><li class=\"first leaf\"><a href=\"/information-faculty-staff\" title=\"\">Faculty &amp; Staff</a></li>\\n<li class=\"leaf\"><a href=\"/recruiting\" title=\"\">Prospective Faculty</a></li>\\n<li class=\"leaf\"><a href=\"/prospective-students\" title=\"\">Prospective Students</a></li>\\n<li class=\"leaf\"><a href=\"/alumni\" title=\"\">Alumni</a></li>\\n<li class=\"last leaf\"><a href=\"/partnership\" title=\"\">Partners</a></li>\\n</ul>\\t\\t</nav>\\n      </div>\\n          </div>\\n</div>\\n\\n    \\n\\n<div class=\"header_wrapper\">\\n  \\n<div class=\"container hb\">\\n\\n  <div class=\"row\">\\n    <div class=\"col-xs-12 col-sm-12 col-md-10 logo_space\">\\n      <div class=\"pitt_shield\">\\n        <a href=\"http://www.pitt.edu\">    \\n          <img src=\"/sites/all/themes/pitt_theme_spirit/img/pitt_shield_white.png\" width=\"261\" alt=\"University of Pittsburgh logo\" />\\n        </a>\\n      </div>\\n      <div class=\"site_title_wrapper\">\\n                    <div class=\"region region-logo\">\\n    <section aria-label=\"\" id=\"block-views-title-block-header-title-block\" class=\"block block-views clearfix\">\\n\\n      \\n  \\n<div class=\"view view-title-block view-id-title_block view-display-id-header_title_block site-info--title-block view-dom-id-d84e7ab6fa46474f6cd9a97f8c9d8dfa\">\\n  \\n      <div class=\"view-content\">\\n        \\n      <div>\\n      \\n          <span class=\"single_title\"><a href=\"/\" class=\"site-info__title\">School of Computing and Information</a></span>    </div>\\n    </div>\\n  \\n  \\n\\n</div>\\n</section>\\n  </div>\\n          \\n      </div><!--title_wrapper -->\\n    </div>\\n    \\n    <div class=\"col-xs-12 col-sm-12 col-md-2 header_links\">\\n              <div class=\"pittbar__search\">\\n            <div class=\"region region-pre-nav\">\\n    <section aria-label=\"\" id=\"block-search-form\" class=\"block block-search clearfix\">\\n\\n      \\n  <form class=\"google-cse form-search content-search\" action=\"/this-api-doesnt-exist\" method=\"post\" id=\"search-block-form\" accept-charset=\"UTF-8\"><div>  \\n  <div class=\"searchbox\" role=\"search\">\\n    <label for=\"edit-search-block-form-1\" class=\"hidden\">Use this for to search the site.</label> \\n    <input type=\"text\" maxlength=\"128\" name=\"search_block_form\" class=\"searchbox-input\" id=\"edit-search-block-form-1\" size=\"15\" value=\"\" aria-label=\"Search Form\" required title=\"Enter the terms you wish to search for.\"  />          \\n    <input type=\"submit\" class=\"searchbox-submit btn btn-primary\" />\\n    <span class=\"searchbox-icon icon glyphicon glyphicon-search\" aria-label=\"search\" aria-hidden=\"true\"></span>\\n  </div>\\n<div class=\"form-actions form-wrapper form-group\" id=\"edit-actions\"><button class=\"element-invisible btn btn-primary form-submit\" type=\"submit\" id=\"edit-submit\" name=\"op\" value=\"Search\">Search</button>\\n</div><input type=\"hidden\" name=\"form_build_id\" value=\"form-GUDlPyNHElmmked0iJV6FKnn8emoQ6riBoV3ld2njwo\" />\\n<input type=\"hidden\" name=\"form_id\" value=\"search_block_form\" />\\n\\n</div></form>\\n</section>\\n  </div>\\n        </div>\\n          \\n    </div>\\n  </div>\\n</div>\\n\\n<div class=\"nav_wrapper\">\\n  <div class=\"container\">\\n    <div class=\"row\">\\n      <div class=\"col-xs-12\">\\n        <div class=\"navbar-header site-info__navbar-toggle\">\\n      \\t\\t\\t<!-- .btn-navbar is used as the toggle for collapsed navbar content -->\\n      \\t\\t\\t<button type=\"button\" class=\"navbar-toggle\" data-toggle=\"collapse\" data-target=\".primary-links\">\\n      \\t\\t\\t\\t<span class=\"sr-only\">Toggle navigation</span>\\n      \\t\\t\\t\\t<span class=\"icon-bar\"></span>\\n      \\t\\t\\t\\t<span class=\"icon-bar\"></span>\\n      \\t\\t\\t\\t<span class=\"icon-bar\"></span>\\n      \\t\\t\\t</button>\\n  \\t\\t    </div>\\n        <div role=\"navigation\" aria-label=\"primary\"  id=\"primary-links\" class=\"container-fluid\">\\n  <div class=\"navbar container navbar-default\">\\n            <div class=\"navbar-collapse collapse navbar primary-links primary-links__navbar\">\\n          <a class=\"pitt_seal\" href=\"http://www.pitt.edu\" title=\"University of PIttsburgh Home\"></a>\\n            <div class=\"region region-navigation\">\\n    <section aria-label=\"\" id=\"block-menu-block-1\" class=\"block block-menu-block clearfix\">\\n\\n      \\n  <div class=\"menu-block-wrapper menu-block-1 menu-name-main-menu parent-mlid-0 menu-level-1\">\\n  <ul class=\"menu nav\"><li class=\"first leaf menu-mlid-218\"><a href=\"/\" title=\"\">Home</a></li>\\n<li class=\"expanded menu-mlid-5857\"><a href=\"/about\">About</a><ul class=\"menu nav\"><li class=\"first leaf menu-mlid-8503\"><a href=\"/about/deans-annual-update\">Dean&#039;s Annual Update</a></li>\\n<li class=\"leaf menu-mlid-8504\"><a href=\"/about/reputation-and-history\">Reputation and History</a></li>\\n<li class=\"leaf menu-mlid-8476\"><a href=\"/about/departments-and-programs\">Departments and Programs</a></li>\\n<li class=\"leaf menu-mlid-8739\"><a href=\"https://www.sci.pitt.edu/recruiting\" title=\"\">Faculty Recruiting</a></li>\\n<li class=\"leaf menu-mlid-8459\"><a href=\"/about/board-visitors\">Board of Visitors</a></li>\\n<li class=\"leaf menu-mlid-8744\"><a href=\"https://www.sci.pitt.edu/research/labs-centers-and-institutes\" title=\"\">Institutes</a></li>\\n<li class=\"leaf menu-mlid-8505\"><a href=\"/about/zoom-backgrounds\">Zoom Backgrounds</a></li>\\n<li class=\"leaf menu-mlid-8451\"><a href=\"/about/contact-us\">Contact Us</a></li>\\n<li class=\"last expanded menu-mlid-8582\"><a href=\"/about/sci-covid-19-information\">SCI COVID-19 Information</a><ul class=\"menu nav\"><li class=\"first last leaf menu-mlid-8622\"><a href=\"/about/sci-covid-19-information/covid-19-course-status-page\">COVID-19 Course Status Page</a></li>\\n</ul></li>\\n</ul></li>\\n<li class=\"expanded menu-mlid-3063\"><a href=\"/people\" title=\"\">People</a><ul class=\"menu nav\"><li class=\"first leaf menu-mlid-8714\"><a href=\"https://www.sci.pitt.edu/administration\" title=\"\">Administration</a></li>\\n<li class=\"leaf menu-mlid-8578\"><a href=\"/people\" title=\"\">Faculty Directory</a></li>\\n<li class=\"leaf menu-mlid-8475\"><a href=\"/people/staff-directory\">Staff Directory</a></li>\\n<li class=\"last leaf menu-mlid-8477\"><a href=\"/people/phd-students\">PhD Students</a></li>\\n</ul></li>\\n<li class=\"expanded menu-mlid-8440\"><a href=\"/research\">Research</a><ul class=\"menu nav\"><li class=\"first leaf menu-mlid-8466\"><a href=\"/research\" title=\"\">Overview</a></li>\\n<li class=\"expanded menu-mlid-8583\"><a href=\"/research/faculty-spotlight\">Faculty Spotlight</a><ul class=\"menu nav\"><li class=\"first leaf menu-mlid-8616\"><a href=\"/research/research-spotlight/carving-path-safer-and-smarter-buildings\">Carving the path to safer and smarter buildings</a></li>\\n<li class=\"leaf menu-mlid-8620\"><a href=\"/research/research-spotlight/holistic-approach-intelligent-social-learning\">A holistic approach to intelligent social learning</a></li>\\n<li class=\"leaf menu-mlid-8710\"><a href=\"/research/research-spotlight/how-anticipate-hiccups-health-care\">How to anticipate hiccups in health care</a></li>\\n<li class=\"leaf menu-mlid-8716\"><a href=\"/research/research-spotlight/preserving-shared-digital-memory\">Preserving a shared digital memory</a></li>\\n<li class=\"leaf menu-mlid-8715\"><a href=\"/research/faculty-spotlight/holding-information-technologies-accountable-and-addressing\">Holding information technologies accountable and addressing misinformation on the web</a></li>\\n<li class=\"last leaf menu-mlid-8752\"><a href=\"/research/faculty-spotlight/more-afterthought-dr-ibrahim-shows-students-necessity-cybersecurity\">More than an afterthought: Dr. Ibrahim shows students the necessity of cybersecurity</a></li>\\n</ul></li>\\n<li class=\"expanded menu-mlid-8463\"><a href=\"/research/active-research\">Active Research</a><ul class=\"menu nav\"><li class=\"first last leaf menu-mlid-8470\"><a href=\"/research/active-research/current-grants\">Current Grants</a></li>\\n</ul></li>\\n<li class=\"leaf menu-mlid-8468\"><a href=\"/research/labs-centers-and-institutes\">Labs, Centers, and Institutes</a></li>\\n<li class=\"leaf menu-mlid-8467\"><a href=\"/research/visiting-scholars\">Visiting Scholars</a></li>\\n<li class=\"last leaf menu-mlid-8469\"><a href=\"/research/undergraduate-research-scholars\">Undergraduate Research Scholars</a></li>\\n</ul></li>\\n<li class=\"expanded menu-mlid-8441\"><a href=\"/academics\">Academics</a><ul class=\"menu nav\"><li class=\"first leaf menu-mlid-8562\"><a href=\"/academics/degrees-and-programs\" title=\"\">Degrees and Programs</a></li>\\n<li class=\"expanded menu-mlid-8529\"><a href=\"/academics/undergraduate-majors\">Undergraduate Majors</a><ul class=\"menu nav\"><li class=\"first leaf menu-mlid-8532\"><a href=\"/academics/undergraduate/find-right-major-you\">Find the Right Major for You</a></li>\\n<li class=\"leaf menu-mlid-8533\"><a href=\"/academics/undergraduate-majors/computational-biology\">Computational Biology</a></li>\\n<li class=\"leaf menu-mlid-8534\"><a href=\"/academics/undergraduate-majors/computer-science\">Computer Science</a></li>\\n<li class=\"leaf menu-mlid-8535\"><a href=\"/academics/undergraduate-majors/digital-narrative-and-interactive-design\">Digital Narrative and Interactive Design</a></li>\\n<li class=\"leaf menu-mlid-8536\"><a href=\"/academics/undergraduate-majors/information-science\">Information Science</a></li>\\n<li class=\"leaf menu-mlid-8584\"><a href=\"/academics/undergraduate-majors/bs-ms-computer-science\">BS + MS in Computer Science</a></li>\\n<li class=\"last leaf menu-mlid-8585\"><a href=\"/academics/undergraduate-majors/minors\">Minors</a></li>\\n</ul></li>\\n<li class=\"expanded menu-mlid-8537\"><a href=\"/academics/masters-degrees\">Master&#039;s Degrees</a><ul class=\"menu nav\"><li class=\"first leaf menu-mlid-8568\"><a href=\"/academics/masters-degrees/library-and-information-science-mlis\">Library and Information Science</a></li>\\n<li class=\"leaf menu-mlid-8564\"><a href=\"/academics/masters-degrees/computer-science-ms\">Computer Science</a></li>\\n<li class=\"leaf menu-mlid-8575\"><a href=\"/academics/masters-degrees/information-science-ms\">Information Science</a></li>\\n<li class=\"leaf menu-mlid-8571\"><a href=\"/academics/masters-degrees/intelligent-systems-ms\">Intelligent Systems</a></li>\\n<li class=\"last leaf menu-mlid-8574\"><a href=\"/academics/masters-degrees/telecommunications-ms\">Telecommunications</a></li>\\n</ul></li>\\n<li class=\"expanded menu-mlid-8538\"><a href=\"/academics/doctoral-degrees\">Doctoral Degrees</a><ul class=\"menu nav\"><li class=\"first leaf menu-mlid-8565\"><a href=\"/academics/doctoral-degrees/computational-modeling-and-simulation-phd\">Computational Modeling and Simulation</a></li>\\n<li class=\"leaf menu-mlid-8566\"><a href=\"/academics/doctoral-degrees/computer-science-phd\">Computer Science</a></li>\\n<li class=\"leaf menu-mlid-8573\"><a href=\"/academics/doctoral-degrees/information-science-phd\">Information Science</a></li>\\n<li class=\"leaf menu-mlid-8572\"><a href=\"/academics/doctoral-degrees/information-science-focus-telecommunications-phd\">Information Science with a focus in Telecommunications</a></li>\\n<li class=\"leaf menu-mlid-8570\"><a href=\"/academics/doctoral-degrees/intelligent-systems-phd\">Intelligent Systems</a></li>\\n<li class=\"last leaf menu-mlid-8567\"><a href=\"/academics/doctoral-degrees/library-and-information-science-phd\">Library and Information Science</a></li>\\n</ul></li>\\n<li class=\"expanded menu-mlid-8539\"><a href=\"/academics/graduate-certificates\">Graduate Certificates</a><ul class=\"menu nav\"><li class=\"first leaf menu-mlid-8540\"><a href=\"/academics/graduate-certificates/big-data-analytics\">Big Data Analytics</a></li>\\n<li class=\"leaf menu-mlid-8543\"><a href=\"/academics/graduate-certificates/cybersecurity-policy-and-law\">Cybersecurity, Policy, and Law</a></li>\\n<li class=\"leaf menu-mlid-8544\"><a href=\"/academics/graduate-certificates/information-and-network-security\">Information and Network Security</a></li>\\n<li class=\"leaf menu-mlid-8541\"><a href=\"/academics/graduate-certificates/information-science\">Information Science</a></li>\\n<li class=\"last leaf menu-mlid-8542\"><a href=\"/academics/graduate-certificates/telecommunications\">Telecommunications</a></li>\\n</ul></li>\\n<li class=\"leaf menu-mlid-8580\"><a href=\"https://www.sciprofessional.pitt.edu/\" title=\"\">Professional Institute</a></li>\\n<li class=\"expanded menu-mlid-8545\"><a href=\"/academics/experiential-learning\">Experiential Learning</a><ul class=\"menu nav\"><li class=\"first leaf menu-mlid-8719\"><a href=\"/academics/experiential-learning/benefits-experiential-learning\">The Benefit of Experiential Learning</a></li>\\n<li class=\"leaf menu-mlid-8598\"><a href=\"/academics/experiential-learning/credit-opportunities\">For-Credit Opportunities</a></li>\\n<li class=\"last leaf menu-mlid-8597\"><a href=\"/academics/experiential-learning/community-engagement\">Not-for-Credit Opportunities</a></li>\\n</ul></li>\\n<li class=\"leaf menu-mlid-8732\"><a href=\"/academics/earn-master-s-degree-sci\">Pitt2Pitt</a></li>\\n<li class=\"last expanded menu-mlid-8745\"><a href=\"/academics/student-profiles\">Student Profiles</a><ul class=\"menu nav\"><li class=\"first leaf menu-mlid-8750\"><a href=\"/academics/student-profiles/meet-alexa-spaventa\">Meet Alexa Spaventa</a></li>\\n<li class=\"leaf menu-mlid-8746\"><a href=\"/academics/student-profiles/meet-j-stephanie-rose\">Meet J. Stephanie Rose</a></li>\\n<li class=\"leaf menu-mlid-8753\"><a href=\"/academics/student-profiles/meet-lydon-pelletier\">Meet Lydon Pelletier</a></li>\\n<li class=\"leaf menu-mlid-8747\"><a href=\"/academics/student-profiles/meet-pedro-bustamante\">Meet Pedro Bustamante</a></li>\\n<li class=\"leaf menu-mlid-8748\"><a href=\"/academics/student-profiles/meet-nico-campuzano\">Meet Nico Campuzano</a></li>\\n<li class=\"last leaf menu-mlid-8749\"><a href=\"/academics/student-profiles/meet-andrea-michael\">Meet Andrea Michael</a></li>\\n</ul></li>\\n</ul></li>\\n<li class=\"expanded menu-mlid-8442\"><a href=\"/admissions\">Admissions</a><ul class=\"menu nav\"><li class=\"first leaf menu-mlid-8454\"><a href=\"/admissions/take-next-step\">Take the Next Step</a></li>\\n<li class=\"leaf menu-mlid-8527\"><a href=\"/admissions/undergraduate-admissions\">Undergraduate Admissions</a></li>\\n<li class=\"leaf menu-mlid-8549\"><a href=\"/admissions/masters-admissions\">Master&#039;s Admissions</a></li>\\n<li class=\"leaf menu-mlid-8550\"><a href=\"/admissions/doctoral-admissions\">Doctoral Admissions</a></li>\\n<li class=\"leaf menu-mlid-8560\"><a href=\"/admissions/certificate-admissions\">Certificate Admissions</a></li>\\n<li class=\"leaf menu-mlid-8472\"><a href=\"/admissions/undergraduate-admissions-faq\">Undergraduate Admissions FAQ</a></li>\\n<li class=\"leaf menu-mlid-8473\"><a href=\"/admissions/graduate-admissions-faq\">Graduate Admissions FAQ</a></li>\\n<li class=\"expanded menu-mlid-8555\"><a href=\"/admissions/tuition-and-financial-aid\">Tuition and Financial Aid</a><ul class=\"menu nav\"><li class=\"first leaf menu-mlid-8556\"><a href=\"/admissions/tuition-and-financial-aid/financial-aid\">Financial Aid</a></li>\\n<li class=\"last leaf menu-mlid-8557\"><a href=\"/admissions/tuition-and-financial-aid/scholarships\">Scholarships</a></li>\\n</ul></li>\\n<li class=\"leaf menu-mlid-8558\"><a href=\"/admissions/campus-life\">Campus Life</a></li>\\n<li class=\"last leaf menu-mlid-8471\"><a href=\"/admissions/information-sessions\">Information Sessions</a></li>\\n</ul></li>\\n<li class=\"expanded menu-mlid-8443\"><a href=\"/student-resources\">Student Resources</a><ul class=\"menu nav\"><li class=\"first leaf menu-mlid-8563\"><a href=\"/student-resources/z-student-resources\">A-Z Student Resources</a></li>\\n<li class=\"expanded menu-mlid-8499\"><a href=\"/student-resources/academic-advising-center\">Academic Advising Center</a><ul class=\"menu nav\"><li class=\"first leaf menu-mlid-8520\"><a href=\"/student-resources/academic-advising-center/responsibilities\">Responsibilities</a></li>\\n<li class=\"leaf menu-mlid-8518\"><a href=\"/student-resources/academic-advising-center/placement-assessments\">Placement Assessments</a></li>\\n<li class=\"last leaf menu-mlid-8519\"><a href=\"/student-resources/academic-advising-center/general-education-requirements\">General Education Requirements</a></li>\\n</ul></li>\\n<li class=\"leaf menu-mlid-8500\"><a href=\"/student-resources/building-hours\">Building Hours</a></li>\\n<li class=\"expanded menu-mlid-8525\"><a href=\"/student-resources/career-services\">Career Services</a><ul class=\"menu nav\"><li class=\"first leaf menu-mlid-8551\"><a href=\"/student-resources/career-services/job-board\">Job Board</a></li>\\n<li class=\"leaf menu-mlid-8553\"><a href=\"/student-resources/career-services/professional-development\">Professional Development</a></li>\\n<li class=\"last leaf menu-mlid-8712\"><a href=\"/student-resources/career-services/job-placement-statistics\">Job Placement Statistics</a></li>\\n</ul></li>\\n<li class=\"leaf menu-mlid-8561\"><a href=\"http://courses.sci.pitt.edu/\" title=\"\">Courses</a></li>\\n<li class=\"leaf menu-mlid-8502\"><a href=\"/student-resources/enrollment-resources\">Enrollment Resources</a></li>\\n<li class=\"expanded menu-mlid-8521\"><a href=\"/student-resources/graduation\">Graduation</a><ul class=\"menu nav\"><li class=\"first leaf menu-mlid-8523\"><a href=\"/student-resources/graduation/graduation-procedures\">Graduation Procedures</a></li>\\n<li class=\"last leaf menu-mlid-8522\"><a href=\"/student-resources/graduation/school-recognition-ceremony\">School Recognition Ceremony</a></li>\\n</ul></li>\\n<li class=\"leaf menu-mlid-8524\"><a href=\"/student-resources/information-technology\">Information Technology</a></li>\\n<li class=\"expanded menu-mlid-8514\"><a href=\"/student-resources/newly-admitted-students\">Newly Admitted Students</a><ul class=\"menu nav\"><li class=\"first leaf menu-mlid-8516\"><a href=\"/student-resources/newly-admitted-students/graduate-student-orientation\">Graduate Student Orientation</a></li>\\n<li class=\"leaf menu-mlid-8515\"><a href=\"/student-resources/newly-admitted-students/new-graduate-student-faq\">New Graduate Student FAQ</a></li>\\n<li class=\"last leaf menu-mlid-8619\"><a href=\"/student-resources/newly-admitted-students/undergraduate-student-orientation\">Undergraduate Student Orientation</a></li>\\n</ul></li>\\n<li class=\"leaf menu-mlid-8607\"><a href=\"/student-resources/ombudsperson\">Ombudsperson</a></li>\\n<li class=\"expanded menu-mlid-8507\"><a href=\"/student-resources/policies\">Policies</a><ul class=\"menu nav\"><li class=\"first leaf menu-mlid-8508\"><a href=\"/student-resources/policies/academic-integrity-policy\">Academic Integrity Policy</a></li>\\n<li class=\"last leaf menu-mlid-8509\"><a href=\"/student-resources/policies/experiential-learning-policies\">Experiential Learning Policies</a></li>\\n</ul></li>\\n<li class=\"leaf menu-mlid-8546\"><a href=\"/student-resources/school-forms\">School Forms</a></li>\\n<li class=\"leaf menu-mlid-8506\"><a href=\"/student-resources/student-organizations\">Student Organizations</a></li>\\n<li class=\"expanded menu-mlid-8528\"><a href=\"/student-resources/student-success\">Student Success</a><ul class=\"menu nav\"><li class=\"first leaf menu-mlid-8717\"><a href=\"/student-resources/student-success/academic-support-and-tutoring\">Academic Support and Tutoring</a></li>\\n<li class=\"leaf menu-mlid-8721\"><a href=\"/student-resources/student-success/student-success-workshops\">Student Success Workshops</a></li>\\n<li class=\"last leaf menu-mlid-8722\"><a href=\"/student-resources/student-success/learning-and-study-strategies\">Learning and Study Strategies</a></li>\\n</ul></li>\\n<li class=\"last leaf menu-mlid-8720\"><a href=\"/student-resources/who-contact\">Who to Contact</a></li>\\n</ul></li>\\n<li class=\"expanded menu-mlid-5865\"><a href=\"/news\" title=\"\">News</a><ul class=\"menu nav\"><li class=\"first leaf menu-mlid-8587\"><a href=\"/news\" title=\"\">All News</a></li>\\n<li class=\"last leaf menu-mlid-8589\"><a href=\"/news/submit-news-item\">Submit a News Item</a></li>\\n</ul></li>\\n<li class=\"last expanded menu-mlid-8445\"><a href=\"https://calendar.pitt.edu/school_of_computing_and_information\" title=\"\">Events</a><ul class=\"menu nav\"><li class=\"first leaf menu-mlid-8588\"><a href=\"https://calendar.pitt.edu/school_of_computing_and_information\" title=\"\">All Events</a></li>\\n<li class=\"last leaf menu-mlid-8600\"><a href=\"/events/submit-event\">Submit an Event</a></li>\\n</ul></li>\\n</ul></div>\\n\\n</section>\\n  </div>\\n        </div>\\n      </div>\\n</div> <!-- /#primary-links -->      </div>\\n    </div>        \\n  </div>\\n</div>\\n\\n\\n\\n\\n\\n\\n\\n\\n\\n</div>\\n\\n\\n\\n\\n<a id=\"main-content\"></a>\\n\\n<div class=\"main-container container-fluid\">\\n    <div class=\"container\" id=\"content-wrapper\">\\n        <div class=\"row\">\\n            \\n            <section class=\"col-sm-12 content\" name=\"Highlights\">\\n\\n                \\n\\n                \\n                                    <h1 class=\"page-header\">Page not Found</h1>\\n                    \\n                  \\n                \\n                \\n                \\n                                                    \\n                \\n                \\n                  <div class=\"region region-content\">\\n    <section aria-label=\"\" id=\"block-system-main\" class=\"block block-system clearfix\">\\n\\n      \\n  <div id=\"node-3\" class=\"node node-page clearfix\" about=\"/page-not-found\" typeof=\"foaf:Document\">\\n    <div>\\n            <span property=\"dc:title\" content=\"Page not Found\" class=\"rdf-meta element-hidden\"></span>      </div>\\n  \\n    \\n  \\n  \\n  <article class=\"field-body\">\\n    <p>We\\'re sorry! This page is not available. Please\\xc2\\xa0<a href=\"https://www.sci.pitt.edu/home\">visit the homepage</a>\\xc2\\xa0or use the search box above.</p>\\n  </article>\\n </div>\\n\\n</section>\\n  </div>\\n\\n                            </section>\\n\\n            \\n        </div>\\n    </div><!-- /#content-wrapper -->\\n</div><!-- /.main-container -->\\n\\n\\n\\n\\n  <footer class=\"footer container-fluid\">\\n    <div class=\"container\">\\n      <div class=\"site_title\">\\n        <div class=\"footer-logo footer__logo\">\\n             <img src=\"/sites/all/themes/pitt_theme_spirit/img/pitt_shield_white.png\" width=\"261\" alt=\"University of Pittsburgh logo\" />\\n                                <div class=\"region region-footer-logo\">\\n    <section aria-label=\"\" id=\"block-views-title-block-block-3\" class=\"block block-views clearfix\">\\n\\n      \\n  <div class=\"view view-title-block view-id-title_block view-display-id-block_3 footer-site-info--title-block view-dom-id-36436a6830a80f009ed47c5e1620f0cf\">\\n        \\n  \\n  \\n      <div class=\"view-content\">\\n        <div>\\n      \\n          <span class=\"single_title site_logo\"><a href=\"/\" class=\"site-info__title\">School of Computing and Information</a></span>    </div>\\n    </div>\\n  \\n  \\n  \\n  \\n  \\n  \\n</div>\\n</section>\\n  </div>\\n                \\n\\n        </div>\\n      </div>\\n      \\n                  <div class=\"region region-footer\">\\n    <section aria-label=\"\" id=\"block-views-title-block-footer-title-block\" class=\"block block-views block__address-block clearfix\">\\n\\n      \\n  <div class=\"view view-title-block view-id-title_block view-display-id-footer_title_block footer--title-block view-dom-id-650372311e518c8ae65c17129fb01de2\">\\n        \\n  \\n  \\n      <div class=\"view-content\">\\n        <div>\\n      \\n          \\n  <div class=\"field-contact-info\">\\n    <p>Information Science Building, Fifth Floor<br />\\n135 North Bellefield Avenue<br />\\nPittsburgh, PA 15260</p>\\n\\n<p>412-624-5015</p>\\n\\n<p><a href=\"mailto:sciadmit@pitt.edu\">sciadmit@pitt.edu</a></p>\\n  </div>\\n    \\n              </div>\\n    </div>\\n  \\n  \\n  \\n  \\n  \\n  \\n</div>\\n</section>\\n<section aria-label=\"\" id=\"block-nodesinblock-1\" class=\"block block-nodesinblock clearfix\">\\n\\n      \\n  <div class=\"nodesinblock first last odd\" id=\"nodesinblock-207\">\\n\\n\\t<div class=\"node-207 node node-block block-type-with-text nodesinblock--with-text clearfix nodesinblock--default\" about=\"/block/resources-footer-block\" typeof=\"sioc:Item foaf:Document\">\\n        <div class=\"block-column nodesinblock__column\">\\n    \\t\\t\\n    \\t\\t\\n    \\t\\t\\n    \\t\\t\\t<div name=\"Resources Footer Block\">\\n    \\t\\t\\t\\t<h4>Resources</h4>\\r\\n\\r\\n<ul class=\"two-column\">\\r\\n\\t<li><a href=\"https://www.coronavirus.pitt.edu/\">Pitt COVID-19 Updates</a></li>\\r\\n\\t<li><a href=\"/node/557\">SCI COVID-19 Response</a></li>\\r\\n\\t<li><a href=\"/node/399\">Departments and Programs</a></li>\\r\\n\\t<li><a href=\"/node/501\">Degrees and Programs</a></li>\\r\\n\\t<li><a href=\"/node/333\">Admissions</a></li>\\r\\n\\t<li><a href=\"https://www.registrar.pitt.edu/calendars\">Academic Calendar</a></li>\\r\\n\\t<li><a href=\"http://courses.sci.pitt.edu/\">Course Schedule</a></li>\\r\\n\\t<li><a href=\"/people\">Faculty Directory</a></li>\\r\\n\\t<li><a href=\"/node/398\">Staff Directory</a></li>\\r\\n\\t<li><a href=\"https://giveto.pitt.edu/giveSCI\">Give Now</a></li>\\r\\n</ul>\\r\\n\\n              \\t\\t\\t</div>\\n\\n    \\t\\t        </div>\\n\\t</div>\\n\\n\\n\\n</div>\\n</section>\\n<section aria-label=\"\" id=\"block-views-7991932e043137b92876af32e9d227ec\" class=\"block block-views block__social-media clearfix\">\\n\\n      \\n  <div class=\"view view-social-media-icons view-id-social_media_icons view-display-id-footer_social_block social-block footer--social-block view-dom-id-250e280b29dc4f85dd05c86c13af19fc\">\\n        \\n  \\n  \\n      <div class=\"view-content\">\\n        <div class=\"views-row views-row-1 views-row-odd views-row-first\">\\n      \\n  <div class=\"views-field views-field-nothing\">        <span class=\"field-content\"><a href=\"mailto:sciadmit@pitt.edu\" target=\"_blank\" title=\"Email Us\"><span aria-label=\"Email Us\" class=\"fa fa-envelope\" aria-hidden=\"true\"></span></a></span>  </div>  </div>\\n  <div class=\"views-row views-row-2 views-row-even\">\\n      \\n  <div class=\"views-field views-field-nothing\">        <span class=\"field-content\"><a href=\"https://www.facebook.com/SciPitt/\" target=\"_blank\" title=\"Find SCI on Facebook\"><span aria-label=\"Find SCI on Facebook\" class=\"fab fa-facebook-f\" aria-hidden=\"true\"></span></a></span>  </div>  </div>\\n  <div class=\"views-row views-row-3 views-row-odd\">\\n      \\n  <div class=\"views-field views-field-nothing\">        <span class=\"field-content\"><a href=\"https://twitter.com/SciPitt\" target=\"_blank\" title=\"Follow SCI Pitt on Twitter\"><span aria-label=\"Follow SCI Pitt on Twitter\" class=\"fab fa-twitter\" aria-hidden=\"true\"></span></a></span>  </div>  </div>\\n  <div class=\"views-row views-row-4 views-row-even views-row-last\">\\n      \\n  <div class=\"views-field views-field-nothing\">        <span class=\"field-content\"><a href=\"https://www.linkedin.com/school/university-of-pittsburgh-school-of-computing-and-information/?viewAsMember=true\" target=\"_blank\" title=\"Follow SCI on LinkedIn\"><span aria-label=\"Follow SCI on LinkedIn\" class=\"fab fa-linkedin\" aria-hidden=\"true\"></span></a></span>  </div>  </div>\\n    </div>\\n  \\n  \\n  \\n  \\n  \\n  \\n</div>\\n</section>\\n  </div>\\n      \\n          <div id=\"copyright\" class=\"container-fluid footer__copyright\">\\n          <div class=\"region region-copyright\">\\n    <section aria-label=\"\" id=\"block-block-1\" class=\"block block-block clearfix\">\\n\\n      \\n  \\n<span>Revised 03/16/21</span><span>Copyright 2021</span>\\n</section>\\n  </div>\\n      </div>\\n      </div>\\n\\n</footer>\\n\\n  <script src=\"/sites/default/files/js/js_MRdvkC2u4oGsp5wVxBG1pGV5NrCPW3mssHxIn6G9tGE.js\"></script>\\n</body>\\n</html>\\n'\n"
     ]
    }
   ],
   "source": [
    "print(response.content)"
   ]
  },
  {
   "cell_type": "code",
   "execution_count": 3,
   "metadata": {
    "tags": []
   },
   "outputs": [
    {
     "name": "stdout",
     "output_type": "stream",
     "text": [
      "200\n"
     ]
    }
   ],
   "source": [
    "response = requests.get(\"http://sci.pitt.edu/\")\n",
    "print(response.status_code)"
   ]
  },
  {
   "cell_type": "code",
   "execution_count": 4,
   "metadata": {},
   "outputs": [
    {
     "name": "stdout",
     "output_type": "stream",
     "text": [
      "utf-8\n"
     ]
    }
   ],
   "source": [
    "print(response.apparent_encoding)"
   ]
  },
  {
   "cell_type": "code",
   "execution_count": 5,
   "metadata": {
    "collapsed": true,
    "jupyter": {
     "outputs_hidden": true
    },
    "tags": []
   },
   "outputs": [
    {
     "name": "stdout",
     "output_type": "stream",
     "text": [
      "b'<!DOCTYPE html>\\n<html lang=\"en\" dir=\"ltr\" prefix=\"og: http://ogp.me/ns# content: http://purl.org/rss/1.0/modules/content/ dc: http://purl.org/dc/terms/ foaf: http://xmlns.com/foaf/0.1/ rdfs: http://www.w3.org/2000/01/rdf-schema# sioc: http://rdfs.org/sioc/ns# sioct: http://rdfs.org/sioc/types# skos: http://www.w3.org/2004/02/skos/core# xsd: http://www.w3.org/2001/XMLSchema#\">\\n<head>\\n  <meta charset=\"utf-8\">\\n  <meta name=\"viewport\" content=\"width=device-width, initial-scale=1.0\">\\n  <meta http-equiv=\"X-UA-Compatible\" content=\"IE=edge\" />\\n  <meta http-equiv=\"X-UA-Compatible\" content=\"IE=edge\" />\\n<meta http-equiv=\"Content-Type\" content=\"text/html; charset=utf-8\" />\\n<meta name=\"msapplication-TileColor\" content=\"#2b5797\"/>\\r\\n<meta name=\"msapplication-config\" content=\"/sites/default/files/favicons/browserconfig.xml\"/>\\r\\n<meta name=\"theme-color\" content=\"#1c2957\"/>\\r\\n<meta name=\"description\" content=\"The University of Pittsburgh is among the nation&#039;s most distinguished comprehensive universities, with a wide variety of high-quality programs in both the arts and sciences and professional fields.\" />\\n<meta name=\"keywords\" content=\"University, Pittsburgh, Pitt, College, Learning, Research, Students, Undergraduate, Graduate\" />\\n<meta name=\"generator\" content=\"Drupal 7 (http://drupal.org)\" />\\n<link rel=\"canonical\" href=\"https://www.sci.pitt.edu/\" />\\n<link rel=\"shortlink\" href=\"https://www.sci.pitt.edu/\" />\\n  <title>School of Computing and Information | University of Pittsburgh</title>\\n  <link type=\"text/css\" rel=\"stylesheet\" href=\"/sites/default/files/css/css_lQaZfjVpwP_oGNqdtWCSpJT1EMqXdMiU84ekLLxQnc4.css\" media=\"all\" />\\n<link type=\"text/css\" rel=\"stylesheet\" href=\"/sites/default/files/css/css_vSJGqDlgDxzL_lHslyYK0JbaIwEdUqP87W4bGT0LHA4.css\" media=\"all\" />\\n<link type=\"text/css\" rel=\"stylesheet\" href=\"/sites/default/files/css/css_NOxwaxrq1N3SXv6Spye3iOi5RIZ2kJdm0yld1CHVx1o.css\" media=\"all\" />\\n<link type=\"text/css\" rel=\"stylesheet\" href=\"https://cdn.jsdelivr.net/npm/bootstrap@3.3.7/dist/css/bootstrap.min.css\" media=\"all\" />\\n<link type=\"text/css\" rel=\"stylesheet\" href=\"https://cdn.jsdelivr.net/npm/@unicorn-fail/drupal-bootstrap-styles@0.0.2/dist/3.3.1/7.x-3.x/drupal-bootstrap.min.css\" media=\"all\" />\\n<link type=\"text/css\" rel=\"stylesheet\" href=\"/sites/default/files/css/css_Xkz4sYA9Er83gZCUYYqKFOEi1tW2YZv4K8HLvaaVWh4.css\" media=\"all\" />\\n  <!-- HTML5 element support for IE6-8 -->\\n  <!--[if lt IE 9]>\\n    <script src=\"//html5shiv.googlecode.com/svn/trunk/html5.js\"></script>\\n  <![endif]-->\\n\\n  <script src=\"//code.jquery.com/jquery-1.9.1.js\"></script>\\n<script>window.jQuery || document.write(\"<script src=\\'/sites/all/modules/jquery_update/replace/jquery/1.9/jquery.js\\'>\\\\x3C/script>\")</script>\\n<script src=\"/sites/default/files/js/js_uJR3Qfgc-bGacxkh36HU9Xm2Q98e_V5UWlFISwie5ro.js\"></script>\\n<script src=\"https://cdn.jsdelivr.net/npm/bootstrap@3.3.7/dist/js/bootstrap.min.js\"></script>\\n<script src=\"/sites/default/files/js/js_6N0jURX2kG0IS4OfOJj0pvsZlTuD4P4CL1G1mrdaZVU.js\"></script>\\n<script src=\"//pitt.edu/webtrends/webtrends.load.js\"></script>\\n<script src=\"/sites/default/files/js/js_o8yav5nQnXBWqUcl9afr9Hd4p5DTla1tcEvKYuSg6uU.js\"></script>\\n<script>(function(i,s,o,g,r,a,m){i[\"GoogleAnalyticsObject\"]=r;i[r]=i[r]||function(){(i[r].q=i[r].q||[]).push(arguments)},i[r].l=1*new Date();a=s.createElement(o),m=s.getElementsByTagName(o)[0];a.async=1;a.src=g;m.parentNode.insertBefore(a,m)})(window,document,\"script\",\"https://www.google-analytics.com/analytics.js\",\"ga\");ga(\"create\", \"UA-177390198-1\", {\"cookieDomain\":\"auto\"});ga(\"set\", \"anonymizeIp\", true);ga(\"send\", \"pageview\");</script>\\n<script src=\"/sites/default/files/js/js_NM8DWyIVCRn_mG-mF1yZl4a5W3u0W3OjbBBEjFN6HLE.js\"></script>\\n<script>jQuery.extend(Drupal.settings, {\"basePath\":\"\\\\/\",\"pathPrefix\":\"\",\"ajaxPageState\":{\"theme\":\"pitt_theme_spirit\",\"theme_token\":\"5bHRqqxSgk62gF8nU_Jx-hCUKbiAHE717hR4vDPnWTk\",\"js\":{\"sites\\\\/all\\\\/modules\\\\/flexslider\\\\/assets\\\\/js\\\\/flexslider.load.js\":1,\"sites\\\\/all\\\\/themes\\\\/bootstrap\\\\/js\\\\/bootstrap.js\":1,\"\\\\/\\\\/code.jquery.com\\\\/jquery-1.9.1.js\":1,\"0\":1,\"misc\\\\/jquery-extend-3.4.0.js\":1,\"misc\\\\/jquery-html-prefilter-3.5.0-backport.js\":1,\"misc\\\\/jquery.once.js\":1,\"misc\\\\/drupal.js\":1,\"https:\\\\/\\\\/cdn.jsdelivr.net\\\\/npm\\\\/bootstrap@3.3.7\\\\/dist\\\\/js\\\\/bootstrap.min.js\":1,\"sites\\\\/all\\\\/modules\\\\/ckeditor_accordion\\\\/js\\\\/ckeditor-accordion.js\":1,\"sites\\\\/all\\\\/modules\\\\/google_cse\\\\/google_cse.js\":1,\"\\\\/\\\\/pitt.edu\\\\/webtrends\\\\/webtrends.load.js\":1,\"sites\\\\/all\\\\/libraries\\\\/jquery-actual\\\\/jquery.actual.min.js\":1,\"sites\\\\/all\\\\/modules\\\\/edu_pitt_sci_acalog\\\\/js\\\\/edu_pitt_sci_acalog.js\":1,\"sites\\\\/all\\\\/modules\\\\/fancybox\\\\/fancybox.js\":1,\"sites\\\\/all\\\\/libraries\\\\/fancybox\\\\/source\\\\/jquery.fancybox.pack.js\":1,\"sites\\\\/all\\\\/libraries\\\\/fancybox\\\\/lib\\\\/jquery.mousewheel.pack.js\":1,\"sites\\\\/all\\\\/modules\\\\/jcaption\\\\/jcaption.js\":1,\"sites\\\\/all\\\\/libraries\\\\/flexslider\\\\/jquery.flexslider-min.js\":1,\"sites\\\\/all\\\\/modules\\\\/google_analytics\\\\/googleanalytics.js\":1,\"1\":1,\"sites\\\\/all\\\\/themes\\\\/pitt_theme_spirit\\\\/bootstrap\\\\/js\\\\/affix.js\":1,\"sites\\\\/all\\\\/themes\\\\/pitt_theme_spirit\\\\/bootstrap\\\\/js\\\\/alert.js\":1,\"sites\\\\/all\\\\/themes\\\\/pitt_theme_spirit\\\\/bootstrap\\\\/js\\\\/button.js\":1,\"sites\\\\/all\\\\/themes\\\\/pitt_theme_spirit\\\\/bootstrap\\\\/js\\\\/carousel.js\":1,\"sites\\\\/all\\\\/themes\\\\/pitt_theme_spirit\\\\/bootstrap\\\\/js\\\\/collapse.js\":1,\"sites\\\\/all\\\\/themes\\\\/pitt_theme_spirit\\\\/bootstrap\\\\/js\\\\/dropdown.js\":1,\"sites\\\\/all\\\\/themes\\\\/pitt_theme_spirit\\\\/bootstrap\\\\/js\\\\/modal.js\":1,\"sites\\\\/all\\\\/themes\\\\/pitt_theme_spirit\\\\/bootstrap\\\\/js\\\\/tooltip.js\":1,\"sites\\\\/all\\\\/themes\\\\/pitt_theme_spirit\\\\/bootstrap\\\\/js\\\\/popover.js\":1,\"sites\\\\/all\\\\/themes\\\\/pitt_theme_spirit\\\\/bootstrap\\\\/js\\\\/scrollspy.js\":1,\"sites\\\\/all\\\\/themes\\\\/pitt_theme_spirit\\\\/bootstrap\\\\/js\\\\/tab.js\":1,\"sites\\\\/all\\\\/themes\\\\/pitt_theme_spirit\\\\/bootstrap\\\\/js\\\\/transition.js\":1,\"sites\\\\/all\\\\/themes\\\\/pitt_theme_spirit\\\\/js\\\\/script.js\":1,\"sites\\\\/all\\\\/themes\\\\/pitt_theme_spirit\\\\/js\\\\/search.js\":1,\"sites\\\\/all\\\\/themes\\\\/pitt_theme_spirit\\\\/js\\\\/nav.js\":1},\"css\":{\"modules\\\\/system\\\\/system.base.css\":1,\"sites\\\\/all\\\\/modules\\\\/entity\\\\/ldap\\\\/ldap_user\\\\/ldap_user.css\":1,\"sites\\\\/all\\\\/modules\\\\/calendar\\\\/css\\\\/calendar_multiday.css\":1,\"sites\\\\/all\\\\/modules\\\\/ckeditor_accordion\\\\/css\\\\/ckeditor-accordion.css\":1,\"sites\\\\/all\\\\/modules\\\\/date\\\\/date_api\\\\/date.css\":1,\"sites\\\\/all\\\\/modules\\\\/date\\\\/date_popup\\\\/themes\\\\/datepicker.1.7.css\":1,\"modules\\\\/field\\\\/theme\\\\/field.css\":1,\"sites\\\\/all\\\\/modules\\\\/google_cse\\\\/google_cse.css\":1,\"modules\\\\/node\\\\/node.css\":1,\"sites\\\\/all\\\\/modules\\\\/siteimprove\\\\/css\\\\/siteimprove.css\":1,\"sites\\\\/all\\\\/modules\\\\/entity\\\\/views\\\\/css\\\\/views.css\":1,\"sites\\\\/all\\\\/modules\\\\/ckeditor\\\\/css\\\\/ckeditor.css\":1,\"sites\\\\/all\\\\/modules\\\\/ctools\\\\/css\\\\/ctools.css\":1,\"sites\\\\/all\\\\/libraries\\\\/fancybox\\\\/source\\\\/jquery.fancybox.css\":1,\"sites\\\\/all\\\\/modules\\\\/entity\\\\/ldap\\\\/ldap_servers\\\\/ldap_servers.admin.css\":1,\"sites\\\\/all\\\\/modules\\\\/flexslider\\\\/assets\\\\/css\\\\/flexslider_img.css\":1,\"sites\\\\/all\\\\/libraries\\\\/flexslider\\\\/flexslider.css\":1,\"https:\\\\/\\\\/cdn.jsdelivr.net\\\\/npm\\\\/bootstrap@3.3.7\\\\/dist\\\\/css\\\\/bootstrap.min.css\":1,\"https:\\\\/\\\\/cdn.jsdelivr.net\\\\/npm\\\\/@unicorn-fail\\\\/drupal-bootstrap-styles@0.0.2\\\\/dist\\\\/3.3.1\\\\/7.x-3.x\\\\/drupal-bootstrap.min.css\":1,\"sites\\\\/all\\\\/themes\\\\/pitt_theme_spirit\\\\/fonts\\\\/css\\\\/fontawsome.min.css\":1,\"sites\\\\/all\\\\/themes\\\\/pitt_theme_spirit\\\\/fonts\\\\/css\\\\/all.css\":1,\"sites\\\\/all\\\\/themes\\\\/pitt_theme_spirit\\\\/fonts\\\\/css\\\\/light.min.css\":1,\"sites\\\\/all\\\\/themes\\\\/pitt_theme_spirit\\\\/fonts\\\\/css\\\\/brands.min.css\":1,\"sites\\\\/all\\\\/themes\\\\/pitt_theme_spirit\\\\/fonts\\\\/cooper.css\":1,\"sites\\\\/all\\\\/themes\\\\/pitt_theme_spirit\\\\/less\\\\/style.less\":1}},\"fancybox\":{\"selectors\":[\"a.fancybox\"]},\"googleCSE\":{\"cx\":\"d0d541f149397d615\",\"language\":\"\",\"resultsWidth\":600,\"domain\":\"www.google.com\",\"showWaterMark\":1},\"jcaption\":{\"jcaption_selectors\":[\".region-content article img\"],\"jcaption_alt_title\":\"title\",\"jcaption_requireText\":1,\"jcaption_copyStyle\":0,\"jcaption_removeStyle\":0,\"jcaption_removeClass\":0,\"jcaption_removeAlign\":1,\"jcaption_copyAlignmentToClass\":0,\"jcaption_copyFloatToClass\":1,\"jcaption_copyClassToClass\":0,\"jcaption_autoWidth\":1,\"jcaption_keepLink\":0,\"jcaption_styleMarkup\":\"\",\"jcaption_animate\":0,\"jcaption_showDuration\":\"200\",\"jcaption_hideDuration\":\"200\"},\"better_exposed_filters\":{\"views\":{\"title_block\":{\"displays\":{\"header_title_block\":{\"filters\":[]},\"footer_title_block\":{\"filters\":[]},\"block_3\":{\"filters\":[]}}},\"feature_image_story\":{\"displays\":{\"block_3\":{\"filters\":[]}}},\"slider\":{\"displays\":{\"block\":{\"filters\":[]}}},\"news_story\":{\"displays\":{\"home_block\":{\"filters\":[]}}},\"home_page_news_and_events\":{\"displays\":{\"block_1\":{\"filters\":[]}}},\"social_media_icons\":{\"displays\":{\"footer_social_block\":{\"filters\":[]}}}}},\"flexslider\":{\"optionsets\":{\"feature_image\":{\"namespace\":\"flex-\",\"selector\":\".slides \\\\u003E li\",\"easing\":\"swing\",\"direction\":\"horizontal\",\"reverse\":false,\"smoothHeight\":false,\"startAt\":0,\"animationSpeed\":600,\"initDelay\":0,\"useCSS\":true,\"touch\":true,\"video\":false,\"keyboard\":true,\"multipleKeyboard\":false,\"mousewheel\":0,\"controlsContainer\":\".flex-control\",\"sync\":\"\",\"asNavFor\":\"\",\"itemWidth\":0,\"itemMargin\":0,\"minItems\":0,\"maxItems\":0,\"move\":0,\"animation\":\"fade\",\"slideshow\":true,\"slideshowSpeed\":\"7000\",\"directionNav\":false,\"controlNav\":true,\"prevText\":\"Previous\",\"nextText\":\"Next\",\"pausePlay\":false,\"pauseText\":\"Pause\",\"playText\":\"Play\",\"randomize\":false,\"thumbCaptions\":false,\"thumbCaptionsBoth\":false,\"animationLoop\":true,\"pauseOnAction\":true,\"pauseOnHover\":true,\"manualControls\":\"\"},\"default\":{\"namespace\":\"flex-\",\"selector\":\".slides \\\\u003E li\",\"easing\":\"swing\",\"direction\":\"horizontal\",\"reverse\":false,\"smoothHeight\":false,\"startAt\":0,\"animationSpeed\":600,\"initDelay\":0,\"useCSS\":true,\"touch\":true,\"video\":false,\"keyboard\":false,\"multipleKeyboard\":false,\"mousewheel\":0,\"controlsContainer\":\".flex-control-nav-container\",\"sync\":\"\",\"asNavFor\":\"\",\"itemWidth\":350,\"itemMargin\":25,\"minItems\":3,\"maxItems\":3,\"move\":0,\"animation\":\"slide\",\"slideshow\":false,\"slideshowSpeed\":\"7000\",\"directionNav\":true,\"controlNav\":false,\"prevText\":\"Previous\",\"nextText\":\"Next\",\"pausePlay\":false,\"pauseText\":\"Pause\",\"playText\":\"Play\",\"randomize\":false,\"thumbCaptions\":false,\"thumbCaptionsBoth\":false,\"animationLoop\":true,\"pauseOnAction\":true,\"pauseOnHover\":true,\"manualControls\":\"\"}},\"instances\":{\"flexslider-1\":\"feature_image\",\"flexslider-2\":\"default\"}},\"ckeditor_accordion\":{\"collapseAll\":1},\"googleanalytics\":{\"trackOutbound\":1,\"trackMailto\":1,\"trackDownload\":1,\"trackDownloadExtensions\":\"7z|aac|arc|arj|asf|asx|avi|bin|csv|doc(x|m)?|dot(x|m)?|exe|flv|gif|gz|gzip|hqx|jar|jpe?g|js|mp(2|3|4|e?g)|mov(ie)?|msi|msp|pdf|phps|png|ppt(x|m)?|pot(x|m)?|pps(x|m)?|ppam|sld(x|m)?|thmx|qtm?|ra(m|r)?|sea|sit|tar|tgz|torrent|txt|wav|wma|wmv|wpd|xls(x|m|b)?|xlt(x|m)|xlam|xml|z|zip\"},\"urlIsAjaxTrusted\":{\"\\\\/\":true},\"bootstrap\":{\"anchorsFix\":\"0\",\"anchorsSmoothScrolling\":\"0\",\"formHasError\":1,\"popoverEnabled\":1,\"popoverOptions\":{\"animation\":1,\"html\":0,\"placement\":\"right\",\"selector\":\"\",\"trigger\":\"click\",\"triggerAutoclose\":1,\"title\":\"\",\"content\":\"\",\"delay\":0,\"container\":\"body\"},\"tooltipEnabled\":1,\"tooltipOptions\":{\"animation\":1,\"html\":0,\"placement\":\"auto left\",\"selector\":\"\",\"trigger\":\"hover focus\",\"delay\":0,\"container\":\"body\"}}});</script>\\n\\n</head>\\n\\n<body class=\"html front not-logged-in no-sidebars page-node page-node- page-node-233 node-type-page pitt_dark\" >\\n  <div id=\"skip-link\" role=\"navigation\">\\n    <a href=\"#main-content\" class=\"element-invisible element-focusable\">Skip to main content</a>\\n  </div>\\n    \\n\\n<div id=\"pittbar\" role=\"banner\">\\n  <div class=\"container\">\\n          <div class=\"secondary-links\">\\n\\t\\t<div id=\"secondary-nav-prefix\">Information for:</div>\\n\\t\\t<nav role=\"navigation\">\\n\\t\\t  <ul class=\"menu nav navbar-nav secondary\"><li class=\"first leaf\"><a href=\"/information-faculty-staff\" title=\"\">Faculty &amp; Staff</a></li>\\n<li class=\"leaf\"><a href=\"/recruiting\" title=\"\">Prospective Faculty</a></li>\\n<li class=\"leaf\"><a href=\"/prospective-students\" title=\"\">Prospective Students</a></li>\\n<li class=\"leaf\"><a href=\"/alumni\" title=\"\">Alumni</a></li>\\n<li class=\"last leaf\"><a href=\"/partnership\" title=\"\">Partners</a></li>\\n</ul>\\t\\t</nav>\\n      </div>\\n          </div>\\n</div>\\n\\n    \\n\\n<div class=\"header_wrapper\">\\n  \\n<div class=\"container hb\">\\n\\n  <div class=\"row\">\\n    <div class=\"col-xs-12 col-sm-12 col-md-10 logo_space\">\\n      <div class=\"pitt_shield\">\\n        <a href=\"http://www.pitt.edu\">    \\n          <img src=\"/sites/all/themes/pitt_theme_spirit/img/pitt_shield_white.png\" width=\"261\" alt=\"University of Pittsburgh logo\" />\\n        </a>\\n      </div>\\n      <div class=\"site_title_wrapper\">\\n                    <div class=\"region region-logo\">\\n    <section aria-label=\"\" id=\"block-views-title-block-header-title-block\" class=\"block block-views clearfix\">\\n\\n      \\n  \\n<div class=\"view view-title-block view-id-title_block view-display-id-header_title_block site-info--title-block view-dom-id-a49dad4e4e2c76bee4da8859e03a960a\">\\n  \\n      <div class=\"view-content\">\\n        \\n      <div>\\n      \\n          <span class=\"single_title\"><a href=\"/\" class=\"site-info__title\">School of Computing and Information</a></span>    </div>\\n    </div>\\n  \\n  \\n\\n</div>\\n</section>\\n  </div>\\n          \\n      </div><!--title_wrapper -->\\n    </div>\\n    \\n    <div class=\"col-xs-12 col-sm-12 col-md-2 header_links\">\\n              <div class=\"pittbar__search\">\\n            <div class=\"region region-pre-nav\">\\n    <section aria-label=\"\" id=\"block-search-form\" class=\"block block-search clearfix\">\\n\\n      \\n  <form class=\"google-cse form-search content-search\" action=\"/\" method=\"post\" id=\"search-block-form\" accept-charset=\"UTF-8\"><div>  \\n  <div class=\"searchbox\" role=\"search\">\\n    <label for=\"edit-search-block-form-1\" class=\"hidden\">Use this for to search the site.</label> \\n    <input type=\"text\" maxlength=\"128\" name=\"search_block_form\" class=\"searchbox-input\" id=\"edit-search-block-form-1\" size=\"15\" value=\"\" aria-label=\"Search Form\" required title=\"Enter the terms you wish to search for.\"  />          \\n    <input type=\"submit\" class=\"searchbox-submit btn btn-primary\" />\\n    <span class=\"searchbox-icon icon glyphicon glyphicon-search\" aria-label=\"search\" aria-hidden=\"true\"></span>\\n  </div>\\n<div class=\"form-actions form-wrapper form-group\" id=\"edit-actions\"><button class=\"element-invisible btn btn-primary form-submit\" type=\"submit\" id=\"edit-submit\" name=\"op\" value=\"Search\">Search</button>\\n</div><input type=\"hidden\" name=\"form_build_id\" value=\"form-4JnKX9HHTIDZQxwo9EVIsQGL8P7ob9OZGDL_719sXrw\" />\\n<input type=\"hidden\" name=\"form_id\" value=\"search_block_form\" />\\n\\n</div></form>\\n</section>\\n  </div>\\n        </div>\\n          \\n    </div>\\n  </div>\\n</div>\\n\\n<div class=\"nav_wrapper\">\\n  <div class=\"container\">\\n    <div class=\"row\">\\n      <div class=\"col-xs-12\">\\n        <div class=\"navbar-header site-info__navbar-toggle\">\\n      \\t\\t\\t<!-- .btn-navbar is used as the toggle for collapsed navbar content -->\\n      \\t\\t\\t<button type=\"button\" class=\"navbar-toggle\" data-toggle=\"collapse\" data-target=\".primary-links\">\\n      \\t\\t\\t\\t<span class=\"sr-only\">Toggle navigation</span>\\n      \\t\\t\\t\\t<span class=\"icon-bar\"></span>\\n      \\t\\t\\t\\t<span class=\"icon-bar\"></span>\\n      \\t\\t\\t\\t<span class=\"icon-bar\"></span>\\n      \\t\\t\\t</button>\\n  \\t\\t    </div>\\n        <div role=\"navigation\" aria-label=\"primary\"  id=\"primary-links\" class=\"container-fluid\">\\n  <div class=\"navbar container navbar-default\">\\n            <div class=\"navbar-collapse collapse navbar primary-links primary-links__navbar\">\\n          <a class=\"pitt_seal\" href=\"http://www.pitt.edu\" title=\"University of PIttsburgh Home\"></a>\\n            <div class=\"region region-navigation\">\\n    <section aria-label=\"\" id=\"block-menu-block-1\" class=\"block block-menu-block clearfix\">\\n\\n      \\n  <div class=\"menu-block-wrapper menu-block-1 menu-name-main-menu parent-mlid-0 menu-level-1\">\\n  <ul class=\"menu nav\"><li class=\"first leaf active-trail active menu-mlid-218 active\"><a href=\"/\" title=\"\" class=\"active-trail active\">Home</a></li>\\n<li class=\"expanded menu-mlid-5857\"><a href=\"/about\">About</a><ul class=\"menu nav\"><li class=\"first leaf menu-mlid-8503\"><a href=\"/about/deans-annual-update\">Dean&#039;s Annual Update</a></li>\\n<li class=\"leaf menu-mlid-8504\"><a href=\"/about/reputation-and-history\">Reputation and History</a></li>\\n<li class=\"leaf menu-mlid-8476\"><a href=\"/about/departments-and-programs\">Departments and Programs</a></li>\\n<li class=\"leaf menu-mlid-8739\"><a href=\"https://www.sci.pitt.edu/recruiting\" title=\"\">Faculty Recruiting</a></li>\\n<li class=\"leaf menu-mlid-8459\"><a href=\"/about/board-visitors\">Board of Visitors</a></li>\\n<li class=\"leaf menu-mlid-8744\"><a href=\"https://www.sci.pitt.edu/research/labs-centers-and-institutes\" title=\"\">Institutes</a></li>\\n<li class=\"leaf menu-mlid-8505\"><a href=\"/about/zoom-backgrounds\">Zoom Backgrounds</a></li>\\n<li class=\"leaf menu-mlid-8451\"><a href=\"/about/contact-us\">Contact Us</a></li>\\n<li class=\"last expanded menu-mlid-8582\"><a href=\"/about/sci-covid-19-information\">SCI COVID-19 Information</a><ul class=\"menu nav\"><li class=\"first last leaf menu-mlid-8622\"><a href=\"/about/sci-covid-19-information/covid-19-course-status-page\">COVID-19 Course Status Page</a></li>\\n</ul></li>\\n</ul></li>\\n<li class=\"expanded menu-mlid-3063\"><a href=\"/people\" title=\"\">People</a><ul class=\"menu nav\"><li class=\"first leaf menu-mlid-8714\"><a href=\"https://www.sci.pitt.edu/administration\" title=\"\">Administration</a></li>\\n<li class=\"leaf menu-mlid-8578\"><a href=\"/people\" title=\"\">Faculty Directory</a></li>\\n<li class=\"leaf menu-mlid-8475\"><a href=\"/people/staff-directory\">Staff Directory</a></li>\\n<li class=\"last leaf menu-mlid-8477\"><a href=\"/people/phd-students\">PhD Students</a></li>\\n</ul></li>\\n<li class=\"expanded menu-mlid-8440\"><a href=\"/research\">Research</a><ul class=\"menu nav\"><li class=\"first leaf menu-mlid-8466\"><a href=\"/research\" title=\"\">Overview</a></li>\\n<li class=\"expanded menu-mlid-8583\"><a href=\"/research/faculty-spotlight\">Faculty Spotlight</a><ul class=\"menu nav\"><li class=\"first leaf menu-mlid-8616\"><a href=\"/research/research-spotlight/carving-path-safer-and-smarter-buildings\">Carving the path to safer and smarter buildings</a></li>\\n<li class=\"leaf menu-mlid-8620\"><a href=\"/research/research-spotlight/holistic-approach-intelligent-social-learning\">A holistic approach to intelligent social learning</a></li>\\n<li class=\"leaf menu-mlid-8710\"><a href=\"/research/research-spotlight/how-anticipate-hiccups-health-care\">How to anticipate hiccups in health care</a></li>\\n<li class=\"leaf menu-mlid-8716\"><a href=\"/research/research-spotlight/preserving-shared-digital-memory\">Preserving a shared digital memory</a></li>\\n<li class=\"leaf menu-mlid-8715\"><a href=\"/research/faculty-spotlight/holding-information-technologies-accountable-and-addressing\">Holding information technologies accountable and addressing misinformation on the web</a></li>\\n<li class=\"last leaf menu-mlid-8752\"><a href=\"/research/faculty-spotlight/more-afterthought-dr-ibrahim-shows-students-necessity-cybersecurity\">More than an afterthought: Dr. Ibrahim shows students the necessity of cybersecurity</a></li>\\n</ul></li>\\n<li class=\"expanded menu-mlid-8463\"><a href=\"/research/active-research\">Active Research</a><ul class=\"menu nav\"><li class=\"first last leaf menu-mlid-8470\"><a href=\"/research/active-research/current-grants\">Current Grants</a></li>\\n</ul></li>\\n<li class=\"leaf menu-mlid-8468\"><a href=\"/research/labs-centers-and-institutes\">Labs, Centers, and Institutes</a></li>\\n<li class=\"leaf menu-mlid-8467\"><a href=\"/research/visiting-scholars\">Visiting Scholars</a></li>\\n<li class=\"last leaf menu-mlid-8469\"><a href=\"/research/undergraduate-research-scholars\">Undergraduate Research Scholars</a></li>\\n</ul></li>\\n<li class=\"expanded menu-mlid-8441\"><a href=\"/academics\">Academics</a><ul class=\"menu nav\"><li class=\"first leaf menu-mlid-8562\"><a href=\"/academics/degrees-and-programs\" title=\"\">Degrees and Programs</a></li>\\n<li class=\"expanded menu-mlid-8529\"><a href=\"/academics/undergraduate-majors\">Undergraduate Majors</a><ul class=\"menu nav\"><li class=\"first leaf menu-mlid-8532\"><a href=\"/academics/undergraduate/find-right-major-you\">Find the Right Major for You</a></li>\\n<li class=\"leaf menu-mlid-8533\"><a href=\"/academics/undergraduate-majors/computational-biology\">Computational Biology</a></li>\\n<li class=\"leaf menu-mlid-8534\"><a href=\"/academics/undergraduate-majors/computer-science\">Computer Science</a></li>\\n<li class=\"leaf menu-mlid-8535\"><a href=\"/academics/undergraduate-majors/digital-narrative-and-interactive-design\">Digital Narrative and Interactive Design</a></li>\\n<li class=\"leaf menu-mlid-8536\"><a href=\"/academics/undergraduate-majors/information-science\">Information Science</a></li>\\n<li class=\"leaf menu-mlid-8584\"><a href=\"/academics/undergraduate-majors/bs-ms-computer-science\">BS + MS in Computer Science</a></li>\\n<li class=\"last leaf menu-mlid-8585\"><a href=\"/academics/undergraduate-majors/minors\">Minors</a></li>\\n</ul></li>\\n<li class=\"expanded menu-mlid-8537\"><a href=\"/academics/masters-degrees\">Master&#039;s Degrees</a><ul class=\"menu nav\"><li class=\"first leaf menu-mlid-8568\"><a href=\"/academics/masters-degrees/library-and-information-science-mlis\">Library and Information Science</a></li>\\n<li class=\"leaf menu-mlid-8564\"><a href=\"/academics/masters-degrees/computer-science-ms\">Computer Science</a></li>\\n<li class=\"leaf menu-mlid-8575\"><a href=\"/academics/masters-degrees/information-science-ms\">Information Science</a></li>\\n<li class=\"leaf menu-mlid-8571\"><a href=\"/academics/masters-degrees/intelligent-systems-ms\">Intelligent Systems</a></li>\\n<li class=\"last leaf menu-mlid-8574\"><a href=\"/academics/masters-degrees/telecommunications-ms\">Telecommunications</a></li>\\n</ul></li>\\n<li class=\"expanded menu-mlid-8538\"><a href=\"/academics/doctoral-degrees\">Doctoral Degrees</a><ul class=\"menu nav\"><li class=\"first leaf menu-mlid-8565\"><a href=\"/academics/doctoral-degrees/computational-modeling-and-simulation-phd\">Computational Modeling and Simulation</a></li>\\n<li class=\"leaf menu-mlid-8566\"><a href=\"/academics/doctoral-degrees/computer-science-phd\">Computer Science</a></li>\\n<li class=\"leaf menu-mlid-8573\"><a href=\"/academics/doctoral-degrees/information-science-phd\">Information Science</a></li>\\n<li class=\"leaf menu-mlid-8572\"><a href=\"/academics/doctoral-degrees/information-science-focus-telecommunications-phd\">Information Science with a focus in Telecommunications</a></li>\\n<li class=\"leaf menu-mlid-8570\"><a href=\"/academics/doctoral-degrees/intelligent-systems-phd\">Intelligent Systems</a></li>\\n<li class=\"last leaf menu-mlid-8567\"><a href=\"/academics/doctoral-degrees/library-and-information-science-phd\">Library and Information Science</a></li>\\n</ul></li>\\n<li class=\"expanded menu-mlid-8539\"><a href=\"/academics/graduate-certificates\">Graduate Certificates</a><ul class=\"menu nav\"><li class=\"first leaf menu-mlid-8540\"><a href=\"/academics/graduate-certificates/big-data-analytics\">Big Data Analytics</a></li>\\n<li class=\"leaf menu-mlid-8543\"><a href=\"/academics/graduate-certificates/cybersecurity-policy-and-law\">Cybersecurity, Policy, and Law</a></li>\\n<li class=\"leaf menu-mlid-8544\"><a href=\"/academics/graduate-certificates/information-and-network-security\">Information and Network Security</a></li>\\n<li class=\"leaf menu-mlid-8541\"><a href=\"/academics/graduate-certificates/information-science\">Information Science</a></li>\\n<li class=\"last leaf menu-mlid-8542\"><a href=\"/academics/graduate-certificates/telecommunications\">Telecommunications</a></li>\\n</ul></li>\\n<li class=\"leaf menu-mlid-8580\"><a href=\"https://www.sciprofessional.pitt.edu/\" title=\"\">Professional Institute</a></li>\\n<li class=\"expanded menu-mlid-8545\"><a href=\"/academics/experiential-learning\">Experiential Learning</a><ul class=\"menu nav\"><li class=\"first leaf menu-mlid-8719\"><a href=\"/academics/experiential-learning/benefits-experiential-learning\">The Benefit of Experiential Learning</a></li>\\n<li class=\"leaf menu-mlid-8598\"><a href=\"/academics/experiential-learning/credit-opportunities\">For-Credit Opportunities</a></li>\\n<li class=\"last leaf menu-mlid-8597\"><a href=\"/academics/experiential-learning/community-engagement\">Not-for-Credit Opportunities</a></li>\\n</ul></li>\\n<li class=\"leaf menu-mlid-8732\"><a href=\"/academics/earn-master-s-degree-sci\">Pitt2Pitt</a></li>\\n<li class=\"last expanded menu-mlid-8745\"><a href=\"/academics/student-profiles\">Student Profiles</a><ul class=\"menu nav\"><li class=\"first leaf menu-mlid-8750\"><a href=\"/academics/student-profiles/meet-alexa-spaventa\">Meet Alexa Spaventa</a></li>\\n<li class=\"leaf menu-mlid-8746\"><a href=\"/academics/student-profiles/meet-j-stephanie-rose\">Meet J. Stephanie Rose</a></li>\\n<li class=\"leaf menu-mlid-8753\"><a href=\"/academics/student-profiles/meet-lydon-pelletier\">Meet Lydon Pelletier</a></li>\\n<li class=\"leaf menu-mlid-8747\"><a href=\"/academics/student-profiles/meet-pedro-bustamante\">Meet Pedro Bustamante</a></li>\\n<li class=\"leaf menu-mlid-8748\"><a href=\"/academics/student-profiles/meet-nico-campuzano\">Meet Nico Campuzano</a></li>\\n<li class=\"last leaf menu-mlid-8749\"><a href=\"/academics/student-profiles/meet-andrea-michael\">Meet Andrea Michael</a></li>\\n</ul></li>\\n</ul></li>\\n<li class=\"expanded menu-mlid-8442\"><a href=\"/admissions\">Admissions</a><ul class=\"menu nav\"><li class=\"first leaf menu-mlid-8454\"><a href=\"/admissions/take-next-step\">Take the Next Step</a></li>\\n<li class=\"leaf menu-mlid-8527\"><a href=\"/admissions/undergraduate-admissions\">Undergraduate Admissions</a></li>\\n<li class=\"leaf menu-mlid-8549\"><a href=\"/admissions/masters-admissions\">Master&#039;s Admissions</a></li>\\n<li class=\"leaf menu-mlid-8550\"><a href=\"/admissions/doctoral-admissions\">Doctoral Admissions</a></li>\\n<li class=\"leaf menu-mlid-8560\"><a href=\"/admissions/certificate-admissions\">Certificate Admissions</a></li>\\n<li class=\"leaf menu-mlid-8472\"><a href=\"/admissions/undergraduate-admissions-faq\">Undergraduate Admissions FAQ</a></li>\\n<li class=\"leaf menu-mlid-8473\"><a href=\"/admissions/graduate-admissions-faq\">Graduate Admissions FAQ</a></li>\\n<li class=\"expanded menu-mlid-8555\"><a href=\"/admissions/tuition-and-financial-aid\">Tuition and Financial Aid</a><ul class=\"menu nav\"><li class=\"first leaf menu-mlid-8556\"><a href=\"/admissions/tuition-and-financial-aid/financial-aid\">Financial Aid</a></li>\\n<li class=\"last leaf menu-mlid-8557\"><a href=\"/admissions/tuition-and-financial-aid/scholarships\">Scholarships</a></li>\\n</ul></li>\\n<li class=\"leaf menu-mlid-8558\"><a href=\"/admissions/campus-life\">Campus Life</a></li>\\n<li class=\"last leaf menu-mlid-8471\"><a href=\"/admissions/information-sessions\">Information Sessions</a></li>\\n</ul></li>\\n<li class=\"expanded menu-mlid-8443\"><a href=\"/student-resources\">Student Resources</a><ul class=\"menu nav\"><li class=\"first leaf menu-mlid-8563\"><a href=\"/student-resources/z-student-resources\">A-Z Student Resources</a></li>\\n<li class=\"expanded menu-mlid-8499\"><a href=\"/student-resources/academic-advising-center\">Academic Advising Center</a><ul class=\"menu nav\"><li class=\"first leaf menu-mlid-8520\"><a href=\"/student-resources/academic-advising-center/responsibilities\">Responsibilities</a></li>\\n<li class=\"leaf menu-mlid-8518\"><a href=\"/student-resources/academic-advising-center/placement-assessments\">Placement Assessments</a></li>\\n<li class=\"last leaf menu-mlid-8519\"><a href=\"/student-resources/academic-advising-center/general-education-requirements\">General Education Requirements</a></li>\\n</ul></li>\\n<li class=\"leaf menu-mlid-8500\"><a href=\"/student-resources/building-hours\">Building Hours</a></li>\\n<li class=\"expanded menu-mlid-8525\"><a href=\"/student-resources/career-services\">Career Services</a><ul class=\"menu nav\"><li class=\"first leaf menu-mlid-8551\"><a href=\"/student-resources/career-services/job-board\">Job Board</a></li>\\n<li class=\"leaf menu-mlid-8553\"><a href=\"/student-resources/career-services/professional-development\">Professional Development</a></li>\\n<li class=\"last leaf menu-mlid-8712\"><a href=\"/student-resources/career-services/job-placement-statistics\">Job Placement Statistics</a></li>\\n</ul></li>\\n<li class=\"leaf menu-mlid-8561\"><a href=\"http://courses.sci.pitt.edu/\" title=\"\">Courses</a></li>\\n<li class=\"leaf menu-mlid-8502\"><a href=\"/student-resources/enrollment-resources\">Enrollment Resources</a></li>\\n<li class=\"expanded menu-mlid-8521\"><a href=\"/student-resources/graduation\">Graduation</a><ul class=\"menu nav\"><li class=\"first leaf menu-mlid-8523\"><a href=\"/student-resources/graduation/graduation-procedures\">Graduation Procedures</a></li>\\n<li class=\"last leaf menu-mlid-8522\"><a href=\"/student-resources/graduation/school-recognition-ceremony\">School Recognition Ceremony</a></li>\\n</ul></li>\\n<li class=\"leaf menu-mlid-8524\"><a href=\"/student-resources/information-technology\">Information Technology</a></li>\\n<li class=\"expanded menu-mlid-8514\"><a href=\"/student-resources/newly-admitted-students\">Newly Admitted Students</a><ul class=\"menu nav\"><li class=\"first leaf menu-mlid-8516\"><a href=\"/student-resources/newly-admitted-students/graduate-student-orientation\">Graduate Student Orientation</a></li>\\n<li class=\"leaf menu-mlid-8515\"><a href=\"/student-resources/newly-admitted-students/new-graduate-student-faq\">New Graduate Student FAQ</a></li>\\n<li class=\"last leaf menu-mlid-8619\"><a href=\"/student-resources/newly-admitted-students/undergraduate-student-orientation\">Undergraduate Student Orientation</a></li>\\n</ul></li>\\n<li class=\"leaf menu-mlid-8607\"><a href=\"/student-resources/ombudsperson\">Ombudsperson</a></li>\\n<li class=\"expanded menu-mlid-8507\"><a href=\"/student-resources/policies\">Policies</a><ul class=\"menu nav\"><li class=\"first leaf menu-mlid-8508\"><a href=\"/student-resources/policies/academic-integrity-policy\">Academic Integrity Policy</a></li>\\n<li class=\"last leaf menu-mlid-8509\"><a href=\"/student-resources/policies/experiential-learning-policies\">Experiential Learning Policies</a></li>\\n</ul></li>\\n<li class=\"leaf menu-mlid-8546\"><a href=\"/student-resources/school-forms\">School Forms</a></li>\\n<li class=\"leaf menu-mlid-8506\"><a href=\"/student-resources/student-organizations\">Student Organizations</a></li>\\n<li class=\"expanded menu-mlid-8528\"><a href=\"/student-resources/student-success\">Student Success</a><ul class=\"menu nav\"><li class=\"first leaf menu-mlid-8717\"><a href=\"/student-resources/student-success/academic-support-and-tutoring\">Academic Support and Tutoring</a></li>\\n<li class=\"leaf menu-mlid-8721\"><a href=\"/student-resources/student-success/student-success-workshops\">Student Success Workshops</a></li>\\n<li class=\"last leaf menu-mlid-8722\"><a href=\"/student-resources/student-success/learning-and-study-strategies\">Learning and Study Strategies</a></li>\\n</ul></li>\\n<li class=\"last leaf menu-mlid-8720\"><a href=\"/student-resources/who-contact\">Who to Contact</a></li>\\n</ul></li>\\n<li class=\"expanded menu-mlid-5865\"><a href=\"/news\" title=\"\">News</a><ul class=\"menu nav\"><li class=\"first leaf menu-mlid-8587\"><a href=\"/news\" title=\"\">All News</a></li>\\n<li class=\"last leaf menu-mlid-8589\"><a href=\"/news/submit-news-item\">Submit a News Item</a></li>\\n</ul></li>\\n<li class=\"last expanded menu-mlid-8445\"><a href=\"https://calendar.pitt.edu/school_of_computing_and_information\" title=\"\">Events</a><ul class=\"menu nav\"><li class=\"first leaf menu-mlid-8588\"><a href=\"https://calendar.pitt.edu/school_of_computing_and_information\" title=\"\">All Events</a></li>\\n<li class=\"last leaf menu-mlid-8600\"><a href=\"/events/submit-event\">Submit an Event</a></li>\\n</ul></li>\\n</ul></div>\\n\\n</section>\\n  </div>\\n        </div>\\n      </div>\\n</div> <!-- /#primary-links -->      </div>\\n    </div>        \\n  </div>\\n</div>\\n\\n\\n\\n\\n\\n\\n\\n\\n\\n</div>\\n\\n  <div role=\"banner\" id=\"header\" class=\"container-fluid\">\\n      <div class=\"row\">  <div class=\"region region-header\">\\n    <section aria-label=\"\" id=\"block-views-feature-image-story-block-3\" class=\"block block-views block__feature-image--long-text clearfix\">\\n\\n      \\n  <div class=\"view view-feature-image-story view-id-feature_image_story view-display-id-block_3 view--feature-image--long-text view-dom-id-b5211e0d3cf3192ae502ebe36b300f7c\">\\n        \\n  \\n  \\n      <div class=\"view-content\">\\n      <div  id=\"flexslider-1\" class=\"flexslider optionset-feature-image\">\\n  <ul class=\"slides\"><li>  \\n  <div class=\"feature-image feature__image col-xs-12 col-sm-6 col-md-7\">        <div><img typeof=\"foaf:Image\" class=\"img-responsive\" src=\"https://www.sci.pitt.edu/sites/default/files/feature-image/20190423_ao_spring_campus_0036.jpeg\" width=\"695\" height=\"405\" alt=\"\" /></div>  </div>  \\n  <div class=\"views-field views-field-php\">        <span class=\"field-content\"><div class=\"feature-image-wrapper feature__image-wrapper\" style=\"background-image: url(sites/default/files/feature-image/20190423_ao_spring_campus_0036.jpeg);\"></div></span>  </div><div class=\"flex-caption\"><div class=\"feature-info feature__info col-xs-12 col-sm-6 col-md-5\">\\n    <div class=\"feature-title\"><h3 class=\"feature__title\">Earn Your Master&#039;s Degree With Our Pitt2Pitt Program</h3></div>\\n    <div class=\"feature-body feature__body\"><p>Graduating Pitt students and recent alumni can take advantage of our expedited admissions process through the Pitt2Pitt program.</p>\\n <a href=\"https://www.sci.pitt.edu/earn-master-s-degree-sci\" class=\"feature__button feature__button--blue\">Learn More</a> </div>\\n</div></div></li>\\n<li>  \\n  <div class=\"feature-image feature__image col-xs-12 col-sm-6 col-md-7\">        <div><img typeof=\"foaf:Image\" class=\"img-responsive\" src=\"https://www.sci.pitt.edu/sites/default/files/feature-image/experiential.jpg\" width=\"695\" height=\"405\" alt=\"\" /></div>  </div>  \\n  <div class=\"views-field views-field-php\">        <span class=\"field-content\"><div class=\"feature-image-wrapper feature__image-wrapper\" style=\"background-image: url(sites/default/files/feature-image/experiential.jpg);\"></div></span>  </div><div class=\"flex-caption\"><div class=\"feature-info feature__info col-xs-12 col-sm-6 col-md-5\">\\n    <div class=\"feature-title\"><h3 class=\"feature__title\">The Benefits of Experiential Learning</h3></div>\\n    <div class=\"feature-body feature__body\"><p>We are committed to providing exciting and challenging real-life <a href=\"https://www.sci.pitt.edu/academics/experiential-learning/credit-opportunities\">for-credit</a> and <a href=\"https://www.sci.pitt.edu/academics/experiential-learning/community-engagement\">not-for-credit</a> opportunities for students to apply the skills, methodologies, and cutting-edge concepts learned in the classroom.</p>\\n <a href=\"https://www.sci.pitt.edu/academics/experiential-learning/benefits-experiential-learning\" class=\"feature__button feature__button--blue\">Learn More</a> </div>\\n</div></div></li>\\n<li>  \\n  <div class=\"feature-image feature__image col-xs-12 col-sm-6 col-md-7\">        <div><img typeof=\"foaf:Image\" class=\"img-responsive\" src=\"https://www.sci.pitt.edu/sites/default/files/feature-image/20190603_ao_spring_campus_0171_web.jpg\" width=\"695\" height=\"405\" alt=\"\" /></div>  </div>  \\n  <div class=\"views-field views-field-php\">        <span class=\"field-content\"><div class=\"feature-image-wrapper feature__image-wrapper\" style=\"background-image: url(sites/default/files/feature-image/20190603_ao_spring_campus_0171_web.jpg);\"></div></span>  </div><div class=\"flex-caption\"><div class=\"feature-info feature__info col-xs-12 col-sm-6 col-md-5\">\\n    <div class=\"feature-title\"><h3 class=\"feature__title\">Join Our Faculty</h3></div>\\n    <div class=\"feature-body feature__body\"><p>This year\\'s faculty search is open.\\xc2\\xa0 Visit our recruiting page to learn about our open positions and what makes SCI an exciting community to be a part of.</p>\\n <a href=\"https://www.sci.pitt.edu/recruiting\" class=\"feature__button feature__button--blue\">Learn More and Apply</a> </div>\\n</div></div></li>\\n<li>  \\n  <div class=\"feature-image feature__image col-xs-12 col-sm-6 col-md-7\">        <div><img typeof=\"foaf:Image\" class=\"img-responsive\" src=\"https://www.sci.pitt.edu/sites/default/files/feature-image/20200812_ao_arrival_0131.jpeg\" width=\"695\" height=\"405\" alt=\"pitt panther wearing mask\" /></div>  </div>  \\n  <div class=\"views-field views-field-php\">        <span class=\"field-content\"><div class=\"feature-image-wrapper feature__image-wrapper\" style=\"background-image: url(sites/default/files/feature-image/20200812_ao_arrival_0131.jpeg);\"></div></span>  </div><div class=\"flex-caption\"><div class=\"feature-info feature__info col-xs-12 col-sm-6 col-md-5\">\\n    <div class=\"feature-title\"><h3 class=\"feature__title\">COVID-19: SCI&#039;s Response</h3></div>\\n    <div class=\"feature-body feature__body\"><p>In accordance with Pitt policies, SCI is committed to protecting the health of our students, faculty, staff and community. We have developed an <a href=\"https://www.coronavirus.pitt.edu/sites/default/files/sci_activity_area_plan_provost_approved_8.12.2020.pdf\">activity area plan</a> for successfully restarting and welcoming back students, faculty and staff.</p>\\n <a href=\"https://www.sci.pitt.edu/about/sci-covid-19-information\" class=\"feature__button feature__button--blue\">Learn More About Our Response</a> </div>\\n</div></div></li>\\n<li>  \\n  <div class=\"feature-image feature__image col-xs-12 col-sm-6 col-md-7\">        <div><img typeof=\"foaf:Image\" class=\"img-responsive\" src=\"https://www.sci.pitt.edu/sites/default/files/feature-image/sci7.jpg\" width=\"695\" height=\"405\" alt=\"\" /></div>  </div>  \\n  <div class=\"views-field views-field-php\">        <span class=\"field-content\"><div class=\"feature-image-wrapper feature__image-wrapper\" style=\"background-image: url(sites/default/files/feature-image/sci7.jpg);\"></div></span>  </div><div class=\"flex-caption\"><div class=\"feature-info feature__info col-xs-12 col-sm-6 col-md-5\">\\n    <div class=\"feature-title\"><h3 class=\"feature__title\">SCI&#039;s Degree Programs Prepare You for a Complex World</h3></div>\\n    <div class=\"feature-body feature__body\"><p>Just as the technological world grows larger and more intricate every day, the School of Computing and Information continues to challenge our students with increasingly complex problems through a wide set of degrees and programs.</p>\\n <a href=\"https://www.sci.pitt.edu/academics\" class=\"feature__button feature__button--blue\">Learn More</a> </div>\\n</div></div></li>\\n</ul></div>\\n    </div>\\n  \\n  \\n  \\n  \\n  \\n  \\n</div>\\n</section>\\n<section aria-label=\"\" id=\"block-nodesinblock-11\" class=\"block block-nodesinblock clearfix\">\\n\\n      \\n  <div class=\"nodesinblock first last odd\" id=\"nodesinblock-320\"><div class=\"container\">\\n  <div class=\"no-row\">\\n    <div id=\"node-320\" class=\"node node-home-display-text node-promoted clearfix\" about=\"/content/about-school-computing-and-information\" typeof=\"sioc:Item foaf:Document\">\\n            <div class=\"col-xs-12\">\\n          <h3 class=\"block-title\">About the School of Computing and Information</h3>\\n        </div>\\n          \\n              <div class=\"col-xs-12\">\\n          \\n  <div class=\"field-body\">\\n    <p>The School of Computing and Information (SCI) is using data and systems to solve many of the large-scale problems facing the world today. Through our critical research and academic offerings, we are changing the way society does business, manages health care, provides education, designs infrastructure and more. <strong>Interested in joining our faculty? <a href=\"/recruiting\">Learn more and apply</a>.</strong></p>\\n  </div>\\n        </div>\\n        \\n          \\n        \\n        </div>\\n  </div>\\n</div></div>\\n</section>\\n<section aria-label=\"Highlights\" id=\"block-views-slider-block\" class=\"block block-views block__slider block__slider--three-item container clearfix\">\\n\\n        <h3 class=\"block-title\" class=\"block__title\">Highlights</h3>\\n    \\n  <div class=\"view view-slider view-id-slider view-display-id-block view--slider--three-item view-dom-id-d8499143a75ac04b38f0ca9eecc40dc7\">\\n            <div class=\"view-header\">\\n      <div class=\"flex-control-nav-container\"></div>    </div>\\n  \\n  \\n  \\n      <div class=\"view-content\">\\n      <div  id=\"flexslider-2\" class=\"flexslider optionset-default\">\\n  <ul class=\"slides\"><li>  \\n  <div class=\"views-field views-field-field-slider-item-image\">        <div class=\"field-content block-slider--three-item__image\"><a href=\"https://www.sci.pitt.edu/academics/undergraduate-majors\"><div class=\"block__slider--three-item__img\"><img typeof=\"foaf:Image\" class=\"img-responsive\" src=\"https://www.sci.pitt.edu/sites/default/files/slider-image/undergrad_website_0.jpg\" width=\"680\" height=\"300\" alt=\"\" /></div>\\n<h3 class=\"block__slider--three-item__header\">Undergraduate Majors</h3></a></div>  </div>  \\n  <div class=\"views-field views-field-nothing\">        <span class=\"field-content\"><p>Our <a href=\"https://www.sci.pitt.edu/academics/undergraduate-majors\">undergraduate curriculum</a> is designed to support the education of students who view computing and information as a means of empowerment.</p>\\n</span>  </div></li>\\n<li>  \\n  <div class=\"views-field views-field-field-slider-item-image\">        <div class=\"field-content block-slider--three-item__image\"><a href=\"https://www.sci.pitt.edu/academics/masters-degrees\"><div class=\"block__slider--three-item__img\"><img typeof=\"foaf:Image\" class=\"img-responsive\" src=\"https://www.sci.pitt.edu/sites/default/files/slider-image/grad_program_website_0.jpg\" width=\"680\" height=\"300\" alt=\"\" /></div>\\n<h3 class=\"block__slider--three-item__header\">Master\\'s Degrees</h3></a></div>  </div>  \\n  <div class=\"views-field views-field-nothing\">        <span class=\"field-content\"><p>Our <a href=\"https://www.sci.pitt.edu/academics/masters-degrees\">graduate degree programs</a> provide students with\\xc2\\xa0the tools\\xc2\\xa0to analyze and solve the problems created by technology\\xc2\\xa0and to push past technology\\xe2\\x80\\x99s boundaries.</p>\\n</span>  </div></li>\\n<li>  \\n  <div class=\"views-field views-field-field-slider-item-image\">        <div class=\"field-content block-slider--three-item__image\"><a href=\"https://www.sci.pitt.edu/academics/doctoral-degrees\"><div class=\"block__slider--three-item__img\"><img typeof=\"foaf:Image\" class=\"img-responsive\" src=\"https://www.sci.pitt.edu/sites/default/files/slider-image/doctoral_website_0.jpg\" width=\"680\" height=\"300\" alt=\"\" /></div>\\n<h3 class=\"block__slider--three-item__header\">Doctoral Degrees</h3></a></div>  </div>  \\n  <div class=\"views-field views-field-nothing\">        <span class=\"field-content\"><p>Many of the world\\xe2\\x80\\x99s most perplexing issues are advanced by research conducted by our <a href=\"https://www.sci.pitt.edu/academics/doctoral-degrees\">PhD\\xc2\\xa0students</a> and their faculty mentors.</p>\\n</span>  </div></li>\\n<li>  \\n  <div class=\"views-field views-field-field-slider-item-image\">        <div class=\"field-content block-slider--three-item__image\"><a href=\"https://www.sci.pitt.edu/academics/graduate-certificates\"><div class=\"block__slider--three-item__img\"><img typeof=\"foaf:Image\" class=\"img-responsive\" src=\"https://www.sci.pitt.edu/sites/default/files/slider-image/graduate_certificates_website_0.jpeg\" width=\"680\" height=\"300\" alt=\"\" /></div>\\n<h3 class=\"block__slider--three-item__header\">Graduate Certificates</h3></a></div>  </div>  \\n  <div class=\"views-field views-field-nothing\">        <span class=\"field-content\"><p>We provide <a href=\"https://www.sci.pitt.edu/academics/graduate-certificates\">graduate certificates</a> to help you stay up-to-date on the latest technologies and best practices.</p>\\n</span>  </div></li>\\n</ul></div>\\n    </div>\\n  \\n  \\n  \\n  \\n  \\n  \\n</div>\\n</section>\\n  </div>\\n</div>\\n  </div> <!-- /#header -->\\n\\n\\n\\n<a id=\"main-content\"></a>\\n\\n<div class=\"main-container container-fluid\">\\n    <div class=\"container\" id=\"content-wrapper\">\\n        <div class=\"row\">\\n            \\n            <section class=\"col-sm-12 content\" name=\"Highlights\">\\n\\n                \\n\\n                \\n                                    <h1 class=\"page-header\">Home</h1>\\n                    \\n                  \\n                \\n                \\n                \\n                                                    \\n                \\n                \\n                  <div class=\"region region-content\">\\n    <section aria-label=\"\" id=\"block-system-main\" class=\"block block-system clearfix\">\\n\\n      \\n  <div id=\"node-233\" class=\"node node-page clearfix\" about=\"/home\" typeof=\"foaf:Document\">\\n    <div>\\n            <span property=\"dc:title\" content=\"Home\" class=\"rdf-meta element-hidden\"></span>      </div>\\n  \\n    \\n  \\n   </div>\\n\\n</section>\\n<section aria-label=\"\" id=\"block-views-77680d04baf0fe112348352ce8366894\" class=\"block block-views news-events clearfix\">\\n\\n      \\n  <div class=\"view view-home-page-news-and-events view-id-home_page_news_and_events view-display-id-block_1 two-column view-dom-id-13a383a8d7cdb3ad20e136007ce12e21\">\\n        \\n  \\n  \\n      <div class=\"view-content\">\\n        <div class=\"views-row views-row-1 views-row-odd views-row-first views-row-last\">\\n      \\n  <div class=\"views-field views-field-php\">        <div class=\"field-content view__news\">    <h2 class=\"block-title\">News</h2>\\n    <div class=\"view view-news-story view-id-news_story view-display-id-home_block news-block view-dom-id-51ccfb1b786ec6dcbb78cd3ab6916699\">\\n            <div class=\"view-header\">\\n      <a href=\"/news\">View All News</a>    </div>\\n  \\n  \\n  \\n      <div class=\"view-content\">\\n        <div class=\"views-row views-row-1 views-row-odd views-row-first\">\\n      \\n  <div class=\"views-field views-field-php\">        <span class=\"field-content news-block__title\"><a href=\"/news/03-09-2021\">Pitt Startup Makes Exercising \\xe2\\x80\\x98SimpL\\xe2\\x80\\x99</a></span>  </div>  </div>\\n  <div class=\"views-row views-row-2 views-row-even\">\\n      \\n  <div class=\"views-field views-field-php\">        <span class=\"field-content news-block__title\"><a href=\"/news/associate-professor-and-student-win-best-paper-award\">Associate Professor and Student Win Best Paper Award</a></span>  </div>  </div>\\n  <div class=\"views-row views-row-3 views-row-odd\">\\n      \\n  <div class=\"views-field views-field-php\">        <span class=\"field-content news-block__title\"><a href=\"/news/03-02-2021\">Undergraduate Student Katelyn Morrison Selected to Attend ACC Meeting of the Minds</a></span>  </div>  </div>\\n  <div class=\"views-row views-row-4 views-row-even\">\\n      \\n  <div class=\"views-field views-field-php\">        <span class=\"field-content news-block__title\"><a href=\"/news/03-01-2021\">Kayla Booth Receives Provost\\'s Award for Diversity in the Curriculum</a></span>  </div>  </div>\\n  <div class=\"views-row views-row-5 views-row-odd views-row-last\">\\n      \\n  <div class=\"views-field views-field-php\">        <span class=\"field-content news-block__title\"><a href=\"/news/02-26-2021\">Adriana Kovashka Receives National Science Foundation Career Award</a></span>  </div>  </div>\\n    </div>\\n  \\n  \\n  \\n  \\n      <div class=\"view-footer\">\\n      <a href=\"/news\" class=\"more-link\">View All News</a>    </div>\\n  \\n  \\n</div></div>  </div>  \\n  <div class=\"views-field views-field-php-2\">        <div class=\"field-content\">    <h2 class=\"block-title\">Events</h2>\\n<script type=\"text/javascript\"\\nsrc=\"https://calendar.pitt.edu/widget/view?schools=pitt&departments=school_of_computing_and_information_office_of_the_dean%2Cdepartment_of_computer_science%2Cdepartment_of_information_culture_and_data_stewardship%2Cdepartment_of_informatics_and_networked_systems%2Cintelligent_systems_program%2Csara_fine_institute&days=365&num=5&template=list-default-no-view-all-events-link\"></script><a href=\"https://calendar.pitt.edu/school_of_computing_and_information\" class=\"more-link\" target=\"_blank\">View All Events</a></div>  </div>  </div>\\n    </div>\\n  \\n  \\n  \\n  \\n  \\n  \\n</div>\\n</section>\\n  </div>\\n\\n                            </section>\\n\\n            \\n        </div>\\n    </div><!-- /#content-wrapper -->\\n</div><!-- /.main-container -->\\n\\n\\n\\n\\n  <footer class=\"footer container-fluid\">\\n    <div class=\"container\">\\n      <div class=\"site_title\">\\n        <div class=\"footer-logo footer__logo\">\\n             <img src=\"/sites/all/themes/pitt_theme_spirit/img/pitt_shield_white.png\" width=\"261\" alt=\"University of Pittsburgh logo\" />\\n                                <div class=\"region region-footer-logo\">\\n    <section aria-label=\"\" id=\"block-views-title-block-block-3\" class=\"block block-views clearfix\">\\n\\n      \\n  <div class=\"view view-title-block view-id-title_block view-display-id-block_3 footer-site-info--title-block view-dom-id-18c9ff7bc6b7ac8d8bd8bfb807c5ddb9\">\\n        \\n  \\n  \\n      <div class=\"view-content\">\\n        <div>\\n      \\n          <span class=\"single_title site_logo\"><a href=\"/\" class=\"site-info__title\">School of Computing and Information</a></span>    </div>\\n    </div>\\n  \\n  \\n  \\n  \\n  \\n  \\n</div>\\n</section>\\n  </div>\\n                \\n\\n        </div>\\n      </div>\\n      \\n                  <div class=\"region region-footer\">\\n    <section aria-label=\"\" id=\"block-views-title-block-footer-title-block\" class=\"block block-views block__address-block clearfix\">\\n\\n      \\n  <div class=\"view view-title-block view-id-title_block view-display-id-footer_title_block footer--title-block view-dom-id-500a79a57cab188147f02fe99f24b2e6\">\\n        \\n  \\n  \\n      <div class=\"view-content\">\\n        <div>\\n      \\n          \\n  <div class=\"field-contact-info\">\\n    <p>Information Science Building, Fifth Floor<br />\\n135 North Bellefield Avenue<br />\\nPittsburgh, PA 15260</p>\\n\\n<p>412-624-5015</p>\\n\\n<p><a href=\"mailto:sciadmit@pitt.edu\">sciadmit@pitt.edu</a></p>\\n  </div>\\n    \\n              </div>\\n    </div>\\n  \\n  \\n  \\n  \\n  \\n  \\n</div>\\n</section>\\n<section aria-label=\"\" id=\"block-nodesinblock-1\" class=\"block block-nodesinblock clearfix\">\\n\\n      \\n  <div class=\"nodesinblock first last odd\" id=\"nodesinblock-207\">\\n\\n\\t<div class=\"node-207 node node-block block-type-with-text nodesinblock--with-text clearfix nodesinblock--default\" about=\"/block/resources-footer-block\" typeof=\"sioc:Item foaf:Document\">\\n        <div class=\"block-column nodesinblock__column\">\\n    \\t\\t\\n    \\t\\t\\n    \\t\\t\\n    \\t\\t\\t<div name=\"Resources Footer Block\">\\n    \\t\\t\\t\\t<h4>Resources</h4>\\r\\n\\r\\n<ul class=\"two-column\">\\r\\n\\t<li><a href=\"https://www.coronavirus.pitt.edu/\">Pitt COVID-19 Updates</a></li>\\r\\n\\t<li><a href=\"/node/557\">SCI COVID-19 Response</a></li>\\r\\n\\t<li><a href=\"/node/399\">Departments and Programs</a></li>\\r\\n\\t<li><a href=\"/node/501\">Degrees and Programs</a></li>\\r\\n\\t<li><a href=\"/node/333\">Admissions</a></li>\\r\\n\\t<li><a href=\"https://www.registrar.pitt.edu/calendars\">Academic Calendar</a></li>\\r\\n\\t<li><a href=\"http://courses.sci.pitt.edu/\">Course Schedule</a></li>\\r\\n\\t<li><a href=\"/people\">Faculty Directory</a></li>\\r\\n\\t<li><a href=\"/node/398\">Staff Directory</a></li>\\r\\n\\t<li><a href=\"https://giveto.pitt.edu/giveSCI\">Give Now</a></li>\\r\\n</ul>\\r\\n\\n              \\t\\t\\t</div>\\n\\n    \\t\\t        </div>\\n\\t</div>\\n\\n\\n\\n</div>\\n</section>\\n<section aria-label=\"\" id=\"block-views-7991932e043137b92876af32e9d227ec\" class=\"block block-views block__social-media clearfix\">\\n\\n      \\n  <div class=\"view view-social-media-icons view-id-social_media_icons view-display-id-footer_social_block social-block footer--social-block view-dom-id-3fe4674bf379b615c9b6fd8f8573a54b\">\\n        \\n  \\n  \\n      <div class=\"view-content\">\\n        <div class=\"views-row views-row-1 views-row-odd views-row-first\">\\n      \\n  <div class=\"views-field views-field-nothing\">        <span class=\"field-content\"><a href=\"mailto:sciadmit@pitt.edu\" target=\"_blank\" title=\"Email Us\"><span aria-label=\"Email Us\" class=\"fa fa-envelope\" aria-hidden=\"true\"></span></a></span>  </div>  </div>\\n  <div class=\"views-row views-row-2 views-row-even\">\\n      \\n  <div class=\"views-field views-field-nothing\">        <span class=\"field-content\"><a href=\"https://www.facebook.com/SciPitt/\" target=\"_blank\" title=\"Find SCI on Facebook\"><span aria-label=\"Find SCI on Facebook\" class=\"fab fa-facebook-f\" aria-hidden=\"true\"></span></a></span>  </div>  </div>\\n  <div class=\"views-row views-row-3 views-row-odd\">\\n      \\n  <div class=\"views-field views-field-nothing\">        <span class=\"field-content\"><a href=\"https://twitter.com/SciPitt\" target=\"_blank\" title=\"Follow SCI Pitt on Twitter\"><span aria-label=\"Follow SCI Pitt on Twitter\" class=\"fab fa-twitter\" aria-hidden=\"true\"></span></a></span>  </div>  </div>\\n  <div class=\"views-row views-row-4 views-row-even views-row-last\">\\n      \\n  <div class=\"views-field views-field-nothing\">        <span class=\"field-content\"><a href=\"https://www.linkedin.com/school/university-of-pittsburgh-school-of-computing-and-information/?viewAsMember=true\" target=\"_blank\" title=\"Follow SCI on LinkedIn\"><span aria-label=\"Follow SCI on LinkedIn\" class=\"fab fa-linkedin\" aria-hidden=\"true\"></span></a></span>  </div>  </div>\\n    </div>\\n  \\n  \\n  \\n  \\n  \\n  \\n</div>\\n</section>\\n  </div>\\n      \\n          <div id=\"copyright\" class=\"container-fluid footer__copyright\">\\n          <div class=\"region region-copyright\">\\n    <section aria-label=\"\" id=\"block-block-1\" class=\"block block-block clearfix\">\\n\\n      \\n  \\n<span>Revised 03/16/21</span><span>Copyright 2021</span>\\n</section>\\n  </div>\\n      </div>\\n      </div>\\n\\n</footer>\\n\\n  <script src=\"/sites/default/files/js/js_uTpGZRbRZm_lrt5640lI88hN-6jGIe3E3hxZcagIuss.js\"></script>\\n<script src=\"/sites/default/files/js/js_MRdvkC2u4oGsp5wVxBG1pGV5NrCPW3mssHxIn6G9tGE.js\"></script>\\n</body>\\n</html>\\n'\n"
     ]
    }
   ],
   "source": [
    "print(response.content)"
   ]
  },
  {
   "cell_type": "markdown",
   "metadata": {
    "tags": []
   },
   "source": [
    "Calling to get a website is not interesting, because it's really hard for us to make use of that data...\n",
    "\n",
    "But other web calls are not just for getting websites, but for getting data from websites.  Specifically, JSON structured data is common.\n",
    "\n",
    "For this activity, we're going to work with an API, JSON, along with some date/time manipulations to do some Space Stuff.  Specifcally, were going to use an API to learn more about the International Space Station.\n",
    "\n",
    "API refernece: http://api.open-notify.org"
   ]
  },
  {
   "cell_type": "code",
   "execution_count": null,
   "metadata": {},
   "outputs": [],
   "source": []
  },
  {
   "cell_type": "markdown",
   "metadata": {},
   "source": [
    "To begin, let's look at the documentation and write a request to get the list of people in space *right now*."
   ]
  },
  {
   "cell_type": "code",
   "execution_count": null,
   "metadata": {},
   "outputs": [],
   "source": []
  },
  {
   "cell_type": "code",
   "execution_count": null,
   "metadata": {},
   "outputs": [],
   "source": []
  },
  {
   "cell_type": "code",
   "execution_count": null,
   "metadata": {},
   "outputs": [],
   "source": []
  },
  {
   "cell_type": "code",
   "execution_count": null,
   "metadata": {},
   "outputs": [],
   "source": []
  },
  {
   "cell_type": "code",
   "execution_count": null,
   "metadata": {},
   "outputs": [],
   "source": []
  },
  {
   "cell_type": "code",
   "execution_count": null,
   "metadata": {},
   "outputs": [],
   "source": []
  },
  {
   "cell_type": "code",
   "execution_count": null,
   "metadata": {},
   "outputs": [],
   "source": []
  },
  {
   "cell_type": "code",
   "execution_count": null,
   "metadata": {},
   "outputs": [],
   "source": []
  },
  {
   "cell_type": "code",
   "execution_count": null,
   "metadata": {},
   "outputs": [],
   "source": []
  },
  {
   "cell_type": "code",
   "execution_count": null,
   "metadata": {},
   "outputs": [],
   "source": []
  },
  {
   "cell_type": "code",
   "execution_count": null,
   "metadata": {},
   "outputs": [],
   "source": []
  },
  {
   "cell_type": "code",
   "execution_count": 9,
   "metadata": {},
   "outputs": [
    {
     "name": "stdout",
     "output_type": "stream",
     "text": [
      "200\n",
      "{'message': 'success', 'number': 7, 'people': [{'craft': 'ISS', 'name': 'Sergey Ryzhikov'}, {'craft': 'ISS', 'name': 'Kate Rubins'}, {'craft': 'ISS', 'name': 'Sergey Kud-Sverchkov'}, {'craft': 'ISS', 'name': 'Mike Hopkins'}, {'craft': 'ISS', 'name': 'Victor Glover'}, {'craft': 'ISS', 'name': 'Shannon Walker'}, {'craft': 'ISS', 'name': 'Soichi Noguchi'}]}\n"
     ]
    }
   ],
   "source": [
    "response = requests.get(\"http://api.open-notify.org/astros.json\")\n",
    "print(response.status_code)\n",
    "print(response.json())"
   ]
  },
  {
   "cell_type": "code",
   "execution_count": null,
   "metadata": {},
   "outputs": [],
   "source": []
  },
  {
   "cell_type": "code",
   "execution_count": null,
   "metadata": {},
   "outputs": [],
   "source": []
  },
  {
   "cell_type": "code",
   "execution_count": null,
   "metadata": {},
   "outputs": [],
   "source": []
  },
  {
   "cell_type": "code",
   "execution_count": null,
   "metadata": {},
   "outputs": [],
   "source": []
  },
  {
   "cell_type": "markdown",
   "metadata": {},
   "source": [
    "Now, let's make this list pretty by breaking down the JSON and printing a clean list."
   ]
  },
  {
   "cell_type": "code",
   "execution_count": null,
   "metadata": {},
   "outputs": [],
   "source": []
  },
  {
   "cell_type": "code",
   "execution_count": null,
   "metadata": {},
   "outputs": [],
   "source": []
  },
  {
   "cell_type": "code",
   "execution_count": null,
   "metadata": {},
   "outputs": [],
   "source": []
  },
  {
   "cell_type": "code",
   "execution_count": null,
   "metadata": {},
   "outputs": [],
   "source": []
  },
  {
   "cell_type": "code",
   "execution_count": null,
   "metadata": {},
   "outputs": [],
   "source": []
  },
  {
   "cell_type": "code",
   "execution_count": null,
   "metadata": {},
   "outputs": [],
   "source": []
  },
  {
   "cell_type": "code",
   "execution_count": null,
   "metadata": {},
   "outputs": [],
   "source": []
  },
  {
   "cell_type": "code",
   "execution_count": null,
   "metadata": {},
   "outputs": [],
   "source": []
  },
  {
   "cell_type": "code",
   "execution_count": null,
   "metadata": {},
   "outputs": [],
   "source": []
  },
  {
   "cell_type": "code",
   "execution_count": null,
   "metadata": {},
   "outputs": [],
   "source": []
  },
  {
   "cell_type": "code",
   "execution_count": null,
   "metadata": {},
   "outputs": [],
   "source": []
  },
  {
   "cell_type": "code",
   "execution_count": null,
   "metadata": {},
   "outputs": [],
   "source": []
  },
  {
   "cell_type": "code",
   "execution_count": null,
   "metadata": {},
   "outputs": [],
   "source": []
  },
  {
   "cell_type": "code",
   "execution_count": null,
   "metadata": {},
   "outputs": [],
   "source": []
  },
  {
   "cell_type": "code",
   "execution_count": 11,
   "metadata": {},
   "outputs": [
    {
     "data": {
      "text/plain": [
       "{'message': 'success',\n",
       " 'number': 7,\n",
       " 'people': [{'craft': 'ISS', 'name': 'Sergey Ryzhikov'},\n",
       "  {'craft': 'ISS', 'name': 'Kate Rubins'},\n",
       "  {'craft': 'ISS', 'name': 'Sergey Kud-Sverchkov'},\n",
       "  {'craft': 'ISS', 'name': 'Mike Hopkins'},\n",
       "  {'craft': 'ISS', 'name': 'Victor Glover'},\n",
       "  {'craft': 'ISS', 'name': 'Shannon Walker'},\n",
       "  {'craft': 'ISS', 'name': 'Soichi Noguchi'}]}"
      ]
     },
     "execution_count": 11,
     "metadata": {},
     "output_type": "execute_result"
    }
   ],
   "source": [
    "response.json()"
   ]
  },
  {
   "cell_type": "code",
   "execution_count": 13,
   "metadata": {},
   "outputs": [
    {
     "name": "stdout",
     "output_type": "stream",
     "text": [
      "Sergey Ryzhikov, ISS\n",
      "Kate Rubins, ISS\n",
      "Sergey Kud-Sverchkov, ISS\n",
      "Mike Hopkins, ISS\n",
      "Victor Glover, ISS\n",
      "Shannon Walker, ISS\n",
      "Soichi Noguchi, ISS\n"
     ]
    }
   ],
   "source": [
    "astros = response.json()['people']\n",
    "\n",
    "for astro in astros :\n",
    "    print (astro['name'] + \", \" + astro['craft'])"
   ]
  },
  {
   "cell_type": "code",
   "execution_count": null,
   "metadata": {},
   "outputs": [],
   "source": []
  },
  {
   "cell_type": "code",
   "execution_count": null,
   "metadata": {},
   "outputs": [],
   "source": []
  },
  {
   "cell_type": "code",
   "execution_count": null,
   "metadata": {},
   "outputs": [],
   "source": []
  },
  {
   "cell_type": "markdown",
   "metadata": {},
   "source": [
    "Ok, now let's make this a little more *kinetic*... can we use the iss-pass API to learn when the next time the space station will pass over Pittsburgh??\n",
    "\n",
    "Hint, the University of Pittsburgh's long and lat are 79.9959 W and 40.4406 N\n",
    "\n",
    "Another hint, we need to use the params feature of requests!\n",
    "\n",
    "API to use: http://open-notify.org/Open-Notify-API/ISS-Pass-Times/"
   ]
  },
  {
   "cell_type": "code",
   "execution_count": null,
   "metadata": {},
   "outputs": [],
   "source": []
  },
  {
   "cell_type": "code",
   "execution_count": null,
   "metadata": {},
   "outputs": [],
   "source": []
  },
  {
   "cell_type": "code",
   "execution_count": null,
   "metadata": {},
   "outputs": [],
   "source": []
  },
  {
   "cell_type": "code",
   "execution_count": null,
   "metadata": {},
   "outputs": [],
   "source": []
  },
  {
   "cell_type": "code",
   "execution_count": null,
   "metadata": {},
   "outputs": [],
   "source": []
  },
  {
   "cell_type": "code",
   "execution_count": null,
   "metadata": {},
   "outputs": [],
   "source": []
  },
  {
   "cell_type": "code",
   "execution_count": null,
   "metadata": {},
   "outputs": [],
   "source": []
  },
  {
   "cell_type": "code",
   "execution_count": null,
   "metadata": {},
   "outputs": [],
   "source": []
  },
  {
   "cell_type": "code",
   "execution_count": null,
   "metadata": {},
   "outputs": [],
   "source": []
  },
  {
   "cell_type": "code",
   "execution_count": null,
   "metadata": {},
   "outputs": [],
   "source": []
  },
  {
   "cell_type": "code",
   "execution_count": null,
   "metadata": {},
   "outputs": [],
   "source": []
  },
  {
   "cell_type": "code",
   "execution_count": 16,
   "metadata": {},
   "outputs": [
    {
     "name": "stdout",
     "output_type": "stream",
     "text": [
      "{'message': 'success', 'request': {'altitude': 100, 'datetime': 1615989847, 'latitude': 40.4406, 'longitude': -79.9959, 'passes': 5}, 'response': [{'duration': 541, 'risetime': 1616024854}, {'duration': 654, 'risetime': 1616030581}, {'duration': 593, 'risetime': 1616036448}, {'duration': 555, 'risetime': 1616042338}, {'duration': 619, 'risetime': 1616048170}]}\n"
     ]
    }
   ],
   "source": [
    "response = requests.get(\"http://api.open-notify.org/iss-pass.json\", params='lon=-79.9959&lat=40.4406')\n",
    "\n",
    "print(response.json())"
   ]
  },
  {
   "cell_type": "code",
   "execution_count": null,
   "metadata": {},
   "outputs": [],
   "source": []
  },
  {
   "cell_type": "code",
   "execution_count": 18,
   "metadata": {},
   "outputs": [
    {
     "data": {
      "text/plain": [
       "[{'duration': 541, 'risetime': 1616024854},\n",
       " {'duration': 654, 'risetime': 1616030581},\n",
       " {'duration': 593, 'risetime': 1616036448},\n",
       " {'duration': 555, 'risetime': 1616042338},\n",
       " {'duration': 619, 'risetime': 1616048170}]"
      ]
     },
     "execution_count": 18,
     "metadata": {},
     "output_type": "execute_result"
    }
   ],
   "source": [
    "response.json()['response']"
   ]
  },
  {
   "cell_type": "code",
   "execution_count": null,
   "metadata": {},
   "outputs": [],
   "source": []
  },
  {
   "cell_type": "code",
   "execution_count": null,
   "metadata": {},
   "outputs": [],
   "source": []
  },
  {
   "cell_type": "code",
   "execution_count": null,
   "metadata": {},
   "outputs": [],
   "source": []
  },
  {
   "cell_type": "code",
   "execution_count": null,
   "metadata": {},
   "outputs": [],
   "source": []
  },
  {
   "cell_type": "markdown",
   "metadata": {},
   "source": [
    "Ok, for the challenging part of this Activity, let's use the datatime package to convert these UNIX time to useful time and print out the pass times.\n",
    "\n",
    "Reference for the datatime package:\n",
    "https://docs.python.org/3/library/datetime.html"
   ]
  },
  {
   "cell_type": "code",
   "execution_count": null,
   "metadata": {},
   "outputs": [],
   "source": []
  },
  {
   "cell_type": "code",
   "execution_count": null,
   "metadata": {},
   "outputs": [],
   "source": []
  },
  {
   "cell_type": "code",
   "execution_count": null,
   "metadata": {},
   "outputs": [],
   "source": []
  },
  {
   "cell_type": "code",
   "execution_count": null,
   "metadata": {},
   "outputs": [],
   "source": []
  },
  {
   "cell_type": "code",
   "execution_count": null,
   "metadata": {},
   "outputs": [],
   "source": []
  },
  {
   "cell_type": "code",
   "execution_count": null,
   "metadata": {},
   "outputs": [],
   "source": []
  },
  {
   "cell_type": "code",
   "execution_count": null,
   "metadata": {},
   "outputs": [],
   "source": []
  },
  {
   "cell_type": "code",
   "execution_count": null,
   "metadata": {},
   "outputs": [],
   "source": []
  },
  {
   "cell_type": "code",
   "execution_count": 20,
   "metadata": {},
   "outputs": [
    {
     "name": "stdout",
     "output_type": "stream",
     "text": [
      "2021-03-17 23:47:34 9:01\n",
      "2021-03-18 01:23:01 10:54\n",
      "2021-03-18 03:00:48 9:53\n",
      "2021-03-18 04:38:58 9:15\n",
      "2021-03-18 06:16:10 10:19\n"
     ]
    }
   ],
   "source": [
    "from datetime import datetime\n",
    "for passby in response.json()['response'] :\n",
    "    riseTime = datetime.utcfromtimestamp(passby['risetime'])\n",
    "    print(str(riseTime) + ' ' + str(passby['duration'] // 60) + ':' + str(passby['duration'] % 60).zfill(2))"
   ]
  },
  {
   "cell_type": "code",
   "execution_count": null,
   "metadata": {},
   "outputs": [],
   "source": []
  },
  {
   "cell_type": "code",
   "execution_count": null,
   "metadata": {},
   "outputs": [],
   "source": []
  },
  {
   "cell_type": "code",
   "execution_count": null,
   "metadata": {},
   "outputs": [],
   "source": []
  },
  {
   "cell_type": "code",
   "execution_count": null,
   "metadata": {},
   "outputs": [],
   "source": []
  },
  {
   "cell_type": "code",
   "execution_count": null,
   "metadata": {},
   "outputs": [],
   "source": []
  },
  {
   "cell_type": "code",
   "execution_count": null,
   "metadata": {},
   "outputs": [],
   "source": []
  },
  {
   "cell_type": "markdown",
   "metadata": {},
   "source": [
    "But wait, this is UTC time,  right now in Daylight time on the East Coast, we are 4 hours *behind* UTC.  Can we use the datetime functions to subtract an hour?\n",
    "\n",
    "What about this timedelta object?\n",
    "https://docs.python.org/3/library/datetime.html#timedelta-objects"
   ]
  },
  {
   "cell_type": "code",
   "execution_count": null,
   "metadata": {},
   "outputs": [],
   "source": []
  },
  {
   "cell_type": "code",
   "execution_count": null,
   "metadata": {},
   "outputs": [],
   "source": []
  },
  {
   "cell_type": "code",
   "execution_count": null,
   "metadata": {},
   "outputs": [],
   "source": []
  },
  {
   "cell_type": "code",
   "execution_count": null,
   "metadata": {},
   "outputs": [],
   "source": []
  },
  {
   "cell_type": "code",
   "execution_count": null,
   "metadata": {},
   "outputs": [],
   "source": []
  },
  {
   "cell_type": "code",
   "execution_count": null,
   "metadata": {},
   "outputs": [],
   "source": []
  },
  {
   "cell_type": "code",
   "execution_count": null,
   "metadata": {},
   "outputs": [],
   "source": []
  },
  {
   "cell_type": "code",
   "execution_count": null,
   "metadata": {},
   "outputs": [],
   "source": []
  },
  {
   "cell_type": "code",
   "execution_count": null,
   "metadata": {},
   "outputs": [],
   "source": []
  },
  {
   "cell_type": "code",
   "execution_count": null,
   "metadata": {},
   "outputs": [],
   "source": []
  },
  {
   "cell_type": "code",
   "execution_count": null,
   "metadata": {},
   "outputs": [],
   "source": []
  },
  {
   "cell_type": "code",
   "execution_count": null,
   "metadata": {},
   "outputs": [],
   "source": []
  },
  {
   "cell_type": "code",
   "execution_count": 27,
   "metadata": {},
   "outputs": [
    {
     "name": "stdout",
     "output_type": "stream",
     "text": [
      "2021-03-17 19:47:34 9:01\n",
      "2021-03-17 21:23:01 10:54\n",
      "2021-03-17 23:00:48 9:53\n",
      "2021-03-18 00:38:58 9:15\n",
      "2021-03-18 02:16:10 10:19\n"
     ]
    }
   ],
   "source": [
    "from datetime import datetime, timedelta\n",
    "for passby in response.json()['response'] :\n",
    "    riseTime = datetime.utcfromtimestamp(passby['risetime'])\n",
    "    riseTime = riseTime - timedelta(hours=4)\n",
    "    print(str(riseTime) + ' ' + str(passby['duration'] // 60) + ':' + str(passby['duration'] % 60).zfill(2))"
   ]
  },
  {
   "cell_type": "code",
   "execution_count": null,
   "metadata": {},
   "outputs": [],
   "source": []
  },
  {
   "cell_type": "code",
   "execution_count": null,
   "metadata": {},
   "outputs": [],
   "source": []
  },
  {
   "cell_type": "code",
   "execution_count": null,
   "metadata": {},
   "outputs": [],
   "source": []
  },
  {
   "cell_type": "code",
   "execution_count": null,
   "metadata": {},
   "outputs": [],
   "source": []
  },
  {
   "cell_type": "code",
   "execution_count": null,
   "metadata": {},
   "outputs": [],
   "source": []
  },
  {
   "cell_type": "code",
   "execution_count": null,
   "metadata": {},
   "outputs": [],
   "source": []
  },
  {
   "cell_type": "code",
   "execution_count": null,
   "metadata": {},
   "outputs": [],
   "source": []
  },
  {
   "cell_type": "code",
   "execution_count": null,
   "metadata": {},
   "outputs": [],
   "source": []
  },
  {
   "cell_type": "markdown",
   "metadata": {},
   "source": [
    "Bonus activity!!!  Can we print the time to look up, and hor how long in a more pretty way?  What if it's overhead **right now**??\n",
    "\n",
    "For instnace, something like:\n",
    "\n",
    "Look up in: 9 hours 22 minutes 5 seconds for 9 minutes 1 seconds\n",
    "\n",
    "Look up in: 10 hours 57 minutes 32 seconds for 10 minutes 54 seconds\n",
    "\n",
    "Look up in: 12 hours 35 minutes 19 seconds for 9 minutes 53 seconds\n",
    "\n",
    "Look up in: 14 hours 13 minutes 29 seconds for 9 minutes 15 seconds\n",
    "\n",
    "Look up in: 15 hours 50 minutes 41 seconds for 10 minutes 19 seconds"
   ]
  },
  {
   "cell_type": "code",
   "execution_count": null,
   "metadata": {},
   "outputs": [],
   "source": []
  },
  {
   "cell_type": "code",
   "execution_count": null,
   "metadata": {},
   "outputs": [],
   "source": []
  },
  {
   "cell_type": "code",
   "execution_count": null,
   "metadata": {},
   "outputs": [],
   "source": []
  },
  {
   "cell_type": "code",
   "execution_count": null,
   "metadata": {},
   "outputs": [],
   "source": []
  },
  {
   "cell_type": "code",
   "execution_count": null,
   "metadata": {},
   "outputs": [],
   "source": []
  },
  {
   "cell_type": "code",
   "execution_count": null,
   "metadata": {},
   "outputs": [],
   "source": []
  },
  {
   "cell_type": "code",
   "execution_count": null,
   "metadata": {},
   "outputs": [],
   "source": []
  },
  {
   "cell_type": "code",
   "execution_count": null,
   "metadata": {},
   "outputs": [],
   "source": []
  },
  {
   "cell_type": "code",
   "execution_count": 25,
   "metadata": {},
   "outputs": [
    {
     "name": "stdout",
     "output_type": "stream",
     "text": [
      "Look up in: 9 hours 22 minutes 5 seconds for 9 minutes 1 seconds\n",
      "Look up in: 10 hours 57 minutes 32 seconds for 10 minutes 54 seconds\n",
      "Look up in: 12 hours 35 minutes 19 seconds for 9 minutes 53 seconds\n",
      "Look up in: 14 hours 13 minutes 29 seconds for 9 minutes 15 seconds\n",
      "Look up in: 15 hours 50 minutes 41 seconds for 10 minutes 19 seconds\n"
     ]
    }
   ],
   "source": [
    "from datetime import datetime\n",
    "\n",
    "currentTime = datetime.now()\n",
    "\n",
    "for passby in response.json()['response'] :\n",
    "    riseTime = datetime.fromtimestamp(passby['risetime'])\n",
    "    \n",
    "    timeUntil = riseTime - currentTime\n",
    "    \n",
    "    if(riseTime < currentTime) :\n",
    "        \n",
    "        timeLeft = -((60*60*24 - timeUntil.seconds)) + passby['duration']\n",
    "        \n",
    "        if(timeLeft > 0) :\n",
    "            print('Look up now! for the next ' + str(timeLeft // 60) +\n",
    "                  ' minutes ' + str(timeLeft % 60) + ' seconds')\n",
    "\n",
    "    else :\n",
    "        \n",
    "    \n",
    "        print('Look up in: ' + str(timeUntil.seconds // (60 * 60)) + ' hours ' +\n",
    "              str(((timeUntil.seconds // (60 * 60)) * -60) + timeUntil.seconds // 60) + ' minutes ' + str(timeUntil.seconds % 60) + ' seconds for ' +\n",
    "              str(passby['duration'] // 60) + ' minutes ' + str(passby['duration'] % 60) + ' seconds')"
   ]
  },
  {
   "cell_type": "markdown",
   "metadata": {},
   "source": [
    "Let's check our work...\n",
    "\n",
    "https://spotthestation.nasa.gov/tracking_map.cfm"
   ]
  },
  {
   "cell_type": "code",
   "execution_count": null,
   "metadata": {},
   "outputs": [],
   "source": []
  }
 ],
 "metadata": {
  "kernelspec": {
   "display_name": "Python 3",
   "language": "python",
   "name": "python3"
  },
  "language_info": {
   "codemirror_mode": {
    "name": "ipython",
    "version": 3
   },
   "file_extension": ".py",
   "mimetype": "text/x-python",
   "name": "python",
   "nbconvert_exporter": "python",
   "pygments_lexer": "ipython3",
   "version": "3.8.3"
  }
 },
 "nbformat": 4,
 "nbformat_minor": 4
}
