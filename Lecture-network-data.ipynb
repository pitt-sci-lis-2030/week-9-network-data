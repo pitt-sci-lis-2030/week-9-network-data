{
 "cells": [
  {
   "cell_type": "markdown",
   "metadata": {},
   "source": [
    "# Week 9 Lecture - Data Formats\n",
    "\n",
    "Topics\n",
    "- Getting data from the web\n",
    "- Application Programming Interfaces (APIs)\n",
    "- Hypertext Transfer Protocol (HTTP) \n",
    "- HTTP in Python with Requests"
   ]
  },
  {
   "cell_type": "markdown",
   "metadata": {},
   "source": [
    "## Getting Data from the Web"
   ]
  },
  {
   "cell_type": "markdown",
   "metadata": {},
   "source": [
    "So far we have been getting data into python via 2 ways:\n",
    "- Typing it literally into our code as ints, floats, strings\n",
    "- Readings files from disk using `open()` and "
   ]
  },
  {
   "cell_type": "markdown",
   "metadata": {},
   "source": [
    "\n",
    "- project gutenberg example\n",
    "- WPRDC Example with CSV"
   ]
  },
  {
   "cell_type": "markdown",
   "metadata": {},
   "source": [
    "## Application Programming Interfaces \n",
    "\n",
    "\n",
    "- What is an APIs\n",
    "- API documentation\n",
    "    - National Weather Service - https://www.weather.gov/documentation/services-web-api\n",
    "- Example APIs\n",
    "    - Library of Congress https://labs.loc.gov/lc-for-robots/\n",
    "    - Open Weather https://openweathermap.org/api"
   ]
  },
  {
   "cell_type": "code",
   "execution_count": null,
   "metadata": {},
   "outputs": [],
   "source": []
  },
  {
   "cell_type": "markdown",
   "metadata": {},
   "source": [
    "### What is an API\n",
    "\n",
    "APIs are *designed* by humans for humans (well software developers)"
   ]
  },
  {
   "cell_type": "code",
   "execution_count": null,
   "metadata": {},
   "outputs": [],
   "source": []
  },
  {
   "cell_type": "code",
   "execution_count": null,
   "metadata": {},
   "outputs": [],
   "source": []
  },
  {
   "cell_type": "markdown",
   "metadata": {},
   "source": [
    "### Using APIs: Read the documentation"
   ]
  },
  {
   "cell_type": "code",
   "execution_count": null,
   "metadata": {},
   "outputs": [],
   "source": []
  },
  {
   "cell_type": "markdown",
   "metadata": {},
   "source": [
    "### Example APIs\n",
    "\n"
   ]
  },
  {
   "cell_type": "markdown",
   "metadata": {},
   "source": [
    "```\n",
    "Information Sciences Building, \n",
    "135 North Bellefield Avenue, \n",
    "Pittsburgh, PA 15213\n",
    "\n",
    "Latitude: 40.447475 | Longitude: -79.952396\n",
    "```\n",
    "Get your GPS coordinates via https://www.gps-coordinates.net "
   ]
  },
  {
   "cell_type": "code",
   "execution_count": null,
   "metadata": {},
   "outputs": [],
   "source": []
  },
  {
   "cell_type": "code",
   "execution_count": null,
   "metadata": {},
   "outputs": [],
   "source": []
  },
  {
   "cell_type": "code",
   "execution_count": null,
   "metadata": {},
   "outputs": [],
   "source": []
  },
  {
   "cell_type": "code",
   "execution_count": null,
   "metadata": {},
   "outputs": [],
   "source": []
  },
  {
   "cell_type": "markdown",
   "metadata": {},
   "source": [
    "## Hypertext Transfer Protocol - The Lingua Franca of the Web\n",
    "\n",
    "HTTP is the protocol or languate of web browsers and web servers, but also of many other services and applications.\n",
    "\n",
    "https://developer.mozilla.org/en-US/docs/Web/HTTP\n",
    "\n",
    "https://developer.mozilla.org/en-US/docs/Web/HTTP/Overview\n",
    "\n",
    "Not just for HTML, you can do data too. \n",
    "\n",
    "\n",
    "WHen you know HTTP and you can read the documentation, then you have the basic knowledge and skills to access all kinds of APIs."
   ]
  },
  {
   "cell_type": "markdown",
   "metadata": {},
   "source": [
    "### HTTP Request & Response\n"
   ]
  },
  {
   "cell_type": "markdown",
   "metadata": {},
   "source": [
    "### HTTP Verbs"
   ]
  },
  {
   "cell_type": "code",
   "execution_count": null,
   "metadata": {},
   "outputs": [],
   "source": []
  },
  {
   "cell_type": "markdown",
   "metadata": {},
   "source": [
    "### HTTP Flow"
   ]
  },
  {
   "cell_type": "code",
   "execution_count": null,
   "metadata": {},
   "outputs": [],
   "source": []
  },
  {
   "cell_type": "code",
   "execution_count": null,
   "metadata": {},
   "outputs": [],
   "source": []
  },
  {
   "cell_type": "code",
   "execution_count": null,
   "metadata": {},
   "outputs": [],
   "source": []
  },
  {
   "cell_type": "markdown",
   "metadata": {},
   "source": [
    "## HTTP in Python with Requests\n",
    "\n",
    "Python includes an [HTTP module in the standard library](https://docs.python.org/3/library/http.html). However it is \"low level\" which means the API design can leave some things to be desired. \n",
    "    - Think of building a house from scratch vs. [buying one from Ikea](https://www.boklok.co.uk)\n",
    "    \n",
    "    \n",
    "Because communicating with APIs via HTTP is so common, a software developer named [Ken Reitz](https://kenreitz.org) created a third-party Python library called [Requests](https://requests.readthedocs.io/en/master/).\n",
    "\n",
    "\"**Requests** is an elegant and simple HTTP library for Python, built for human beings.\"\n",
    "\n"
   ]
  },
  {
   "cell_type": "code",
   "execution_count": 2,
   "metadata": {},
   "outputs": [],
   "source": [
    "import requests"
   ]
  },
  {
   "cell_type": "code",
   "execution_count": 3,
   "metadata": {},
   "outputs": [],
   "source": [
    "r = requests.get('https://api.github.com/user', auth=('user', 'pass'))"
   ]
  },
  {
   "cell_type": "code",
   "execution_count": 4,
   "metadata": {},
   "outputs": [
    {
     "data": {
      "text/plain": [
       "401"
      ]
     },
     "execution_count": 4,
     "metadata": {},
     "output_type": "execute_result"
    }
   ],
   "source": [
    "r.status_code"
   ]
  },
  {
   "cell_type": "code",
   "execution_count": 5,
   "metadata": {},
   "outputs": [
    {
     "data": {
      "text/plain": [
       "{'Server': 'GitHub.com', 'Date': 'Mon, 15 Mar 2021 13:57:10 GMT', 'Content-Type': 'application/json; charset=utf-8', 'Content-Length': '131', 'X-GitHub-Media-Type': 'github.v3; format=json', 'X-RateLimit-Limit': '60', 'X-RateLimit-Remaining': '59', 'X-RateLimit-Reset': '1615820230', 'X-RateLimit-Used': '1', 'Access-Control-Expose-Headers': 'ETag, Link, Location, Retry-After, X-GitHub-OTP, X-RateLimit-Limit, X-RateLimit-Remaining, X-RateLimit-Used, X-RateLimit-Reset, X-OAuth-Scopes, X-Accepted-OAuth-Scopes, X-Poll-Interval, X-GitHub-Media-Type, Deprecation, Sunset', 'Access-Control-Allow-Origin': '*', 'Strict-Transport-Security': 'max-age=31536000; includeSubdomains; preload', 'X-Frame-Options': 'deny', 'X-Content-Type-Options': 'nosniff', 'X-XSS-Protection': '1; mode=block', 'Referrer-Policy': 'origin-when-cross-origin, strict-origin-when-cross-origin', 'Content-Security-Policy': \"default-src 'none'\", 'Vary': 'Accept-Encoding, Accept, X-Requested-With', 'X-GitHub-Request-Id': 'C67D:10FC:25076B1:3C6FFDC:604F67B6'}"
      ]
     },
     "execution_count": 5,
     "metadata": {},
     "output_type": "execute_result"
    }
   ],
   "source": [
    "r.headers"
   ]
  },
  {
   "cell_type": "code",
   "execution_count": 6,
   "metadata": {},
   "outputs": [
    {
     "data": {
      "text/plain": [
       "'{\"message\":\"Requires authentication\",\"documentation_url\":\"https://docs.github.com/rest/reference/users#get-the-authenticated-user\"}'"
      ]
     },
     "execution_count": 6,
     "metadata": {},
     "output_type": "execute_result"
    }
   ],
   "source": [
    "r.text"
   ]
  },
  {
   "cell_type": "code",
   "execution_count": 7,
   "metadata": {},
   "outputs": [
    {
     "data": {
      "text/plain": [
       "{'message': 'Requires authentication',\n",
       " 'documentation_url': 'https://docs.github.com/rest/reference/users#get-the-authenticated-user'}"
      ]
     },
     "execution_count": 7,
     "metadata": {},
     "output_type": "execute_result"
    }
   ],
   "source": [
    "r.json()"
   ]
  },
  {
   "cell_type": "code",
   "execution_count": null,
   "metadata": {},
   "outputs": [],
   "source": []
  },
  {
   "cell_type": "code",
   "execution_count": null,
   "metadata": {},
   "outputs": [],
   "source": []
  },
  {
   "cell_type": "markdown",
   "metadata": {},
   "source": [
    "Dog License\n",
    "https://data.wprdc.org/dataset/allegheny-county-dog-licenses/resource/e16d4ab3-842a-4f39-9ad7-ce5921002280\n",
    "\n",
    "Query for dogs named bud\n",
    "https://data.wprdc.org/api/3/action/datastore_search?resource_id=e16d4ab3-842a-4f39-9ad7-ce5921002280&q=bud"
   ]
  },
  {
   "cell_type": "code",
   "execution_count": 8,
   "metadata": {},
   "outputs": [],
   "source": [
    "# set up our request\n",
    "query = \"bud\"\n",
    "resource_id = \"e16d4ab3-842a-4f39-9ad7-ce5921002280\"\n",
    "endpoint_url = \"https://data.wprdc.org/api/3/action/datastore_search\"\n",
    "\n",
    "parameters = {\"resource_id\": resource_id,\n",
    "              \"q\": query}"
   ]
  },
  {
   "cell_type": "code",
   "execution_count": 9,
   "metadata": {},
   "outputs": [],
   "source": [
    "# make the request\n",
    "response = requests.get(endpoint_url, params=parameters)"
   ]
  },
  {
   "cell_type": "code",
   "execution_count": 11,
   "metadata": {},
   "outputs": [
    {
     "data": {
      "text/plain": [
       "200"
      ]
     },
     "execution_count": 11,
     "metadata": {},
     "output_type": "execute_result"
    }
   ],
   "source": [
    "response.status_code"
   ]
  },
  {
   "cell_type": "code",
   "execution_count": 12,
   "metadata": {},
   "outputs": [
    {
     "data": {
      "text/plain": [
       "{'Server': 'nginx/1.10.3 (Ubuntu)', 'Date': 'Mon, 15 Mar 2021 14:05:26 GMT', 'Content-Type': 'application/json;charset=utf-8', 'Transfer-Encoding': 'chunked', 'Connection': 'keep-alive', 'Pragma': 'no-cache', 'Cache-Control': 'no-cache', 'X-Cache-Status': 'MISS', 'Content-Encoding': 'gzip'}"
      ]
     },
     "execution_count": 12,
     "metadata": {},
     "output_type": "execute_result"
    }
   ],
   "source": [
    "response.headers"
   ]
  },
  {
   "cell_type": "code",
   "execution_count": 13,
   "metadata": {},
   "outputs": [
    {
     "data": {
      "text/plain": [
       "{'help': 'https://data.wprdc.org/api/3/action/help_show?name=datastore_search',\n",
       " 'success': True,\n",
       " 'result': {'include_total': True,\n",
       "  'resource_id': 'e16d4ab3-842a-4f39-9ad7-ce5921002280',\n",
       "  'fields': [{'type': 'int', 'id': '_id'},\n",
       "   {'type': 'text', 'id': 'LicenseType'},\n",
       "   {'type': 'text', 'id': 'Breed'},\n",
       "   {'type': 'text', 'id': 'Color'},\n",
       "   {'type': 'text', 'id': 'DogName'},\n",
       "   {'type': 'text', 'id': 'OwnerZip'},\n",
       "   {'type': 'int4', 'id': 'ExpYear'},\n",
       "   {'type': 'timestamp', 'id': 'ValidDate'},\n",
       "   {'type': 'float', 'id': 'rank'}],\n",
       "  'records_format': 'objects',\n",
       "  'q': 'bud',\n",
       "  'records': [{'LicenseType': 'Dog Senior Citizen or Disability Neutered Male',\n",
       "    'ValidDate': '2020-12-18T14:44:46',\n",
       "    'Color': 'BLACK',\n",
       "    'Breed': 'CHOW CHOW MIX',\n",
       "    'rank': 0.0573088,\n",
       "    'OwnerZip': '15132',\n",
       "    'ExpYear': 2021,\n",
       "    '_id': 2180430,\n",
       "    'DogName': 'CURLEY BUD'},\n",
       "   {'LicenseType': 'Dog Senior Citizen or Disability Spayed Female',\n",
       "    'ValidDate': '2020-12-22T10:13:57',\n",
       "    'Color': 'BLACK/SILVER',\n",
       "    'Breed': 'POODLE MIX',\n",
       "    'rank': 0.0573088,\n",
       "    'OwnerZip': '15235',\n",
       "    'ExpYear': 2021,\n",
       "    '_id': 2185012,\n",
       "    'DogName': 'ROSE BUD'},\n",
       "   {'LicenseType': 'Dog Senior Citizen or Disability Neutered Male',\n",
       "    'ValidDate': '2020-12-28T09:17:12',\n",
       "    'Color': 'BLACK/TAN',\n",
       "    'Breed': 'YORKSHIRE TERRIER',\n",
       "    'rank': 0.0573088,\n",
       "    'OwnerZip': '15102',\n",
       "    'ExpYear': 2021,\n",
       "    '_id': 2185058,\n",
       "    'DogName': 'BUD'},\n",
       "   {'LicenseType': 'Dog Individual Neutered Male',\n",
       "    'ValidDate': '2021-01-07T14:58:39',\n",
       "    'Color': 'BLACK/BROWN',\n",
       "    'Breed': 'DOBERMAN MIX',\n",
       "    'rank': 0.0573088,\n",
       "    'OwnerZip': '15229',\n",
       "    'ExpYear': 2021,\n",
       "    '_id': 2188007,\n",
       "    'DogName': 'BUD'},\n",
       "   {'LicenseType': 'Dog Senior Citizen or Disability Neutered Male',\n",
       "    'ValidDate': '2021-01-04T09:04:31',\n",
       "    'Color': 'WHITE/BLACK',\n",
       "    'Breed': 'SHIH TZU MIX',\n",
       "    'rank': 0.0573088,\n",
       "    'OwnerZip': '15237',\n",
       "    'ExpYear': 2021,\n",
       "    '_id': 2188361,\n",
       "    'DogName': 'BUD'},\n",
       "   {'LicenseType': 'Dog Senior Citizen or Disability Neutered Male',\n",
       "    'ValidDate': '2021-01-04T09:04:31',\n",
       "    'Color': 'BLACK',\n",
       "    'Breed': 'LABRADOR RETRIEVER',\n",
       "    'rank': 0.0573088,\n",
       "    'OwnerZip': '15112',\n",
       "    'ExpYear': 2021,\n",
       "    '_id': 2188424,\n",
       "    'DogName': 'BUD RAHAW'},\n",
       "   {'LicenseType': 'Dog Individual Neutered Male',\n",
       "    'ValidDate': '2020-12-21T08:45:03',\n",
       "    'Color': 'BLACK/TAN',\n",
       "    'Breed': 'GER SHEPHERD',\n",
       "    'rank': 0.0573088,\n",
       "    'OwnerZip': '15137',\n",
       "    'ExpYear': 2021,\n",
       "    '_id': 2190944,\n",
       "    'DogName': 'BUD WEISER'},\n",
       "   {'LicenseType': 'Dog Senior Citizen or Disability Neutered Male',\n",
       "    'ValidDate': '2020-12-29T08:34:53',\n",
       "    'Color': 'WHITE',\n",
       "    'Breed': 'MIXED',\n",
       "    'rank': 0.0573088,\n",
       "    'OwnerZip': '15202',\n",
       "    'ExpYear': 2021,\n",
       "    '_id': 2194990,\n",
       "    'DogName': 'BUD'},\n",
       "   {'LicenseType': 'Dog Individual Neutered Male',\n",
       "    'ValidDate': '2021-01-14T11:56:09',\n",
       "    'Color': 'BLACK/BROWN',\n",
       "    'Breed': 'GER SHEPHERD MIX',\n",
       "    'rank': 0.0573088,\n",
       "    'OwnerZip': '15090',\n",
       "    'ExpYear': 2021,\n",
       "    '_id': 2207787,\n",
       "    'DogName': 'BUD'},\n",
       "   {'LicenseType': 'Dog Senior Citizen or Disability Neutered Male',\n",
       "    'ValidDate': '2020-12-21T08:45:35',\n",
       "    'Color': 'RED/BROWN',\n",
       "    'Breed': 'DACHSHUND',\n",
       "    'rank': 0.0573088,\n",
       "    'OwnerZip': '15145',\n",
       "    'ExpYear': 2021,\n",
       "    '_id': 2195963,\n",
       "    'DogName': 'BUD'},\n",
       "   {'LicenseType': 'Dog Individual Neutered Male',\n",
       "    'ValidDate': '2021-02-05T14:49:13',\n",
       "    'Color': 'BROWN',\n",
       "    'Breed': 'LABRADOR RETRIEVER',\n",
       "    'rank': 0.0573088,\n",
       "    'OwnerZip': '15068',\n",
       "    'ExpYear': 2021,\n",
       "    '_id': 2205623,\n",
       "    'DogName': 'BUD'},\n",
       "   {'LicenseType': 'Dog Individual Neutered Male',\n",
       "    'ValidDate': '2020-12-08T10:27:13',\n",
       "    'Color': 'BROWN',\n",
       "    'Breed': 'CHIHUAHUA MIX',\n",
       "    'rank': 0.0573088,\n",
       "    'OwnerZip': '15131',\n",
       "    'ExpYear': 2021,\n",
       "    '_id': 2155925,\n",
       "    'DogName': 'BUD LIGHT'},\n",
       "   {'LicenseType': 'Dog Senior Citizen or Disability Neutered Male',\n",
       "    'ValidDate': '2020-12-09T09:44:27',\n",
       "    'Color': 'BLACK WITH WHITE',\n",
       "    'Breed': 'BORD COLLIE MIX',\n",
       "    'rank': 0.0573088,\n",
       "    'OwnerZip': '15148',\n",
       "    'ExpYear': 2021,\n",
       "    '_id': 2159920,\n",
       "    'DogName': 'BUD'},\n",
       "   {'LicenseType': 'Dog Senior Citizen or Disability Neutered Male',\n",
       "    'ValidDate': '2020-12-16T10:56:32',\n",
       "    'Color': 'BROWN',\n",
       "    'Breed': 'CHIHUAHUA',\n",
       "    'rank': 0.0573088,\n",
       "    'OwnerZip': '15025',\n",
       "    'ExpYear': 2021,\n",
       "    '_id': 2164401,\n",
       "    'DogName': 'LIL BUD'},\n",
       "   {'LicenseType': 'Dog Individual Male',\n",
       "    'ValidDate': '2021-01-06T12:40:44',\n",
       "    'Color': 'BROWN/TAN/BRINDLE',\n",
       "    'Breed': 'BORD COLLIE MIX',\n",
       "    'rank': 0.0573088,\n",
       "    'OwnerZip': '15205',\n",
       "    'ExpYear': 2021,\n",
       "    '_id': 2165160,\n",
       "    'DogName': 'BUD'},\n",
       "   {'LicenseType': 'Dog Senior Citizen or Disability Spayed Female',\n",
       "    'ValidDate': '2021-02-25T10:09:12',\n",
       "    'Color': 'SPOTTED',\n",
       "    'Breed': 'MIXED',\n",
       "    'rank': 0.0573088,\n",
       "    'OwnerZip': '15044',\n",
       "    'ExpYear': 2021,\n",
       "    '_id': 2212190,\n",
       "    'DogName': 'ROSE BUD'},\n",
       "   {'LicenseType': 'Dog Individual Neutered Male',\n",
       "    'ValidDate': '2021-01-25T10:22:17',\n",
       "    'Color': 'WHITE/BLACK/BROWN',\n",
       "    'Breed': 'BEAGLE MIX',\n",
       "    'rank': 0.0573088,\n",
       "    'OwnerZip': '15241',\n",
       "    'ExpYear': 2021,\n",
       "    '_id': 2213948,\n",
       "    'DogName': 'BUD'},\n",
       "   {'LicenseType': 'Dog Individual Neutered Male',\n",
       "    'ValidDate': '2021-03-01T10:22:14',\n",
       "    'Color': 'BLACK/BROWN',\n",
       "    'Breed': 'MIXED',\n",
       "    'rank': 0.0573088,\n",
       "    'OwnerZip': '15044',\n",
       "    'ExpYear': 2021,\n",
       "    '_id': 2215406,\n",
       "    'DogName': 'BUD'},\n",
       "   {'LicenseType': 'Dog Individual Neutered Male',\n",
       "    'ValidDate': '2021-01-15T16:24:27',\n",
       "    'Color': 'WHITE/BLACK/BROWN',\n",
       "    'Breed': 'BOXER MIX',\n",
       "    'rank': 0.0573088,\n",
       "    'OwnerZip': '15223',\n",
       "    'ExpYear': 2021,\n",
       "    '_id': 2216745,\n",
       "    'DogName': 'BUD'}],\n",
       "  'limit': 100,\n",
       "  '_links': {'start': '/api/3/action/datastore_search?q=bud&resource_id=e16d4ab3-842a-4f39-9ad7-ce5921002280',\n",
       "   'next': '/api/3/action/datastore_search?q=bud&offset=100&resource_id=e16d4ab3-842a-4f39-9ad7-ce5921002280'},\n",
       "  'total': 19}}"
      ]
     },
     "execution_count": 13,
     "metadata": {},
     "output_type": "execute_result"
    }
   ],
   "source": [
    "response.json()"
   ]
  },
  {
   "cell_type": "code",
   "execution_count": 15,
   "metadata": {},
   "outputs": [
    {
     "data": {
      "text/plain": [
       "19"
      ]
     },
     "execution_count": 15,
     "metadata": {},
     "output_type": "execute_result"
    }
   ],
   "source": [
    "dogs = response.json()['result']['records']\n",
    "len(dogs)"
   ]
  },
  {
   "cell_type": "code",
   "execution_count": 20,
   "metadata": {},
   "outputs": [
    {
     "name": "stdout",
     "output_type": "stream",
     "text": [
      "Curley bud is a Black Chow chow mix\n",
      "Rose bud is a Black/silver Poodle mix\n",
      "Bud is a Black/tan Yorkshire terrier\n",
      "Bud is a Black/brown Doberman mix\n",
      "Bud is a White/black Shih tzu mix\n",
      "Bud rahaw is a Black Labrador retriever\n",
      "Bud weiser is a Black/tan Ger shepherd\n",
      "Bud is a White Mixed\n",
      "Bud is a Black/brown Ger shepherd mix\n",
      "Bud is a Red/brown Dachshund\n",
      "Bud is a Brown Labrador retriever\n",
      "Bud light is a Brown Chihuahua mix\n",
      "Bud is a Black with white Bord collie mix\n",
      "Lil bud is a Brown Chihuahua\n",
      "Bud is a Brown/tan/brindle Bord collie mix\n",
      "Rose bud is a Spotted Mixed\n",
      "Bud is a White/black/brown Beagle mix\n",
      "Bud is a Black/brown Mixed\n",
      "Bud is a White/black/brown Boxer mix\n"
     ]
    }
   ],
   "source": [
    "for dog in dogs:\n",
    "    dog_info = dog['DogName'].capitalize() + \" is a \" + dog['Color'].capitalize() + \" \" + dog['Breed'].capitalize()\n",
    "    print(dog_info)"
   ]
  },
  {
   "cell_type": "code",
   "execution_count": 21,
   "metadata": {},
   "outputs": [],
   "source": [
    "def pgh_dog_search(query):\n",
    "    resource_id = \"e16d4ab3-842a-4f39-9ad7-ce5921002280\"\n",
    "    endpoint_url = \"https://data.wprdc.org/api/3/action/datastore_search\"\n",
    "\n",
    "    parameters = {\"resource_id\": resource_id,\n",
    "                  \"q\": query}\n",
    "    response = requests.get(endpoint_url, params=parameters)\n",
    "    return response.json()['result']['records']\n"
   ]
  },
  {
   "cell_type": "code",
   "execution_count": 23,
   "metadata": {},
   "outputs": [
    {
     "data": {
      "text/plain": [
       "16"
      ]
     },
     "execution_count": 23,
     "metadata": {},
     "output_type": "execute_result"
    }
   ],
   "source": [
    "lilos = pgh_dog_search(\"Lilo\")\n",
    "len(lilos)"
   ]
  },
  {
   "cell_type": "code",
   "execution_count": 24,
   "metadata": {},
   "outputs": [
    {
     "data": {
      "text/plain": [
       "[{'LicenseType': 'Dog Individual Spayed Female',\n",
       "  'ValidDate': '2020-12-11T15:16:35',\n",
       "  'Color': 'BLONDE',\n",
       "  'Breed': 'DOGUE DE BORDEAUX',\n",
       "  'rank': 0.0573088,\n",
       "  'OwnerZip': '15237',\n",
       "  'ExpYear': 2021,\n",
       "  '_id': 2183590,\n",
       "  'DogName': 'LILO'},\n",
       " {'LicenseType': 'Dog Senior Citizen or Disability Spayed Female',\n",
       "  'ValidDate': '2020-12-28T09:06:46',\n",
       "  'Color': 'WHITE/TAN',\n",
       "  'Breed': 'MIXED',\n",
       "  'rank': 0.0573088,\n",
       "  'OwnerZip': '15239',\n",
       "  'ExpYear': 2021,\n",
       "  '_id': 2185592,\n",
       "  'DogName': 'LILO'},\n",
       " {'LicenseType': 'Dog Individual Spayed Female',\n",
       "  'ValidDate': '2021-01-13T08:36:57',\n",
       "  'Color': 'TAN',\n",
       "  'Breed': 'PUG',\n",
       "  'rank': 0.0573088,\n",
       "  'OwnerZip': '15135',\n",
       "  'ExpYear': 2021,\n",
       "  '_id': 2185665,\n",
       "  'DogName': 'LILO'},\n",
       " {'LicenseType': 'Dog Individual Spayed Female',\n",
       "  'ValidDate': '2020-12-14T12:04:06',\n",
       "  'Color': 'SPOTTED',\n",
       "  'Breed': 'MIXED',\n",
       "  'rank': 0.0573088,\n",
       "  'OwnerZip': '15238',\n",
       "  'ExpYear': 2021,\n",
       "  '_id': 2188883,\n",
       "  'DogName': 'LILO'},\n",
       " {'LicenseType': 'Dog Individual Spayed Female',\n",
       "  'ValidDate': '2020-12-21T08:45:03',\n",
       "  'Color': 'BLACK',\n",
       "  'Breed': 'AM PIT BULL TERRIER',\n",
       "  'rank': 0.0573088,\n",
       "  'OwnerZip': '15227',\n",
       "  'ExpYear': 2021,\n",
       "  '_id': 2190975,\n",
       "  'DogName': 'LILO'},\n",
       " {'LicenseType': 'Dog Individual Spayed Female',\n",
       "  'ValidDate': '2021-01-04T11:03:55',\n",
       "  'Color': 'WHITE/BLACK/BROWN',\n",
       "  'Breed': 'SIB HUSKY MIX',\n",
       "  'rank': 0.0573088,\n",
       "  'OwnerZip': '15076',\n",
       "  'ExpYear': 2021,\n",
       "  '_id': 2193942,\n",
       "  'DogName': 'LILO'},\n",
       " {'LicenseType': 'Dog Individual Female',\n",
       "  'ValidDate': '2021-01-05T08:40:32',\n",
       "  'Color': 'WHITE',\n",
       "  'Breed': 'TERRIER MIX',\n",
       "  'rank': 0.0573088,\n",
       "  'OwnerZip': '15239',\n",
       "  'ExpYear': 2021,\n",
       "  '_id': 2198943,\n",
       "  'DogName': 'LILO'},\n",
       " {'LicenseType': 'Dog Individual Spayed Female',\n",
       "  'ValidDate': '2021-01-22T08:40:55',\n",
       "  'Color': 'TAN',\n",
       "  'Breed': 'TAG',\n",
       "  'rank': 0.0573088,\n",
       "  'OwnerZip': '15202',\n",
       "  'ExpYear': 2021,\n",
       "  '_id': 2201372,\n",
       "  'DogName': 'LILO'},\n",
       " {'LicenseType': 'Dog Individual Spayed Female',\n",
       "  'ValidDate': '2021-02-01T15:23:48',\n",
       "  'Color': 'WHITE/BROWN',\n",
       "  'Breed': 'BRITTANY SPANIEL',\n",
       "  'rank': 0.0573088,\n",
       "  'OwnerZip': '15241',\n",
       "  'ExpYear': 2021,\n",
       "  '_id': 2201547,\n",
       "  'DogName': 'LILO'},\n",
       " {'LicenseType': 'Dog Individual Spayed Female',\n",
       "  'ValidDate': '2021-02-03T10:16:25',\n",
       "  'Color': 'BLACK',\n",
       "  'Breed': 'NEWFOUNDLAND',\n",
       "  'rank': 0.0573088,\n",
       "  'OwnerZip': '15215',\n",
       "  'ExpYear': 2021,\n",
       "  '_id': 2203409,\n",
       "  'DogName': 'LILO'},\n",
       " {'LicenseType': 'Dog Individual Spayed Female',\n",
       "  'ValidDate': '2020-12-30T09:02:07',\n",
       "  'Color': 'BLACK',\n",
       "  'Breed': 'LABRADOR RETRIEVER',\n",
       "  'rank': 0.0573088,\n",
       "  'OwnerZip': '15037',\n",
       "  'ExpYear': 2021,\n",
       "  '_id': 2158292,\n",
       "  'DogName': 'LILO'},\n",
       " {'LicenseType': 'Dog Individual Spayed Female',\n",
       "  'ValidDate': '2021-01-05T09:36:58',\n",
       "  'Color': 'WHITE/BRINDLE',\n",
       "  'Breed': 'BOXER MIX',\n",
       "  'rank': 0.0573088,\n",
       "  'OwnerZip': '15236',\n",
       "  'ExpYear': 2021,\n",
       "  '_id': 2161450,\n",
       "  'DogName': 'LILO'},\n",
       " {'LicenseType': 'Dog Individual Spayed Female',\n",
       "  'ValidDate': '2021-02-25T10:09:10',\n",
       "  'Color': 'BLACK/BROWN/GREY',\n",
       "  'Breed': 'AUS CATTLE DOG',\n",
       "  'rank': 0.0573088,\n",
       "  'OwnerZip': '15044',\n",
       "  'ExpYear': 2021,\n",
       "  '_id': 2212780,\n",
       "  'DogName': 'LILO'},\n",
       " {'LicenseType': 'Dog Individual Female',\n",
       "  'ValidDate': '2021-02-26T10:59:25',\n",
       "  'Color': 'SABLE/WHITE',\n",
       "  'Breed': 'GER WIREHAIR POINTE',\n",
       "  'rank': 0.0573088,\n",
       "  'OwnerZip': '15132',\n",
       "  'ExpYear': 2021,\n",
       "  '_id': 2213126,\n",
       "  'DogName': 'LILO'},\n",
       " {'LicenseType': 'Dog Individual Male',\n",
       "  'ValidDate': '2021-02-18T09:50:56',\n",
       "  'Color': 'CREAM',\n",
       "  'Breed': 'MALTI-POO',\n",
       "  'rank': 0.0573088,\n",
       "  'OwnerZip': '15116',\n",
       "  'ExpYear': 2021,\n",
       "  '_id': 2216703,\n",
       "  'DogName': 'LILO'},\n",
       " {'LicenseType': 'Dog Individual Spayed Female',\n",
       "  'ValidDate': '2021-01-21T08:29:40',\n",
       "  'Color': 'WHITE/BROWN',\n",
       "  'Breed': 'BEAGLE',\n",
       "  'rank': 0.0573088,\n",
       "  'OwnerZip': '15237',\n",
       "  'ExpYear': 2021,\n",
       "  '_id': 2218028,\n",
       "  'DogName': 'LILO'}]"
      ]
     },
     "execution_count": 24,
     "metadata": {},
     "output_type": "execute_result"
    }
   ],
   "source": [
    "lilos"
   ]
  },
  {
   "cell_type": "markdown",
   "metadata": {},
   "source": [
    "### Getting the Weather\n",
    "\n",
    "\n",
    "Documentation for [current weather data](https://openweathermap.org/current) from OpenWeather\n",
    "```\n",
    "api.openweathermap.org/data/2.5/weather?q={city name}&appid={API key}\n",
    "```\n",
    "\n",
    "To use the OpenWeather api you need to [create an account](https://home.openweathermap.org/users/sign_up)\n",
    "\n",
    "Once you sign up they will send you an API key via email. This is your special secret key for accessing the API. It needs to be kept a secret so I store mine in a file called `api-key.txt`. You will need to create a text file like this with the key if you want to run the code below.\n"
   ]
  },
  {
   "cell_type": "code",
   "execution_count": 34,
   "metadata": {},
   "outputs": [
    {
     "data": {
      "text/plain": [
       "'7e0f64d8a7aabb393a45becbf9e0b19f'"
      ]
     },
     "execution_count": 34,
     "metadata": {},
     "output_type": "execute_result"
    }
   ],
   "source": [
    "city = \"Pittsburgh\"\n",
    "ow_endpoint = \"http://api.openweathermap.org/data/2.5/weather\"\n",
    "\n",
    "with open(\"api-key.txt\",\"r\") as fh:\n",
    "    api_key = fh.read().strip()\n",
    "api_key"
   ]
  },
  {
   "cell_type": "code",
   "execution_count": 30,
   "metadata": {},
   "outputs": [
    {
     "data": {
      "text/plain": [
       "200"
      ]
     },
     "execution_count": 30,
     "metadata": {},
     "output_type": "execute_result"
    }
   ],
   "source": [
    "parameters = {\n",
    "    \"q\":city,\n",
    "    \"appid\":api_key\n",
    "}\n",
    "\n",
    "response = requests.get(ow_endpoint, params=parameters)\n",
    "response.status_code"
   ]
  },
  {
   "cell_type": "code",
   "execution_count": 31,
   "metadata": {},
   "outputs": [
    {
     "data": {
      "text/plain": [
       "{'coord': {'lon': -79.9959, 'lat': 40.4406},\n",
       " 'weather': [{'id': 800,\n",
       "   'main': 'Clear',\n",
       "   'description': 'clear sky',\n",
       "   'icon': '01d'}],\n",
       " 'base': 'stations',\n",
       " 'main': {'temp': 270.56,\n",
       "  'feels_like': 265.16,\n",
       "  'temp_min': 269.82,\n",
       "  'temp_max': 271.48,\n",
       "  'pressure': 1030,\n",
       "  'humidity': 46},\n",
       " 'visibility': 10000,\n",
       " 'wind': {'speed': 3.09, 'deg': 0},\n",
       " 'clouds': {'all': 1},\n",
       " 'dt': 1615818005,\n",
       " 'sys': {'type': 1,\n",
       "  'id': 3247,\n",
       "  'country': 'US',\n",
       "  'sunrise': 1615807873,\n",
       "  'sunset': 1615850791},\n",
       " 'timezone': -14400,\n",
       " 'id': 5206379,\n",
       " 'name': 'Pittsburgh',\n",
       " 'cod': 200}"
      ]
     },
     "execution_count": 31,
     "metadata": {},
     "output_type": "execute_result"
    }
   ],
   "source": [
    "response.json()"
   ]
  },
  {
   "cell_type": "code",
   "execution_count": 32,
   "metadata": {},
   "outputs": [
    {
     "data": {
      "text/plain": [
       "200"
      ]
     },
     "execution_count": 32,
     "metadata": {},
     "output_type": "execute_result"
    }
   ],
   "source": [
    "parameters = {\n",
    "    \"q\":city,\n",
    "    \"appid\":api_key,\n",
    "    \"units\": \"imperial\" #MERCA\n",
    "}\n",
    "\n",
    "response = requests.get(ow_endpoint, params=parameters)\n",
    "response.status_code"
   ]
  },
  {
   "cell_type": "code",
   "execution_count": 33,
   "metadata": {},
   "outputs": [
    {
     "data": {
      "text/plain": [
       "{'coord': {'lon': -79.9959, 'lat': 40.4406},\n",
       " 'weather': [{'id': 800,\n",
       "   'main': 'Clear',\n",
       "   'description': 'clear sky',\n",
       "   'icon': '01d'}],\n",
       " 'base': 'stations',\n",
       " 'main': {'temp': 27.66,\n",
       "  'feels_like': 17.96,\n",
       "  'temp_min': 26.01,\n",
       "  'temp_max': 30,\n",
       "  'pressure': 1030,\n",
       "  'humidity': 46},\n",
       " 'visibility': 10000,\n",
       " 'wind': {'speed': 6.91, 'deg': 0},\n",
       " 'clouds': {'all': 1},\n",
       " 'dt': 1615818154,\n",
       " 'sys': {'type': 1,\n",
       "  'id': 3247,\n",
       "  'country': 'US',\n",
       "  'sunrise': 1615807873,\n",
       "  'sunset': 1615850791},\n",
       " 'timezone': -14400,\n",
       " 'id': 5206379,\n",
       " 'name': 'Pittsburgh',\n",
       " 'cod': 200}"
      ]
     },
     "execution_count": 33,
     "metadata": {},
     "output_type": "execute_result"
    }
   ],
   "source": [
    "response.json()"
   ]
  },
  {
   "cell_type": "markdown",
   "metadata": {},
   "source": [
    "That is better"
   ]
  },
  {
   "cell_type": "code",
   "execution_count": 36,
   "metadata": {},
   "outputs": [],
   "source": [
    "def get_temp(city):\n",
    "    ow_endpoint = \"http://api.openweathermap.org/data/2.5/weather\"\n",
    "    \n",
    "    with open(\"api-key.txt\",\"r\") as fh:\n",
    "        api_key = fh.read().strip()\n",
    "    \n",
    "    \n",
    "    \n",
    "    parameters = {\n",
    "        \"q\":city,\n",
    "        \"appid\":api_key,\n",
    "        \"units\": \"imperial\" #MERCA\n",
    "    }\n",
    "\n",
    "    response = requests.get(ow_endpoint, params=parameters)\n",
    "    return response.json()['main']['temp']"
   ]
  },
  {
   "cell_type": "code",
   "execution_count": 41,
   "metadata": {},
   "outputs": [
    {
     "data": {
      "text/plain": [
       "27.66"
      ]
     },
     "execution_count": 41,
     "metadata": {},
     "output_type": "execute_result"
    }
   ],
   "source": [
    "get_temp(\"Pittsburgh\")"
   ]
  },
  {
   "cell_type": "code",
   "execution_count": 43,
   "metadata": {},
   "outputs": [
    {
     "data": {
      "text/plain": [
       "50.54"
      ]
     },
     "execution_count": 43,
     "metadata": {},
     "output_type": "execute_result"
    }
   ],
   "source": [
    "get_temp(\"Paris\")"
   ]
  },
  {
   "cell_type": "code",
   "execution_count": 42,
   "metadata": {},
   "outputs": [
    {
     "data": {
      "text/plain": [
       "49.73"
      ]
     },
     "execution_count": 42,
     "metadata": {},
     "output_type": "execute_result"
    }
   ],
   "source": [
    "get_temp(\"Los Angeles\")"
   ]
  },
  {
   "cell_type": "code",
   "execution_count": 45,
   "metadata": {},
   "outputs": [
    {
     "data": {
      "text/plain": [
       "-1.01"
      ]
     },
     "execution_count": 45,
     "metadata": {},
     "output_type": "execute_result"
    }
   ],
   "source": [
    "get_temp(\"McMurdo Station\")"
   ]
  },
  {
   "cell_type": "code",
   "execution_count": null,
   "metadata": {},
   "outputs": [],
   "source": []
  }
 ],
 "metadata": {
  "kernelspec": {
   "display_name": "Python 3",
   "language": "python",
   "name": "python3"
  },
  "language_info": {
   "codemirror_mode": {
    "name": "ipython",
    "version": 3
   },
   "file_extension": ".py",
   "mimetype": "text/x-python",
   "name": "python",
   "nbconvert_exporter": "python",
   "pygments_lexer": "ipython3",
   "version": "3.8.5"
  }
 },
 "nbformat": 4,
 "nbformat_minor": 4
}
