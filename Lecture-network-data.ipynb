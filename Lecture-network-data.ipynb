{
 "cells": [
  {
   "cell_type": "markdown",
   "metadata": {},
   "source": [
    "# Week 9 Lecture - Data Formats\n",
    "\n",
    "Topics\n",
    "- Getting data from the web\n",
    "- Application Programming Interfaces (APIs)\n",
    "- Hypertext Transfer Protocol (HTTP) \n",
    "- HTTP in Python with Requests"
   ]
  },
  {
   "cell_type": "markdown",
   "metadata": {},
   "source": [
    "## Getting Data from the Web"
   ]
  },
  {
   "cell_type": "markdown",
   "metadata": {},
   "source": [
    "So far we have been getting data into python via 2 ways:\n",
    "- Typing it literally into our code as ints, floats, strings\n",
    "- Readings files from disk using `open()` and "
   ]
  },
  {
   "cell_type": "markdown",
   "metadata": {},
   "source": [
    "\n",
    "- project gutenberg example\n",
    "- WPRDC Example with CSV"
   ]
  },
  {
   "cell_type": "markdown",
   "metadata": {},
   "source": [
    "## Application Programming Interfaces \n",
    "\n",
    "\n",
    "- What is an APIs\n",
    "- API documentation\n",
    "    - National Weather Service - https://www.weather.gov/documentation/services-web-api\n",
    "- Example APIs\n",
    "    - Library of Congress https://labs.loc.gov/lc-for-robots/\n",
    "    - Open Weather https://openweathermap.org/api"
   ]
  },
  {
   "cell_type": "code",
   "execution_count": null,
   "metadata": {},
   "outputs": [],
   "source": []
  },
  {
   "cell_type": "markdown",
   "metadata": {},
   "source": [
    "### What is an API\n",
    "\n",
    "APIs are *designed* by humans for humans (well software developers)"
   ]
  },
  {
   "cell_type": "code",
   "execution_count": null,
   "metadata": {},
   "outputs": [],
   "source": []
  },
  {
   "cell_type": "code",
   "execution_count": null,
   "metadata": {},
   "outputs": [],
   "source": []
  },
  {
   "cell_type": "markdown",
   "metadata": {},
   "source": [
    "### Using APIs: Read the documentation"
   ]
  },
  {
   "cell_type": "code",
   "execution_count": null,
   "metadata": {},
   "outputs": [],
   "source": []
  },
  {
   "cell_type": "markdown",
   "metadata": {},
   "source": [
    "### Example APIs\n",
    "\n"
   ]
  },
  {
   "cell_type": "markdown",
   "metadata": {},
   "source": [
    "```\n",
    "Information Sciences Building, \n",
    "135 North Bellefield Avenue, \n",
    "Pittsburgh, PA 15213\n",
    "\n",
    "Latitude: 40.447475 | Longitude: -79.952396\n",
    "```\n",
    "Get your GPS coordinates via https://www.gps-coordinates.net "
   ]
  },
  {
   "cell_type": "code",
   "execution_count": null,
   "metadata": {},
   "outputs": [],
   "source": []
  },
  {
   "cell_type": "code",
   "execution_count": null,
   "metadata": {},
   "outputs": [],
   "source": []
  },
  {
   "cell_type": "code",
   "execution_count": null,
   "metadata": {},
   "outputs": [],
   "source": []
  },
  {
   "cell_type": "code",
   "execution_count": null,
   "metadata": {},
   "outputs": [],
   "source": []
  },
  {
   "cell_type": "markdown",
   "metadata": {},
   "source": [
    "## Hypertext Transfer Protocol - The Lingua Franca of the Web\n",
    "\n",
    "HTTP is the protocol or languate of web browsers and web servers, but also of many other services and applications.\n",
    "\n",
    "https://developer.mozilla.org/en-US/docs/Web/HTTP\n",
    "\n",
    "https://developer.mozilla.org/en-US/docs/Web/HTTP/Overview\n",
    "\n",
    "Not just for HTML, you can do data too. \n",
    "\n",
    "\n",
    "WHen you know HTTP and you can read the documentation, then you have the basic knowledge and skills to access all kinds of APIs."
   ]
  },
  {
   "cell_type": "markdown",
   "metadata": {},
   "source": [
    "### HTTP Request & Response\n"
   ]
  },
  {
   "cell_type": "markdown",
   "metadata": {},
   "source": [
    "### HTTP Verbs"
   ]
  },
  {
   "cell_type": "code",
   "execution_count": null,
   "metadata": {},
   "outputs": [],
   "source": []
  },
  {
   "cell_type": "markdown",
   "metadata": {},
   "source": [
    "### HTTP Flow"
   ]
  },
  {
   "cell_type": "code",
   "execution_count": null,
   "metadata": {},
   "outputs": [],
   "source": []
  },
  {
   "cell_type": "code",
   "execution_count": null,
   "metadata": {},
   "outputs": [],
   "source": []
  },
  {
   "cell_type": "code",
   "execution_count": null,
   "metadata": {},
   "outputs": [],
   "source": []
  },
  {
   "cell_type": "markdown",
   "metadata": {},
   "source": [
    "## HTTP in Python with Requests\n",
    "\n",
    "Python includes an [HTTP module in the standard library](https://docs.python.org/3/library/http.html). However it is \"low level\" which means the API design can leave some things to be desired. \n",
    "    - Think of building a house from scratch vs. [buying one from Ikea](https://www.boklok.co.uk)\n",
    "    \n",
    "    \n",
    "Because communicating with APIs via HTTP is so common, a software developer named [Ken Reitz](https://kenreitz.org) created a third-party Python library called [Requests](https://requests.readthedocs.io/en/master/).\n",
    "\n",
    "\"**Requests** is an elegant and simple HTTP library for Python, built for human beings.\"\n",
    "\n"
   ]
  },
  {
   "cell_type": "code",
   "execution_count": null,
   "metadata": {},
   "outputs": [],
   "source": [
    "import requests"
   ]
  },
  {
   "cell_type": "code",
   "execution_count": null,
   "metadata": {},
   "outputs": [],
   "source": [
    "r = requests.get('https://api.github.com/user', auth=('user', 'pass'))"
   ]
  },
  {
   "cell_type": "code",
   "execution_count": null,
   "metadata": {},
   "outputs": [],
   "source": [
    "r.status_code"
   ]
  },
  {
   "cell_type": "code",
   "execution_count": null,
   "metadata": {},
   "outputs": [],
   "source": [
    "r.headers"
   ]
  },
  {
   "cell_type": "code",
   "execution_count": null,
   "metadata": {},
   "outputs": [],
   "source": [
    "r.text"
   ]
  },
  {
   "cell_type": "code",
   "execution_count": null,
   "metadata": {},
   "outputs": [],
   "source": [
    "r.json()"
   ]
  },
  {
   "cell_type": "code",
   "execution_count": null,
   "metadata": {},
   "outputs": [],
   "source": []
  },
  {
   "cell_type": "code",
   "execution_count": null,
   "metadata": {},
   "outputs": [],
   "source": []
  },
  {
   "cell_type": "markdown",
   "metadata": {},
   "source": [
    "Dog License\n",
    "https://data.wprdc.org/dataset/allegheny-county-dog-licenses/resource/e16d4ab3-842a-4f39-9ad7-ce5921002280\n",
    "\n",
    "Query for dogs named bud\n",
    "https://data.wprdc.org/api/3/action/datastore_search?resource_id=e16d4ab3-842a-4f39-9ad7-ce5921002280&q=bud"
   ]
  },
  {
   "cell_type": "code",
   "execution_count": null,
   "metadata": {},
   "outputs": [],
   "source": [
    "# set up our request\n",
    "query = \"bud\"\n",
    "resource_id = \"e16d4ab3-842a-4f39-9ad7-ce5921002280\"\n",
    "endpoint_url = \"https://data.wprdc.org/api/3/action/datastore_search\"\n",
    "\n",
    "parameters = {\"resource_id\": resource_id,\n",
    "              \"q\": query}"
   ]
  },
  {
   "cell_type": "code",
   "execution_count": null,
   "metadata": {},
   "outputs": [],
   "source": [
    "# make the request\n",
    "response = requests.get(endpoint_url, params=parameters)"
   ]
  },
  {
   "cell_type": "code",
   "execution_count": null,
   "metadata": {},
   "outputs": [],
   "source": [
    "response.status_code"
   ]
  },
  {
   "cell_type": "code",
   "execution_count": null,
   "metadata": {},
   "outputs": [],
   "source": [
    "response.headers"
   ]
  },
  {
   "cell_type": "code",
   "execution_count": null,
   "metadata": {},
   "outputs": [],
   "source": [
    "response.json()"
   ]
  },
  {
   "cell_type": "code",
   "execution_count": null,
   "metadata": {},
   "outputs": [],
   "source": [
    "dogs = response.json()['result']['records']\n",
    "len(dogs)"
   ]
  },
  {
   "cell_type": "code",
   "execution_count": null,
   "metadata": {},
   "outputs": [],
   "source": [
    "for dog in dogs:\n",
    "    dog_info = dog['DogName'].capitalize() + \" is a \" + dog['Color'].capitalize() + \" \" + dog['Breed'].capitalize()\n",
    "    print(dog_info)"
   ]
  },
  {
   "cell_type": "code",
   "execution_count": null,
   "metadata": {},
   "outputs": [],
   "source": [
    "def pgh_dog_search(query):\n",
    "    resource_id = \"e16d4ab3-842a-4f39-9ad7-ce5921002280\"\n",
    "    endpoint_url = \"https://data.wprdc.org/api/3/action/datastore_search\"\n",
    "\n",
    "    parameters = {\"resource_id\": resource_id,\n",
    "                  \"q\": query}\n",
    "    response = requests.get(endpoint_url, params=parameters)\n",
    "    return response.json()['result']['records']\n"
   ]
  },
  {
   "cell_type": "code",
   "execution_count": null,
   "metadata": {},
   "outputs": [],
   "source": [
    "lilos = pgh_dog_search(\"Lilo\")\n",
    "len(lilos)"
   ]
  },
  {
   "cell_type": "code",
   "execution_count": null,
   "metadata": {},
   "outputs": [],
   "source": [
    "lilos"
   ]
  },
  {
   "cell_type": "markdown",
   "metadata": {},
   "source": [
    "### Getting the Weather\n",
    "\n",
    "\n",
    "Documentation for [current weather data](https://openweathermap.org/current) from OpenWeather\n",
    "```\n",
    "api.openweathermap.org/data/2.5/weather?q={city name}&appid={API key}\n",
    "```\n",
    "\n",
    "To use the OpenWeather api you need to [create an account](https://home.openweathermap.org/users/sign_up)\n",
    "\n",
    "Once you sign up they will send you an API key via email. This is your special secret key for accessing the API. It needs to be kept a secret so I store mine in a file called `api-key.txt`. You will need to create a text file like this with the key if you want to run the code below.\n"
   ]
  },
  {
   "cell_type": "code",
   "execution_count": null,
   "metadata": {},
   "outputs": [],
   "source": [
    "city = \"Pittsburgh\"\n",
    "ow_endpoint = \"http://api.openweathermap.org/data/2.5/weather\"\n",
    "\n",
    "with open(\"api-key.txt\",\"r\") as fh:\n",
    "    api_key = fh.read().strip()\n",
    "api_key"
   ]
  },
  {
   "cell_type": "code",
   "execution_count": null,
   "metadata": {},
   "outputs": [],
   "source": [
    "parameters = {\n",
    "    \"q\":city,\n",
    "    \"appid\":api_key\n",
    "}\n",
    "\n",
    "response = requests.get(ow_endpoint, params=parameters)\n",
    "response.status_code"
   ]
  },
  {
   "cell_type": "code",
   "execution_count": null,
   "metadata": {},
   "outputs": [],
   "source": [
    "response.json()"
   ]
  },
  {
   "cell_type": "code",
   "execution_count": null,
   "metadata": {},
   "outputs": [],
   "source": [
    "parameters = {\n",
    "    \"q\":city,\n",
    "    \"appid\":api_key,\n",
    "    \"units\": \"imperial\" #MERCA\n",
    "}\n",
    "\n",
    "response = requests.get(ow_endpoint, params=parameters)\n",
    "response.status_code"
   ]
  },
  {
   "cell_type": "code",
   "execution_count": null,
   "metadata": {},
   "outputs": [],
   "source": [
    "response.json()"
   ]
  },
  {
   "cell_type": "markdown",
   "metadata": {},
   "source": [
    "That is better"
   ]
  },
  {
   "cell_type": "code",
   "execution_count": null,
   "metadata": {},
   "outputs": [],
   "source": [
    "def get_temp(city):\n",
    "    ow_endpoint = \"http://api.openweathermap.org/data/2.5/weather\"\n",
    "    \n",
    "    with open(\"api-key.txt\",\"r\") as fh:\n",
    "        api_key = fh.read().strip()\n",
    "    \n",
    "    \n",
    "    \n",
    "    parameters = {\n",
    "        \"q\":city,\n",
    "        \"appid\":api_key,\n",
    "        \"units\": \"imperial\" #MERCA\n",
    "    }\n",
    "\n",
    "    response = requests.get(ow_endpoint, params=parameters)\n",
    "    return response.json()['main']['temp']"
   ]
  },
  {
   "cell_type": "code",
   "execution_count": null,
   "metadata": {},
   "outputs": [],
   "source": [
    "get_temp(\"Pittsburgh\")"
   ]
  },
  {
   "cell_type": "code",
   "execution_count": null,
   "metadata": {},
   "outputs": [],
   "source": [
    "get_temp(\"Paris\")"
   ]
  },
  {
   "cell_type": "code",
   "execution_count": null,
   "metadata": {},
   "outputs": [],
   "source": [
    "get_temp(\"Los Angeles\")"
   ]
  },
  {
   "cell_type": "code",
   "execution_count": null,
   "metadata": {},
   "outputs": [],
   "source": [
    "get_temp(\"McMurdo Station\")"
   ]
  },
  {
   "cell_type": "code",
   "execution_count": null,
   "metadata": {},
   "outputs": [],
   "source": []
  }
 ],
 "metadata": {
  "kernelspec": {
   "display_name": "Python 3",
   "language": "python",
   "name": "python3"
  },
  "language_info": {
   "codemirror_mode": {
    "name": "ipython",
    "version": 3
   },
   "file_extension": ".py",
   "mimetype": "text/x-python",
   "name": "python",
   "nbconvert_exporter": "python",
   "pygments_lexer": "ipython3",
   "version": "3.8.5"
  }
 },
 "nbformat": 4,
 "nbformat_minor": 4
}
