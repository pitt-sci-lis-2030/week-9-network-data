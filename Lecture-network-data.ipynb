{
 "cells": [
  {
   "cell_type": "markdown",
   "metadata": {},
   "source": [
    "# Week 9 Lecture - Network Data\n",
    "\n",
    "Topics\n",
    "- Getting Data from the Web\n",
    "- Application Programming Interfaces (APIs)\n",
    "- Hypertext Transfer Protocol (HTTP)\n",
    "- Using APIs\n",
    "- HTTP in Python with Requests"
   ]
  },
  {
   "cell_type": "markdown",
   "metadata": {},
   "source": [
    "## Getting Data from the Web"
   ]
  },
  {
   "cell_type": "markdown",
   "metadata": {},
   "source": [
    "So far we have been getting data into Python via 2 ways:\n",
    "1. Typing it literally into our code as `ints`, `floats`, `strings` (and then structuring that data with lists and dictionaries)\n",
    "2. Readings plain text or JSON files from disk using `open()` (and then structuring that data with lists and dictionaries) \n",
    "\n",
    "There is also a third way to get data. We can also retrieve data from *the web* (and then structure that data with lists and dictionaries). \n",
    "\n",
    "While we can technically extract data from any website, it can be difficult (this involves a technique called [*web scraping*](https://librarycarpentry.org/lc-webscraping/), which is programmatically extracting data from HTML pages.\n",
    "\n",
    "To make this process easier, many websites provide an API or Application Progamming Interface that makes getting data *much* easier."
   ]
  },
  {
   "cell_type": "markdown",
   "metadata": {},
   "source": [
    "## Application Programming Interfaces "
   ]
  },
  {
   "cell_type": "code",
   "execution_count": 51,
   "metadata": {},
   "outputs": [
    {
     "data": {
      "image/jpeg": "[encoded data removed]",
      "text/html": [
       "\n",
       "        <iframe\n",
       "            width=\"600\"\n",
       "            height=\"300\"\n",
       "            src=\"https://www.youtube.com/embed/OVvTv9Hy91Q\"\n",
       "            frameborder=\"0\"\n",
       "            allowfullscreen\n",
       "        ></iframe>\n",
       "        "
      ],
      "text/plain": [
       "<IPython.lib.display.YouTubeVideo at 0x7ff0c0a3f6a0>"
      ]
     },
     "execution_count": 51,
     "metadata": {},
     "output_type": "execute_result"
    }
   ],
   "source": [
    "# https://www.youtube.com/watch?v=OVvTv9Hy91Q\n",
    "from IPython.display import YouTubeVideo\n",
    "YouTubeVideo(\"OVvTv9Hy91Q\", width=\"600\")"
   ]
  },
  {
   "cell_type": "markdown",
   "metadata": {},
   "source": [
    "### Web APIs\n",
    "\n",
    "We have already been using a bunch of APIs in this course.\n",
    "\n",
    "Every Python module we have loaded from the [standard library](https://docs.python.org/3/library/index.html) has an API.\n",
    "\n",
    "The [String Methods](https://docs.python.org/3/library/stdtypes.html#string-methods) we discussed in [week 5](https://github.com/pitt-sci-lis-2030/week-5-collections/blob/main/Lecture-2-strings.ipynb) provides an API for string manipulation. \n",
    "\n",
    "They are a *menu* of functions for performing complex operations on the strings. You call the method and let Python handle the complexity of stripping white space, replacing characters, or capitalizing the first character.\n",
    "\n",
    "The string methods are an example of a Python programming API. There is another kind of API called [*web APIs*](https://en.wikipedia.org/wiki/Web_API) or [*web services*](https://en.wikipedia.org/wiki/Web_service) that use the World Wide Web as an interface."
   ]
  },
  {
   "cell_type": "markdown",
   "metadata": {},
   "source": [
    "## Hypertext Transfer Protocol - The Lingua Franca of the Web"
   ]
  },
  {
   "cell_type": "markdown",
   "metadata": {},
   "source": [
    "![Http Slides](http-slides/Slide1.jpeg)\n",
    "![Http Slides](http-slides/Slide2.jpeg)\n",
    "![Http Slides](http-slides/Slide3.jpeg)\n",
    "![Http Slides](http-slides/Slide4.jpeg)\n",
    "![Http Slides](http-slides/Slide5.jpeg)\n",
    "![Http Slides](http-slides/Slide6.jpeg)\n",
    "![Http Slides](http-slides/Slide7.jpeg)\n",
    "![Http Slides](http-slides/Slide8.jpeg)\n",
    "![Http Slides](http-slides/Slide9.jpeg)\n",
    "![Http Slides](http-slides/Slide10.jpeg)\n",
    "![Http Slides](http-slides/Slide11.jpeg)\n",
    "![Http Slides](http-slides/Slide12.jpeg)\n",
    "![Http Slides](http-slides/Slide13.jpeg)\n"
   ]
  },
  {
   "cell_type": "markdown",
   "metadata": {},
   "source": [
    "HTTP is the protocol or language of web browsers and web servers, but also of many other services and applications (many mobile apps use HTTP to get data).\n",
    "\n",
    "Not just for HTML web pages, you can transfer anything via HTTP. \n",
    "\n",
    "This is how Web APIs work."
   ]
  },
  {
   "cell_type": "markdown",
   "metadata": {},
   "source": [
    "## Getting Data from APIs with a Web Browser\n",
    "\n",
    "Because Web APIs use HTTP and Web Browsers speak HTTP. We can use a web browser to play around with some APIs.\n",
    "\n",
    "But, how do you know if an API exists?\n",
    "\n",
    "[You have search for it](https://duckduckgo.com/?q=library+of+congress+api&t=h_&ia=web)\n",
    "\n",
    "And then, how do you use an api?\n",
    "\n",
    "[You have to read the documentation](https://labs.loc.gov/lc-for-robots/)"
   ]
  },
  {
   "cell_type": "markdown",
   "metadata": {},
   "source": [
    "### Library of Congress API\n",
    "\n",
    "If we [look at the documentation for the LOC JSON API](https://libraryofcongress.github.io/data-exploration/) we can see there is a page specifically about making [requests](https://libraryofcongress.github.io/data-exploration/requests.html). You will often see the language of *request* and *response* from an API. That is inherited language from the HTTP protocol underneath.\n",
    "\n",
    "According to the LOC documentation:\n",
    "\n",
    "> All URLs start with `https://www.loc.gov/` and should include `fo=json` as a parameter to get JSON\n",
    "> No API key or authentication is required.\n",
    "\n",
    "What this means is if we add the HTTP parameter `fo=json` to any LOC page, we can get the JSON representation of that page!"
   ]
  },
  {
   "cell_type": "markdown",
   "metadata": {},
   "source": [
    "Here is a item in the LOC collection about Pittsburgh: https://www.loc.gov/item/75696521/ \n",
    "\n",
    "Now, here is the same page, but for ROBOTS: https://www.loc.gov/item/75696521/?fo=json\n",
    "\n",
    "Notice there is a `?fo=json`. This \n",
    "\n",
    "You can do this on ANY webpage:\n",
    "- The front page: https://loc.gov/?fo=json\n",
    "- Cats: https://www.loc.gov/item/2004670356/?fo=json\n",
    "- Search Results: https://www.loc.gov/search/?in=&q=Pittsburgh&new=true&fo=json\n",
    "- Trending Content: https://www.loc.gov/?fo=json&at=trending_content \n",
    "\n",
    " The `?` in the URL means the beginning of an HTTP parameter (key/value pair). Each HTTP parameter is a key, and equals(`=`), and a value.\n",
    "\n",
    "Notice there are multiple HTTP parameters in the last two examples. Each of these is separated by an ampersand (`&`). This is technically called a [*query string*](https://en.wikipedia.org/wiki/Query_string).\n",
    "\n",
    "One way to think of Web APIs are like functions in Python. \n",
    "- The URL is the name of the function - `https://www.loc.gov/search/`\n",
    "- The query string are the arguments or parameters - `?in=&q=cats&new=true&fo=json`\n",
    "\n",
    "So if we had an **IMAGINARY** Python library, we might **imagine** the web api working like this:\n",
    "\n",
    "```python\n",
    "import loc\n",
    "\n",
    "cat_results = loc.search(q=\"cat\", new=True, fo=\"JSON\") \n",
    "print(cat_results)\n",
    "```\n",
    "```json\n",
    "...\n",
    " \"results\": [\n",
    "    {\n",
    "      \"access_restricted\": false,\n",
    "      \"aka\": [\n",
    "        \"https://www.loc.gov/pictures/item/2004670356/\",\n",
    "        \"http://www.loc.gov/item/2004670356/\",\n",
    "        \"http://www.loc.gov/pictures/item/2004670356/\",\n",
    "        \"https://www.loc.gov/pictures/collection/pga/item/2004670356/\",\n",
    "        \"http://www.loc.gov/pictures/collection/pga/item/2004670356/\",\n",
    "        \"http://hdl.loc.gov/loc.pnp/cph.3b24415\",\n",
    "        \"http://hdl.loc.gov/loc.pnp/pga.07149\",\n",
    "        \"http://www.loc.gov/resource/pga.07149/\",\n",
    "        \"http://www.loc.gov/resource/cph.3b24415/\",\n",
    "        \"http://lccn.loc.gov/2004670356\"\n",
    "      ],\n",
    "      \"campaigns\": [],\n",
    "      \"contributor\": [\n",
    "        \"hunter, thomas\",\n",
    "        \"hunter, thomas, approximately 1828-approximately 1894\"\n",
    "      ],\n",
    "      \"date\": \"1874\",\n",
    "      \"dates\": [\n",
    "        \"1874-01-01T00:00:00Z\"\n",
    "      ],\n",
    "      \"description\": [\n",
    "        \"1 print : tinted lithograph ; sheet 48.5 x 57.3 cm. | Print shows the faces and front paws of two sleeping cats.\"\n",
    "      ]\n",
    "...\n",
    "```\n",
    "\n",
    "***NOTE: THE ABOVE CODE IS IMAGINARY AND WILL NOT WORK BECAUSE THERE IS NO PYTHON LIBRARY LIKE THIS***"
   ]
  },
  {
   "cell_type": "markdown",
   "metadata": {},
   "source": [
    "Because LOC provides a Web API, we don't need to have a Python implementaiton, we can use generic tools. This makes it easier for LOC to support many different programming lanaguges."
   ]
  },
  {
   "cell_type": "markdown",
   "metadata": {},
   "source": [
    "## HTTP in Python with Requests\n",
    "\n",
    "Python includes an [HTTP module in the standard library](https://docs.python.org/3/library/http.html). However it is \"low level\" which means the API design can leave some things to be desired. \n",
    "    - Think of building a house from scratch vs. [buying one from Ikea](https://www.boklok.co.uk)\n",
    "    \n",
    "    \n",
    "Because communicating with APIs via HTTP is so common, a software developer named [Ken Reitz](https://kenreitz.org) created a third-party Python library called [Requests](https://requests.readthedocs.io/en/master/).\n",
    "\n",
    "\"**Requests** is an elegant and simple HTTP library for Python, built for human beings.\"\n",
    "\n"
   ]
  },
  {
   "cell_type": "code",
   "execution_count": null,
   "metadata": {},
   "outputs": [],
   "source": [
    "# import the requests python library so we can use it\n",
    "import requests"
   ]
  },
  {
   "cell_type": "code",
   "execution_count": null,
   "metadata": {},
   "outputs": [],
   "source": [
    "# make an HTTP GET request to http://pitt.edu\n",
    "response = requests.get('http://text.npr.org')"
   ]
  },
  {
   "cell_type": "code",
   "execution_count": null,
   "metadata": {},
   "outputs": [],
   "source": [
    "# check the status of the request\n",
    "response.status_code"
   ]
  },
  {
   "cell_type": "markdown",
   "metadata": {},
   "source": [
    "Whew, `200` means [successful response](https://developer.mozilla.org/en-US/docs/Web/HTTP/Status/200)\n",
    "\n",
    "Let's look at the response headers"
   ]
  },
  {
   "cell_type": "code",
   "execution_count": null,
   "metadata": {},
   "outputs": [],
   "source": [
    "response.headers"
   ]
  },
  {
   "cell_type": "markdown",
   "metadata": {},
   "source": [
    "What a bunch of stuff! What data structure is that?\n",
    "\n",
    "OK, now let's look at the actual response data using the `text` property of the response object. Note, text is not a function so there are no parentheses!"
   ]
  },
  {
   "cell_type": "code",
   "execution_count": null,
   "metadata": {},
   "outputs": [],
   "source": [
    "response.text"
   ]
  },
  {
   "cell_type": "markdown",
   "metadata": {},
   "source": [
    "WOWO. This is the raw HTML for http://text.npr.org. Looks like the MATRIX!"
   ]
  },
  {
   "cell_type": "code",
   "execution_count": null,
   "metadata": {},
   "outputs": [],
   "source": []
  },
  {
   "cell_type": "markdown",
   "metadata": {},
   "source": [
    "### Getting Data from APIs with Python"
   ]
  },
  {
   "cell_type": "markdown",
   "metadata": {},
   "source": [
    "The previous example did a basic HTTP request for a web page. The results are intended for human consumption (well technically for consumption by a web browser, which will make the page pretty). \n",
    "\n",
    "We can use the same machinery to access URLs (technically *endpoints*) intended for ROBOTs.\n",
    "\n",
    "Let's visit our favorite dataset in the whole wide world, the [Allegheny County Dog Licenses](https://data.wprdc.org/dataset/allegheny-county-dog-licenses/resource/e16d4ab3-842a-4f39-9ad7-ce5921002280) at the WPRDC.\n",
    "\n",
    "While we can download the entire dataset at once, we can also use the Data API to query the data."
   ]
  },
  {
   "cell_type": "markdown",
   "metadata": {},
   "source": [
    "The WPRDC provides a search interface for each dataset. Let's query for dogs named bud:\n",
    "\n",
    "https://data.wprdc.org/api/3/action/datastore_search?resource_id=e16d4ab3-842a-4f39-9ad7-ce5921002280&q=bud\n",
    "\n",
    "The output is kinda difficult to read, let's access the data with Python!"
   ]
  },
  {
   "cell_type": "code",
   "execution_count": null,
   "metadata": {},
   "outputs": [],
   "source": [
    "# set up our request\n",
    "query = \"bud\"\n",
    "resource_id = \"e16d4ab3-842a-4f39-9ad7-ce5921002280\"\n",
    "endpoint_url = \"https://data.wprdc.org/api/3/action/datastore_search\"\n",
    "# buid a parameters dictioary for requests\n",
    "parameters = {\"resource_id\": resource_id,\n",
    "              \"q\": query}"
   ]
  },
  {
   "cell_type": "code",
   "execution_count": null,
   "metadata": {},
   "outputs": [],
   "source": [
    "# make the request\n",
    "response = requests.get(endpoint_url, params=parameters)"
   ]
  },
  {
   "cell_type": "code",
   "execution_count": null,
   "metadata": {},
   "outputs": [],
   "source": [
    "# check the HTTP status code to see if it executed correctly \n",
    "response.status_code"
   ]
  },
  {
   "cell_type": "code",
   "execution_count": null,
   "metadata": {},
   "outputs": [],
   "source": [
    "# Let's look at the headers out of morbid curiousity\n",
    "response.headers"
   ]
  },
  {
   "cell_type": "code",
   "execution_count": null,
   "metadata": {},
   "outputs": [],
   "source": [
    "# Now let's look at the results\n",
    "response.text"
   ]
  },
  {
   "cell_type": "markdown",
   "metadata": {},
   "source": [
    "What data type is this?"
   ]
  },
  {
   "cell_type": "code",
   "execution_count": null,
   "metadata": {},
   "outputs": [],
   "source": [
    "# Let's parse or decode it from JSON to Python\n",
    "response.json()"
   ]
  },
  {
   "cell_type": "code",
   "execution_count": null,
   "metadata": {},
   "outputs": [],
   "source": [
    "# Reach into the data structure and pull out just the records list.\n",
    "dogs = response.json()['result']['records']\n",
    "len(dogs)"
   ]
  },
  {
   "cell_type": "code",
   "execution_count": null,
   "metadata": {},
   "outputs": [],
   "source": [
    "# Loop over the list of records and print the names, color, and breed\n",
    "for dog in dogs:\n",
    "    dog_info = dog['DogName'].capitalize() + \" is a \" + dog['Color'].capitalize() + \" \" + dog['Breed'].capitalize()\n",
    "    print(dog_info)"
   ]
  },
  {
   "cell_type": "markdown",
   "metadata": {},
   "source": [
    "Let's say we want to search for other dog names, we could wrap our code in a function "
   ]
  },
  {
   "cell_type": "code",
   "execution_count": null,
   "metadata": {},
   "outputs": [],
   "source": [
    "# Create a function that takes a dog name as an parameter and returns a list of dog license records\n",
    "def pgh_dog_search(query):\n",
    "    # ID for the dog data\n",
    "    resource_id = \"e16d4ab3-842a-4f39-9ad7-ce5921002280\"\n",
    "    # wprdc search API\n",
    "    endpoint_url = \"https://data.wprdc.org/api/3/action/datastore_search\"\n",
    "    # create parameters for requests\n",
    "    parameters = {\"resource_id\": resource_id,\n",
    "                  \"q\": query}\n",
    "    response = requests.get(endpoint_url, params=parameters)\n",
    "    return response.json()['result']['records']\n"
   ]
  },
  {
   "cell_type": "code",
   "execution_count": null,
   "metadata": {},
   "outputs": [],
   "source": [
    "# how many dogs named lilo\n",
    "lilos = pgh_dog_search(\"Lilo\")\n",
    "len(lilos)"
   ]
  },
  {
   "cell_type": "code",
   "execution_count": null,
   "metadata": {},
   "outputs": [],
   "source": [
    "lilos"
   ]
  },
  {
   "cell_type": "markdown",
   "metadata": {},
   "source": [
    "### More Complex APIs - Getting the Weather\n",
    "\n",
    "\n",
    "Documentation for [current weather data](https://openweathermap.org/current) from OpenWeather\n",
    "```\n",
    "api.openweathermap.org/data/2.5/weather?q={city name}&appid={API key}\n",
    "```\n",
    "\n",
    "To use the OpenWeather api you need to [create an account](https://home.openweathermap.org/users/sign_up) and they will email you a key.\n",
    "\n",
    "This is your special secret key for accessing the API. It needs to be kept a secret so I only won't publish they key on in the lecture notebook."
   ]
  },
  {
   "cell_type": "code",
   "execution_count": null,
   "metadata": {},
   "outputs": [],
   "source": [
    "api_key = \"<insert API key here>\""
   ]
  },
  {
   "cell_type": "code",
   "execution_count": null,
   "metadata": {},
   "outputs": [],
   "source": [
    "city = \"Pittsburgh\"\n",
    "ow_endpoint = \"http://api.openweathermap.org/data/2.5/weather\"\n",
    "\n",
    "parameters = {\n",
    "    \"q\":city,\n",
    "    \"appid\":api_key\n",
    "}\n"
   ]
  },
  {
   "cell_type": "code",
   "execution_count": null,
   "metadata": {},
   "outputs": [],
   "source": [
    "\n",
    "response = requests.get(ow_endpoint, params=parameters)\n",
    "response.status_code"
   ]
  },
  {
   "cell_type": "code",
   "execution_count": null,
   "metadata": {},
   "outputs": [],
   "source": [
    "response.json()"
   ]
  },
  {
   "cell_type": "markdown",
   "metadata": {},
   "source": [
    "281 degrees YIKES!! "
   ]
  },
  {
   "cell_type": "code",
   "execution_count": null,
   "metadata": {},
   "outputs": [],
   "source": [
    "parameters = {\n",
    "    \"q\":city,\n",
    "    \"appid\":api_key,\n",
    "    \"units\": \"imperial\" #MERCA\n",
    "}\n",
    "\n",
    "response = requests.get(ow_endpoint, params=parameters)\n",
    "response.status_code"
   ]
  },
  {
   "cell_type": "code",
   "execution_count": null,
   "metadata": {},
   "outputs": [],
   "source": [
    "response.json()"
   ]
  },
  {
   "cell_type": "markdown",
   "metadata": {},
   "source": [
    "That is better, looks like a really nice day in Pittsburgh!\n",
    "\n",
    "Let's make a function to check other cities."
   ]
  },
  {
   "cell_type": "code",
   "execution_count": null,
   "metadata": {},
   "outputs": [],
   "source": [
    "def get_temp(city):\n",
    "    ow_endpoint = \"http://api.openweathermap.org/data/2.5/weather\"\n",
    "    \n",
    "    with open(\"api-key.txt\",\"r\") as fh:\n",
    "        api_key = fh.read().strip()\n",
    "    \n",
    "    \n",
    "    \n",
    "    parameters = {\n",
    "        \"q\":city,\n",
    "        \"appid\":api_key,\n",
    "        \"units\": \"imperial\" #MERCA\n",
    "    }\n",
    "\n",
    "    response = requests.get(ow_endpoint, params=parameters)\n",
    "    return response.json()['main']['temp']"
   ]
  },
  {
   "cell_type": "code",
   "execution_count": null,
   "metadata": {},
   "outputs": [],
   "source": [
    "get_temp(\"Pittsburgh\")"
   ]
  },
  {
   "cell_type": "code",
   "execution_count": null,
   "metadata": {},
   "outputs": [],
   "source": [
    "get_temp(\"Paris\")"
   ]
  },
  {
   "cell_type": "code",
   "execution_count": null,
   "metadata": {},
   "outputs": [],
   "source": [
    "get_temp(\"Los Angeles\")"
   ]
  },
  {
   "cell_type": "code",
   "execution_count": null,
   "metadata": {},
   "outputs": [],
   "source": [
    "get_temp(\"McMurdo Station\")"
   ]
  },
  {
   "cell_type": "markdown",
   "metadata": {},
   "source": [
    "### Complex LOC API Queries\n",
    "\n",
    "Here is a [Jupyter Notebook that accesses the Library of Congress API](https://github.com/LibraryOfCongress/data-exploration/blob/master/LOC.gov%20JSON%20API.ipynb) and performs some interesting analysis\n"
   ]
  },
  {
   "cell_type": "markdown",
   "metadata": {},
   "source": [
    "## Why use APIs?\n",
    "\n",
    "- In some cases, like with the WPRDC, it is easier just to download all the data in \"bulk\"\n",
    "    - This makes sense when the dataset is not too big\n",
    "- When the dataset or database is very large, you have to use an API to select *subsets* of the data\n",
    "    - You can't download all of LOC or Twitter\n",
    "- Sometimes there are controls in place to restrict what data you are allowed to access\n",
    "- APIs are not *read only* you can often perform actions with APIs\n",
    "    - Post Tweets\n",
    "    - Create accounts\n",
    "    - Search"
   ]
  },
  {
   "cell_type": "code",
   "execution_count": null,
   "metadata": {},
   "outputs": [],
   "source": []
  }
 ],
 "metadata": {
  "kernelspec": {
   "display_name": "Python 3",
   "language": "python",
   "name": "python3"
  },
  "language_info": {
   "codemirror_mode": {
    "name": "ipython",
    "version": 3
   },
   "file_extension": ".py",
   "mimetype": "text/x-python",
   "name": "python",
   "nbconvert_exporter": "python",
   "pygments_lexer": "ipython3",
   "version": "3.8.5"
  }
 },
 "nbformat": 4,
 "nbformat_minor": 4
}
